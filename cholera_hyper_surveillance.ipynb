{
  "nbformat": 4,
  "nbformat_minor": 0,
  "metadata": {
    "colab": {
      "name": "cholera-hyper-surveillance.ipynb",
      "provenance": [],
      "collapsed_sections": [],
      "toc_visible": true
    },
    "kernelspec": {
      "display_name": "Python 3",
      "name": "python3"
    }
  },
  "cells": [
    {
      "cell_type": "markdown",
      "metadata": {
        "id": "-p9fKvm_stYk"
      },
      "source": [
        "### **SECTION 1: SANITATION DATA**\n",
        "\n",
        "\n",
        "This section describes the process of loading, processing and transformation of the available raw data into the shape and form suitable for clustering algorithms."
      ]
    },
    {
      "cell_type": "markdown",
      "metadata": {
        "id": "If4A8_CEv9e7"
      },
      "source": [
        "### SECTION 1.1: UPLOAD OF DATA TO GOOGLE COLAB\n",
        "\n",
        "The data collected consists of 244 rows (points), each of which has 7 columns (features). The 7 features are:\n",
        "\n",
        "1. Timestamp\n",
        "2. GPS coordinates\n",
        "3. Type of infrastructure component/features of interest\n",
        "4. Rate the sanitary state of the identified feature\n",
        "5. What is the main source of drinking water in the area?\t\n",
        "6. Are water treatment methods observed in the area?\n",
        "7. If yes, what water treatment method is used? If no, why?\n",
        "\n",
        "The first step in the analysis of the data was to upload a file called **sanitation_data.csv** from a local computer to Google Colab using Colab's library as show below (commented out because data had been uploaded to Google Colab at the time of writing this report):\n",
        "\n"
      ]
    },
    {
      "cell_type": "code",
      "metadata": {
        "id": "rp9OXSMsyf0u"
      },
      "source": [
        "########## LEAVE THIS COMMENTED BECAUSE THE FILE HAS BEEN UPLOADED ##########\n",
        "#from google.colab import files\n",
        "#sanitation_data = files.upload()\n",
        "#elevations_json_data = files.upload()"
      ],
      "execution_count": 1898,
      "outputs": []
    },
    {
      "cell_type": "markdown",
      "metadata": {
        "id": "nMxAbgYr0EBD"
      },
      "source": [
        "### SECTION 1.2: PANDAS DATAFRAME\n",
        "\n",
        "The data from **sanitation_data.csv** was read and converted to Pandas Data Frame using the Pandas library as shown below:"
      ]
    },
    {
      "cell_type": "code",
      "metadata": {
        "colab": {
          "base_uri": "https://localhost:8080/"
        },
        "id": "iY-wEot-0ys2",
        "outputId": "aed4a5ad-9168-4697-9d8a-66216a62a20e"
      },
      "source": [
        "import pandas as pd\n",
        "sanitation_data = pd.read_csv(\"sanitation_data.csv\")\n",
        "\n",
        "# shuffle the DataFrame rows\n",
        "#sanitation_data = sanitation_data.sample(frac = 1)\n",
        "\n",
        "sanitation_data[\"Type of infrastructure component/features of interest\"] = sanitation_data[\"Type of infrastructure component/features of interest\"].replace(['municipal water ','County  council ', 'County water'],'Community water point')\n",
        "sanitation_data[\"Type of infrastructure component/features of interest\"] = sanitation_data[\"Type of infrastructure component/features of interest\"].replace(['Garbage','Gabbage','Garvage'],'Solid waste site')\n",
        "sanitation_data[\"Type of infrastructure component/features of interest\"] = sanitation_data[\"Type of infrastructure component/features of interest\"].replace(['Borehole','Tap water', 'Rain water'],'Other infrastructures')\n",
        "print(sanitation_data[\"Type of infrastructure component/features of interest\"].value_counts())\n",
        "\n",
        "\n",
        "\n",
        "sanitation_data[\"What is the main source of drinking water in the area?\"] = sanitation_data[\"What is the main source of drinking water in the area?\"].replace(['Borhole','Borehole ', 'Borohol','borehole','Bowhole','Bohole','Borehole water', 'Piped and borehole','Bore hole','Borehol','Tap water/ borehole water'],'Borehole')\n",
        "sanitation_data[\"What is the main source of drinking water in the area?\"] = sanitation_data[\"What is the main source of drinking water in the area?\"].replace(['Bottle water','Bottled water ','bottled','Bottlled water','Bottled and tap water '],'Bottled water')\n",
        "sanitation_data[\"What is the main source of drinking water in the area?\"] = sanitation_data[\"What is the main source of drinking water in the area?\"].replace(['River','river','Rever'],'River water')\n",
        "sanitation_data[\"What is the main source of drinking water in the area?\"] = sanitation_data[\"What is the main source of drinking water in the area?\"].replace(['Running tap water','tap water ','tap water','Tap','Tap water ','Tap from olerai ','Running tap'],'Tap water')\n",
        "sanitation_data[\"What is the main source of drinking water in the area?\"] = sanitation_data[\"What is the main source of drinking water in the area?\"].replace(['Community water point','Tap water from community water centre','Tap/kanjo ','Citycouncil water','Community water tank ','community water point','Community water tank','Kanjo water '],'Community water point')\n",
        "sanitation_data[\"What is the main source of drinking water in the area?\"] = sanitation_data[\"What is the main source of drinking water in the area?\"].replace(['Stotage tank','Storage tank','storage tanks','Storage water tank','Water tank'],'Water storage tank')\n",
        "sanitation_data[\"What is the main source of drinking water in the area?\"] = sanitation_data[\"What is the main source of drinking water in the area?\"].replace(['rain water','Rain water/ tap water','Rain water/tapwater', 'Rain water', 'run off', 'run off water', 'Run off water'], 'Other Sources')\n",
        "sanitation_data[\"What is the main source of drinking water in the area?\"] = sanitation_data[\"What is the main source of drinking water in the area?\"].replace(['Water vendor','refill water','Refill','water refill points','donkey cart','Water refil'],'Water refill')\n",
        "sanitation_data[\"What is the main source of drinking water in the area?\"] = sanitation_data[\"What is the main source of drinking water in the area?\"].replace(['piped water','Piped','piped'],'Water pipe')\n",
        "sanitation_data[\"What is the main source of drinking water in the area?\"] = sanitation_data[\"What is the main source of drinking water in the area?\"].replace(['Non','Non '],'None')\n",
        "print(sanitation_data[\"What is the main source of drinking water in the area?\"].value_counts())\n",
        "\n",
        "\n",
        "\n",
        "\n",
        "\n",
        "sanitation_data[\"If yes, what water treatment method is used? If no, why?\"] = sanitation_data[\"If yes, what water treatment method is used? If no, why?\"].replace(['Crolin','chlorine and water guard','Whater gurd','Watergaurd','Water guard','chlorinated and purified','Chlorine treated ','Chlorine','Chlorine treatment ','Chrorin','chlorine','chlorination','Chlorinating','Chlorinated'],'Chlorination')\n",
        "sanitation_data[\"If yes, what water treatment method is used? If no, why?\"] = sanitation_data[\"If yes, what water treatment method is used? If no, why?\"].replace(['Not sure if treated','Not sure','Not sure which one','The vendor is unaware','Not aware','lack of awareness','Unaware','lack of knowledge','they dont care','Lack of awareness','They have no idea','lack of knowlegde on water treatment methods','ignorance'],'Ignorance')\n",
        "sanitation_data[\"If yes, what water treatment method is used? If no, why?\"] = sanitation_data[\"If yes, what water treatment method is used? If no, why?\"].replace(['Boiling and watergaurd','chlorine and boiling.','Chlorination, boiling','boiling','Boiling water','boiling/chlorination'],'Boiling')\n",
        "sanitation_data[\"If yes, what water treatment method is used? If no, why?\"] = sanitation_data[\"If yes, what water treatment method is used? If no, why?\"].replace(['They buy mostly bottled drinking water ','Bought water','People buy bottled water','The area uses bottled bought drinking water, then we have no treatment methods around the area.'],'Bottled water')\n",
        "sanitation_data[\"If yes, what water treatment method is used? If no, why?\"] = sanitation_data[\"If yes, what water treatment method is used? If no, why?\"].replace(['Lack of proper chemicals','expense',\"They can't afford it\",'Too expensive'],'Expensive')\n",
        "sanitation_data[\"If yes, what water treatment method is used? If no, why?\"] = sanitation_data[\"If yes, what water treatment method is used? If no, why?\"].replace(['Government county council ','Council ','Not sure says its from the city council','Treated well','Treated from the water source','City council treated '],'City council')\n",
        "sanitation_data[\"If yes, what water treatment method is used? If no, why?\"] = sanitation_data[\"If yes, what water treatment method is used? If no, why?\"].replace(['None observed ','None observed','No water point observed','Cleaned tanks','None','Reservation','None obsevered ','Watertank','There are none','Water tank','No tanks','Running dirty water','Water ','already treated','No storage facility ','No storage tanks','Its borehole water','They drink directly from tap','No treatment plant ','None ','Direct from the tap.  ','There’s no area with such facility or sale of treatment ','We haven’t identified any treatment method around','Floating sewarage water'],'None / Unclear response')\n",
        "sanitation_data[\"If yes, what water treatment method is used? If no, why?\"] = sanitation_data[\"If yes, what water treatment method is used? If no, why?\"].replace(['purification and filtration','purification and filtration.','filtration','Water dispenser','Purification','Decantation'],'Other methods')\n",
        "print(sanitation_data[\"If yes, what water treatment method is used? If no, why?\"].value_counts())\n",
        "\n",
        "\n"
      ],
      "execution_count": 1899,
      "outputs": [
        {
          "output_type": "stream",
          "text": [
            "Run off water/sewer line    46\n",
            "Water storage tank          40\n",
            "Community water point       40\n",
            "Solid waste site            37\n",
            "Public/shared toilets       33\n",
            "Open water bodies           31\n",
            "Manhole                     12\n",
            "Other infrastructures        5\n",
            "Name: Type of infrastructure component/features of interest, dtype: int64\n",
            "Borehole                 84\n",
            "Tap water                76\n",
            "Water refill             26\n",
            "Water storage tank       13\n",
            "Bottled water            12\n",
            "Community water point    11\n",
            "River water               7\n",
            "Other Sources             6\n",
            "Water pipe                5\n",
            "None                      4\n",
            "Name: What is the main source of drinking water in the area?, dtype: int64\n",
            "Chlorination               108\n",
            "Ignorance                   52\n",
            "None / Unclear response     32\n",
            "Boiling                     27\n",
            "Other methods               10\n",
            "City council                 6\n",
            "Expensive                    5\n",
            "Bottled water                4\n",
            "Name: If yes, what water treatment method is used? If no, why?, dtype: int64\n"
          ],
          "name": "stdout"
        }
      ]
    },
    {
      "cell_type": "markdown",
      "metadata": {
        "id": "SzMNcmKv1eoI"
      },
      "source": [
        "### SECTION 1.3: REMOVAL OF TIMESTAMP COLUMN\n",
        "\n",
        "The first column of the **sanitation_data** dataframe obtained in SECTION 1.2 contained **Timestamp** column which was removed as follows:"
      ]
    },
    {
      "cell_type": "code",
      "metadata": {
        "id": "rcmqFV3-2fVB"
      },
      "source": [
        "sanitation_data = sanitation_data.drop([\"Timestamp\"],axis=1)"
      ],
      "execution_count": 1900,
      "outputs": []
    },
    {
      "cell_type": "markdown",
      "metadata": {
        "id": "s8rOuTX53Bnv"
      },
      "source": [
        "### SECTION 1.4: DECOUPLING OF GPS COORDINATES\n",
        "\n",
        "The **GPS Coordinates** column of the sanitation data was in the form of a string **\"latitude, longitude\"**. This form of representation was decoupled into separate numerical **latitude** and **longitude** columns as follows:"
      ]
    },
    {
      "cell_type": "code",
      "metadata": {
        "id": "j11mTrpP4AEa"
      },
      "source": [
        "temp= sanitation_data[['GPS coordinates']]\n",
        "lat_long_sanitation=pd.DataFrame()\n",
        "lat_long_sanitation[['latitude','longitude']] = temp['GPS coordinates'].str.split(',',expand=True).astype(float)"
      ],
      "execution_count": 1901,
      "outputs": []
    },
    {
      "cell_type": "markdown",
      "metadata": {
        "id": "lsNj0Fit4WhG"
      },
      "source": [
        "### SECTION 1.5: DREMOVAL OF GPS COORDINATES COLUMN\n",
        "The **GPS Coordinates** column was then removed from the dataframe as follows:"
      ]
    },
    {
      "cell_type": "code",
      "metadata": {
        "id": "ehpYz3W248f5"
      },
      "source": [
        "sanitation_data = sanitation_data.drop(['GPS coordinates'], axis=1)\n",
        "#print(sanitation_data.head())"
      ],
      "execution_count": 1902,
      "outputs": []
    },
    {
      "cell_type": "markdown",
      "metadata": {
        "id": "lLEM-bAb7Ty3"
      },
      "source": [
        "At this point, there are two Pandas dataframes.\n",
        "\n",
        "The **sanitation_data** with the following columns:\n",
        "\n",
        "1. Type of infrastructure component/features of interest\n",
        "2. Rate the sanitary state of the identified feature\n",
        "3. What is the main source of drinking water in the area?\n",
        "4. Are water treatment methods observed in the area?\n",
        "5. If yes, what water treatment method is used? If no, why?\n",
        "\n",
        "The **lat_long_sanitation** with the following columns:\n",
        "\n",
        "1. latitude\n",
        "2. longitude"
      ]
    },
    {
      "cell_type": "markdown",
      "metadata": {
        "id": "3ILIz-9-8Ap9"
      },
      "source": [
        "### SECTION 1.6: INSERTION OF ELEVATION COLUMN INTO lat_long_sanitation\n",
        "\n",
        "The **GPS Coordinates** column described in SECTION 1.4 resulted into only two separate numerical columns for latitudes and longitudes. A third column, called **elevation**, which contained heights at the corresponding longitudes and latitudes was added with the help of [Google's Point Elevation API](https://developers.google.com/maps/documentation/elevation/overview). The API simply returns a json file with the heights for each latitude-longitude pair. This file was renamed to **elevations_data.json**. The following code shows how this API can be used."
      ]
    },
    {
      "cell_type": "code",
      "metadata": {
        "id": "_BWk8UXXAjjs"
      },
      "source": [
        "temp=lat_long_sanitation.to_csv(header=None, index=False).split('\\n')\n",
        "lat_long_API = '|'.join([str(elem) for elem in temp]) \n",
        "lat_long_API = lat_long_API[0:-1]\n",
        "#print(lat_long_API)\n",
        "#https://maps.googleapis.com/maps/api/elevation/json?locations=lat_long_API&key=YOUR_API_KEY"
      ],
      "execution_count": 1903,
      "outputs": []
    },
    {
      "cell_type": "markdown",
      "metadata": {
        "id": "gZvc_aIhCzE7"
      },
      "source": [
        "The file **elevations_data.json** was uploaded to Google Colab in SECTION 1.1 along with **sanitation_data.csv**"
      ]
    },
    {
      "cell_type": "markdown",
      "metadata": {
        "id": "rUA98WD1DxLf"
      },
      "source": [
        "All the elevations from **elevations_data.json** were loaded into **elevations** list as follows:"
      ]
    },
    {
      "cell_type": "code",
      "metadata": {
        "id": "aoHpLy0BEAUA"
      },
      "source": [
        "import json\n",
        "\n",
        "with open('elevations_data.json') as f:\n",
        "  elevations_data = json.load(f)\n",
        "\n",
        "elevations = []\n",
        "\n",
        "for i in elevations_data[\"results\"]:\n",
        "  elevations.append(i.get(\"elevation\"))"
      ],
      "execution_count": 1904,
      "outputs": []
    },
    {
      "cell_type": "markdown",
      "metadata": {
        "id": "sEzQNxe8FQgW"
      },
      "source": [
        "The elevations of the **elevations** list were joined with the latitudes and longitudes of the **lat_long_sanitation** dataframe to form **lat_long_ele_sanitation** dataframe as follows:"
      ]
    },
    {
      "cell_type": "code",
      "metadata": {
        "id": "27Pco17yGfaq"
      },
      "source": [
        "lat_long_ele_sanitation = lat_long_sanitation\n",
        "lat_long_ele_sanitation[\"elevation\"] = elevations"
      ],
      "execution_count": 1905,
      "outputs": []
    },
    {
      "cell_type": "markdown",
      "metadata": {
        "id": "GKmZIFDWHtb_"
      },
      "source": [
        "### SECTION 1.7: TRANSFORMATION OF LATITUDES, LONGITUDES, AND ELEVATIONS INTO X, Y,  Z COORDINATES"
      ]
    },
    {
      "cell_type": "markdown",
      "metadata": {
        "id": "75a0MkBlIRB9"
      },
      "source": [
        "By this point, there are three Pandas dataframes. \n",
        "\n",
        "The **sanitation_data** with the following columns:\n",
        "1. Type of infrastructure component/features of interest\n",
        "2. Rate the sanitary state of the identified feature\n",
        "3. What is the main source of drinking water in the area?\n",
        "4. Are water treatment methods observed in the area?\n",
        "5. If yes, what water treatment method is used? If no, why?\n",
        "\n",
        "\n",
        "The **lat_long_sanitation** with the following columns:\n",
        "1. latitude\n",
        "2. longitude\n",
        "\n",
        "and the **lat_long_elev_sanitation** with the following columns:\n",
        "1. latitude\n",
        "2. longitude\n",
        "3. elevation\n",
        "\n",
        "\n",
        "Since the latitudes, longitudes, and elevations are angular measurements, they can't be linearly scalled to produce meaningul results in clustering algorithms such as **K-means**, which is one of the clustering algorithms to be covered in SECTION 2."
      ]
    },
    {
      "cell_type": "markdown",
      "metadata": {
        "id": "WAeGXPwIKDA9"
      },
      "source": [
        "### SECTION 1.7.1: GEODETIC TO ECEF CONVERSION\n",
        "\n",
        "One of the common ways of converting latitudes ($\\phi$), longitudes ($\\lambda$), and elevation ($h$) from their polar form to their linear/cartesian form (X,Y,Z) is called Geodetic to ECEF (acronym for earth-centered, earth-fixed) conversion.\n",
        "\n",
        "In this conversion, we have:\n",
        "\n",
        "$X = (N(\\phi)+h)cos(\\phi)cos(\\lambda)$\n",
        "\n",
        "$Y = (N(\\phi)+h)cos(\\phi)sin(\\lambda)$\n",
        "\n",
        "$Z = \\left(\\frac{b²}{a²}N(\\phi)+h \\right)sin(\\phi)$\n",
        "\n",
        "Where:\n",
        "\n",
        "$N(\\phi)=\\frac{a}{\\sqrt{1-e^{2}sin^2\\phi}}$ and $e^{2}=1-\\frac{b^2}{a^2}$\n",
        "\n",
        "and\n",
        "\n",
        "$a=6378137.0 m$\n",
        "\n",
        "$b=6356752.314245 m m$"
      ]
    },
    {
      "cell_type": "markdown",
      "metadata": {
        "id": "uIuLPSAsLGH_"
      },
      "source": [
        "The following code implements the above set of equations to transform the polar coordinates in **lat_long_ele_sanitation** dataframe to their linear/cartesian equivalent in the **X_Y_Z** dataframe."
      ]
    },
    {
      "cell_type": "code",
      "metadata": {
        "id": "D6SHCcA-O_0u"
      },
      "source": [
        "import math\n",
        "\n",
        "\n",
        "a=6378137.0\n",
        "b=6356752.314245\n",
        "e_squared=1-(b**2)/(a**2)\n",
        "\n",
        "# Latitude (deg), Longitude (deg), Elevation (meters)\n",
        "def geodetic_to_ecef(latitude,longitude,elevation):\n",
        "    \n",
        "    lamb = math.radians(latitude)\n",
        "    phi = math.radians(longitude)\n",
        "    h=elevation\n",
        "\n",
        "\n",
        "\n",
        "    Nphi=a/math.sqrt(1-e_squared*(math.sin(lamb))**2)\n",
        "\n",
        "    sin_lambda = math.sin(lamb)\n",
        "    cos_lambda = math.cos(lamb)\n",
        "    sin_phi = math.sin(phi)\n",
        "    cos_phi = math.cos(phi)\n",
        "\n",
        "    X = (Nphi+h) * cos_lambda * cos_phi\n",
        "    Y = (Nphi+h) * cos_lambda * sin_phi\n",
        "    Z = (((1 - e_squared) * Nphi)+h)* sin_lambda\n",
        "\n",
        "    return X,Y,Z\n",
        "\n",
        "X_Y_Z=lat_long_ele_sanitation.apply(lambda row:geodetic_to_ecef(row[\"latitude\"],row[\"longitude\"],row[\"elevation\"]), axis=1)\n",
        "\n",
        "# Convert the series to Pandas DataFrame\n",
        "X_Y_Z = X_Y_Z.to_frame()\n",
        "X_Y_Z = pd.DataFrame(X_Y_Z[0].to_list(), columns=['X','Y','Z'])\n",
        "\n",
        "\n",
        "#print(X_Y_Z)\n",
        "#print(sanitation_data)"
      ],
      "execution_count": 1906,
      "outputs": []
    },
    {
      "cell_type": "markdown",
      "metadata": {
        "id": "IxrmNQdSQrNI"
      },
      "source": [
        "### SECTION 1.7.2: COMBINING TRANSFORMED COORDINATES WITH REST OF DATA\n",
        "\n",
        "The following code shows the joining of **X_Y_Z** dataframe to **sanitation_data** dataframe to form the **xyz_sanitation_data** dataframe that has the basic form for clustering in SECTION 2."
      ]
    },
    {
      "cell_type": "code",
      "metadata": {
        "id": "2TozgOBXSn_P"
      },
      "source": [
        "x_y_z_sanitation_data = pd.DataFrame()\n",
        "x_y_z_sanitation_data = pd.concat([X_Y_Z,sanitation_data], axis=1)\n",
        "#print(x_y_z_sanitation_data)"
      ],
      "execution_count": 1907,
      "outputs": []
    },
    {
      "cell_type": "markdown",
      "metadata": {
        "id": "Dig1sYYv3tui"
      },
      "source": [
        "======================================================================================================================================================================================================================================"
      ]
    },
    {
      "cell_type": "markdown",
      "metadata": {
        "id": "_DAzKxWctnXb"
      },
      "source": [
        "# SECTION 2: DATA CLUSTERING\n",
        "This section aims to leverage on some of the popular clustering algorithms available today to determine if there is any relationship between the different variables of the sanitation data provided. This section will also take a look at possible spacial distribution of different data points."
      ]
    },
    {
      "cell_type": "markdown",
      "metadata": {
        "id": "ra_ouNsvZzlS"
      },
      "source": [
        "### SECTION 2.1: GOWER'S SIMILARITY MATRIX \n",
        "\n",
        "Since the transformed data, **xyz_sanitation_data** (SECTION 1.7.2), contains both numerical and categorical information, it may not be apparent which of the variables are similar, or disimilar. **Gower's matrix** computes the similarities/disimilarities of mixed variables (numerical and categorical) in data by calculating all the pair-wise distances between every data point within the data.\n",
        "Gower's similarity matrix can therefore be applied to **xyz_sanitation_data** dataframe since X, Y, Z and the \"Rate the sanitary state\" are numerical, while the rest of the variables are categorical.\n",
        "\n",
        "A 0 distance means the variable(s) are 100% similar (distance to itself), and a 1 means the variables are 100% disimilar (the opposite).\n",
        "\n",
        "In other words, the closer the Gower's score is close to 0, the higher the similarity between the variables, and therefore, these variables are more likely to be grouped or clustered together.\n",
        "\n"
      ]
    },
    {
      "cell_type": "markdown",
      "metadata": {
        "id": "g7Qy7SzgksX9"
      },
      "source": [
        "### SECTION 2.1.1: APPLICATION OF GOWER'S MATRIX ON SANITATION DATA\n",
        "\n",
        "This section will take a look at potential application of the Gower's Similarity Matrix on the data provided.\n",
        "The code below installs and imports gower and other libraries."
      ]
    },
    {
      "cell_type": "code",
      "metadata": {
        "colab": {
          "base_uri": "https://localhost:8080/"
        },
        "id": "P_TYQcyjlQMG",
        "outputId": "95c266ae-0f34-4fe1-c721-eec24703de44"
      },
      "source": [
        "####################################################################\n",
        "print(\"********************************************\")\n",
        "!pip install gower\n",
        "print(\"********************************************\")\n",
        "import gower\n",
        "import numpy as np\n",
        "####################################################################"
      ],
      "execution_count": 1908,
      "outputs": [
        {
          "output_type": "stream",
          "text": [
            "********************************************\n",
            "Requirement already satisfied: gower in /usr/local/lib/python3.7/dist-packages (0.0.5)\n",
            "Requirement already satisfied: scipy in /usr/local/lib/python3.7/dist-packages (from gower) (1.4.1)\n",
            "Requirement already satisfied: numpy in /usr/local/lib/python3.7/dist-packages (from gower) (1.19.5)\n",
            "********************************************\n"
          ],
          "name": "stdout"
        }
      ]
    },
    {
      "cell_type": "markdown",
      "metadata": {
        "id": "N182PceZlgTo"
      },
      "source": [
        "A single line of code using the gower library on the **sanitation_data** dataframe is all that is needed to produce a 244x244 square matrix (since there are 244 data points as mentioned in SECTION 1.1). The leading diagonal of the reulting square matrix are all 0s (because the data point calculates distance to itself). Below is the code:"
      ]
    },
    {
      "cell_type": "code",
      "metadata": {
        "colab": {
          "base_uri": "https://localhost:8080/"
        },
        "id": "FhH4KEYXofmW",
        "outputId": "a8412236-f616-4c62-804d-cde2a60488db"
      },
      "source": [
        "####################################################################\n",
        "similarity_matrix=gower.gower_matrix(sanitation_data[[\"Rate the sanitary state of the identified feature\",\"Type of infrastructure component/features of interest\",\"Are water treatment methods observed in the area?\"]])\n",
        "print(similarity_matrix)\n",
        "####################################################################"
      ],
      "execution_count": 1909,
      "outputs": [
        {
          "output_type": "stream",
          "text": [
            "[[0.         0.05555556 0.5555556  ... 0.33333334 0.3888889  0.5555556 ]\n",
            " [0.05555556 0.         0.6111111  ... 0.3888889  0.44444445 0.6111111 ]\n",
            " [0.5555556  0.6111111  0.         ... 0.8888889  0.8333333  0.        ]\n",
            " ...\n",
            " [0.33333334 0.3888889  0.8888889  ... 0.         0.05555556 0.8888889 ]\n",
            " [0.3888889  0.44444445 0.8333333  ... 0.05555556 0.         0.8333333 ]\n",
            " [0.5555556  0.6111111  0.         ... 0.8888889  0.8333333  0.        ]]\n"
          ],
          "name": "stdout"
        }
      ]
    },
    {
      "cell_type": "markdown",
      "metadata": {
        "id": "Os4tKU0mmtch"
      },
      "source": [
        "The 244 data points in the dataset can be ranked according to their Gower scores. The lower the score, the higher the similarity. The following function ranks the data points according to their Gower scores, starting from lowest to highest. The function also returns the actual scores of the data points."
      ]
    },
    {
      "cell_type": "code",
      "metadata": {
        "colab": {
          "base_uri": "https://localhost:8080/"
        },
        "id": "znqxg8OmhAfh",
        "outputId": "5fac9b8e-550f-4901-de56-72757ddf832f"
      },
      "source": [
        "####################################################################\n",
        "gower_scores=gower.gower_topn(sanitation_data[[\"Rate the sanitary state of the identified feature\",\"Type of infrastructure component/features of interest\",\"Are water treatment methods observed in the area?\"]], n = 20)\n",
        "print(gower_scores)\n",
        "####################################################################"
      ],
      "execution_count": 1910,
      "outputs": [
        {
          "output_type": "stream",
          "text": [
            "{'index': array([  0,  78,   1,   5,   4, 228,  60, 126, 110, 104, 241,  16,  12,\n",
            "       105,  11,  10, 135, 129, 128,  80]), 'values': array([0.        , 0.        , 0.05555556, 0.05555556, 0.05555556,\n",
            "       0.11111111, 0.22222222, 0.33333334, 0.33333334, 0.33333334,\n",
            "       0.33333334, 0.33333334, 0.33333334, 0.33333334, 0.33333334,\n",
            "       0.33333334, 0.33333334, 0.33333334, 0.33333334, 0.3888889 ],\n",
            "      dtype=float32)}\n"
          ],
          "name": "stdout"
        }
      ]
    },
    {
      "cell_type": "markdown",
      "metadata": {
        "id": "l-_1YIo9aOdc"
      },
      "source": [
        "The following code displays a histogram of the Gower scores such that the left-most scores represent the most similar data points, and the right-most scores represent the most dissimilar data points. The histogram shows that Gower scores range from 0 to about 0.30"
      ]
    },
    {
      "cell_type": "code",
      "metadata": {
        "colab": {
          "base_uri": "https://localhost:8080/",
          "height": 644
        },
        "id": "bzzekK_FaTF0",
        "outputId": "3fa77cd9-c5dd-4b0e-cf76-f83e980cc725"
      },
      "source": [
        "import matplotlib.pyplot as plt\n",
        "plt.rcParams['figure.figsize'] = [10, 10]\n",
        "plt.rcParams.update({'font.size': 18})\n",
        "plt.hist(gower_scores[\"values\"], bins=15)\n",
        "plt.title('HISTOGRAM OF GOWER SCORES')\n",
        "plt.xlabel('Scores')\n",
        "plt.ylabel('Number of Data Points')\n",
        "plt.show()"
      ],
      "execution_count": 1911,
      "outputs": [
        {
          "output_type": "display_data",
          "data": {
            "image/png": "[encoded data removed]",
            "text/plain": [
              "<Figure size 720x720 with 1 Axes>"
            ]
          },
          "metadata": {
            "tags": [],
            "needs_background": "light"
          }
        }
      ]
    },
    {
      "cell_type": "markdown",
      "metadata": {
        "id": "bIfPq2AmX8eZ"
      },
      "source": [
        "The next code shows the first 10 most siilar data points in **sanitation_data** dataframe"
      ]
    },
    {
      "cell_type": "code",
      "metadata": {
        "colab": {
          "base_uri": "https://localhost:8080/"
        },
        "id": "6VyvfKUAYnae",
        "outputId": "5f0ee3fb-70c3-47c9-da1c-b446c63d2eee"
      },
      "source": [
        "idx = gower_scores[\"index\"]\n",
        "\n",
        "lowest_10 = idx[0:14]\n",
        "print(\"*************************************\")\n",
        "for i in lowest_10:\n",
        "  print(sanitation_data.loc[i,:])\n",
        "  print(\"*************************************\")\n",
        "\n",
        "  "
      ],
      "execution_count": 1912,
      "outputs": [
        {
          "output_type": "stream",
          "text": [
            "*************************************\n",
            "Type of infrastructure component/features of interest       Water storage tank\n",
            "Rate the sanitary state of the identified feature                            5\n",
            "What is the main source of drinking water in the area?               Tap water\n",
            "Are water treatment methods observed in the area?                           NO\n",
            "If yes, what water treatment method is used? If no, why?             Ignorance\n",
            "Name: 0, dtype: object\n",
            "*************************************\n",
            "Type of infrastructure component/features of interest            Water storage tank\n",
            "Rate the sanitary state of the identified feature                                 5\n",
            "What is the main source of drinking water in the area?                Bottled water\n",
            "Are water treatment methods observed in the area?                                NO\n",
            "If yes, what water treatment method is used? If no, why?    None / Unclear response\n",
            "Name: 78, dtype: object\n",
            "*************************************\n",
            "Type of infrastructure component/features of interest       Water storage tank\n",
            "Rate the sanitary state of the identified feature                            6\n",
            "What is the main source of drinking water in the area?               Tap water\n",
            "Are water treatment methods observed in the area?                           NO\n",
            "If yes, what water treatment method is used? If no, why?             Ignorance\n",
            "Name: 1, dtype: object\n",
            "*************************************\n",
            "Type of infrastructure component/features of interest       Water storage tank\n",
            "Rate the sanitary state of the identified feature                            6\n",
            "What is the main source of drinking water in the area?               Tap water\n",
            "Are water treatment methods observed in the area?                           NO\n",
            "If yes, what water treatment method is used? If no, why?             Ignorance\n",
            "Name: 5, dtype: object\n",
            "*************************************\n",
            "Type of infrastructure component/features of interest       Water storage tank\n",
            "Rate the sanitary state of the identified feature                            6\n",
            "What is the main source of drinking water in the area?               Tap water\n",
            "Are water treatment methods observed in the area?                           NO\n",
            "If yes, what water treatment method is used? If no, why?             Ignorance\n",
            "Name: 4, dtype: object\n",
            "*************************************\n",
            "Type of infrastructure component/features of interest            Water storage tank\n",
            "Rate the sanitary state of the identified feature                                 3\n",
            "What is the main source of drinking water in the area?           Water storage tank\n",
            "Are water treatment methods observed in the area?                                NO\n",
            "If yes, what water treatment method is used? If no, why?    None / Unclear response\n",
            "Name: 228, dtype: object\n",
            "*************************************\n",
            "Type of infrastructure component/features of interest            Water storage tank\n",
            "Rate the sanitary state of the identified feature                                 1\n",
            "What is the main source of drinking water in the area?        Community water point\n",
            "Are water treatment methods observed in the area?                                NO\n",
            "If yes, what water treatment method is used? If no, why?    None / Unclear response\n",
            "Name: 60, dtype: object\n",
            "*************************************\n",
            "Type of infrastructure component/features of interest       Community water point\n",
            "Rate the sanitary state of the identified feature                               5\n",
            "What is the main source of drinking water in the area?                  Tap water\n",
            "Are water treatment methods observed in the area?                              NO\n",
            "If yes, what water treatment method is used? If no, why?                Ignorance\n",
            "Name: 126, dtype: object\n",
            "*************************************\n",
            "Type of infrastructure component/features of interest       Community water point\n",
            "Rate the sanitary state of the identified feature                               5\n",
            "What is the main source of drinking water in the area?                  Tap water\n",
            "Are water treatment methods observed in the area?                              NO\n",
            "If yes, what water treatment method is used? If no, why?                Ignorance\n",
            "Name: 110, dtype: object\n",
            "*************************************\n",
            "Type of infrastructure component/features of interest       Water storage tank\n",
            "Rate the sanitary state of the identified feature                            5\n",
            "What is the main source of drinking water in the area?            Water refill\n",
            "Are water treatment methods observed in the area?                          YES\n",
            "If yes, what water treatment method is used? If no, why?          Chlorination\n",
            "Name: 104, dtype: object\n",
            "*************************************\n",
            "Type of infrastructure component/features of interest       Water storage tank\n",
            "Rate the sanitary state of the identified feature                            5\n",
            "What is the main source of drinking water in the area?            Water refill\n",
            "Are water treatment methods observed in the area?                          YES\n",
            "If yes, what water treatment method is used? If no, why?          Chlorination\n",
            "Name: 241, dtype: object\n",
            "*************************************\n",
            "Type of infrastructure component/features of interest       Public/shared toilets\n",
            "Rate the sanitary state of the identified feature                               5\n",
            "What is the main source of drinking water in the area?                  Tap water\n",
            "Are water treatment methods observed in the area?                              NO\n",
            "If yes, what water treatment method is used? If no, why?                Ignorance\n",
            "Name: 16, dtype: object\n",
            "*************************************\n",
            "Type of infrastructure component/features of interest       Public/shared toilets\n",
            "Rate the sanitary state of the identified feature                               5\n",
            "What is the main source of drinking water in the area?                  Tap water\n",
            "Are water treatment methods observed in the area?                              NO\n",
            "If yes, what water treatment method is used? If no, why?                Ignorance\n",
            "Name: 12, dtype: object\n",
            "*************************************\n",
            "Type of infrastructure component/features of interest       Water storage tank\n",
            "Rate the sanitary state of the identified feature                            5\n",
            "What is the main source of drinking water in the area?            Water refill\n",
            "Are water treatment methods observed in the area?                          YES\n",
            "If yes, what water treatment method is used? If no, why?          Chlorination\n",
            "Name: 105, dtype: object\n",
            "*************************************\n"
          ],
          "name": "stdout"
        }
      ]
    },
    {
      "cell_type": "markdown",
      "metadata": {
        "id": "lV3vWBdYa65K"
      },
      "source": [
        "From the above output, and using Gower's similary scores, we can conclude that\n",
        "\n",
        "A) Water storage tanks, Public / shared toilets, and Community water points are likely to be grouped/clustered together.\n",
        "\n",
        "B) Tap water is the most common source of drinking water\n",
        "\n",
        "C) In this cluster, \"NO\" is the most common answer to the question \"Are water treatment methods observed in the area?\" \n",
        "\n",
        "D) The answer \"NO\" in (C) above is due to ignorance"
      ]
    },
    {
      "cell_type": "markdown",
      "metadata": {
        "id": "42d4HhrJ3oY6"
      },
      "source": [
        "======================================================================================================================================================================================================================================"
      ]
    },
    {
      "cell_type": "markdown",
      "metadata": {
        "id": "7mts-e9GfUbd"
      },
      "source": [
        "### SECTION 2.1.2: RELATION BETWEEN SANITATION RATES AND OTHER VARIABLES\n",
        "\n",
        "This section will take a look at the following cases:\n",
        "\n",
        "CASE1: SANITARY STATE VS TYPE OF INFRASTRUCTURE OF INTEREST\n",
        "\n",
        "CASE2: SANITARY STATE VS MAIN SOURCE OF DRINKING WATER\n",
        "\n",
        "CASE3: SANITARY STATE VS OBSERVATION OF WATER TREATMENT METHODS\n",
        "\n",
        "CASE4: SANITARY STATE VS WATER TREATMENT METHOD OR WHY WATER TREATMENT WAS NOT OBSERVED"
      ]
    },
    {
      "cell_type": "markdown",
      "metadata": {
        "id": "a9PCsWwlfyEr"
      },
      "source": [
        "### SECTION 2.1.2.1: CASE1: SANITARY STATE VS TYPE OF INFRASTRUCTURE OF INTEREST\n",
        "\n",
        "The following code groups all possibilities in the data set that show the relationship between sanitary state and the Type of infrastructure."
      ]
    },
    {
      "cell_type": "code",
      "metadata": {
        "colab": {
          "base_uri": "https://localhost:8080/",
          "height": 1000
        },
        "id": "EHZmspdOVKOC",
        "outputId": "75442222-dad9-4328-ff35-c5ed4748b103"
      },
      "source": [
        "rate_infrastructure = pd.DataFrame()\n",
        "rate_infrastructure = sanitation_data[[\"Rate the sanitary state of the identified feature\",\"Type of infrastructure component/features of interest\"]]\n",
        "print(rate_infrastructure[\"Type of infrastructure component/features of interest\"].unique())\n",
        "print(rate_infrastructure[\"Type of infrastructure component/features of interest\"].value_counts())\n",
        "rate_infrastructure.groupby([\"Rate the sanitary state of the identified feature\",\"Type of infrastructure component/features of interest\"]).size().reset_index().rename(columns={0:'count'})"
      ],
      "execution_count": 1913,
      "outputs": [
        {
          "output_type": "stream",
          "text": [
            "['Water storage tank' 'Run off water/sewer line' 'Public/shared toilets'\n",
            " 'Community water point' 'Solid waste site' 'Manhole' 'Open water bodies'\n",
            " 'Other infrastructures']\n",
            "Run off water/sewer line    46\n",
            "Water storage tank          40\n",
            "Community water point       40\n",
            "Solid waste site            37\n",
            "Public/shared toilets       33\n",
            "Open water bodies           31\n",
            "Manhole                     12\n",
            "Other infrastructures        5\n",
            "Name: Type of infrastructure component/features of interest, dtype: int64\n"
          ],
          "name": "stdout"
        },
        {
          "output_type": "execute_result",
          "data": {
            "text/html": [
              "<div>\n",
              "<style scoped>\n",
              "    .dataframe tbody tr th:only-of-type {\n",
              "        vertical-align: middle;\n",
              "    }\n",
              "\n",
              "    .dataframe tbody tr th {\n",
              "        vertical-align: top;\n",
              "    }\n",
              "\n",
              "    .dataframe thead th {\n",
              "        text-align: right;\n",
              "    }\n",
              "</style>\n",
              "<table border=\"1\" class=\"dataframe\">\n",
              "  <thead>\n",
              "    <tr style=\"text-align: right;\">\n",
              "      <th></th>\n",
              "      <th>Rate the sanitary state of the identified feature</th>\n",
              "      <th>Type of infrastructure component/features of interest</th>\n",
              "      <th>count</th>\n",
              "    </tr>\n",
              "  </thead>\n",
              "  <tbody>\n",
              "    <tr>\n",
              "      <th>0</th>\n",
              "      <td>1</td>\n",
              "      <td>Manhole</td>\n",
              "      <td>3</td>\n",
              "    </tr>\n",
              "    <tr>\n",
              "      <th>1</th>\n",
              "      <td>1</td>\n",
              "      <td>Open water bodies</td>\n",
              "      <td>11</td>\n",
              "    </tr>\n",
              "    <tr>\n",
              "      <th>2</th>\n",
              "      <td>1</td>\n",
              "      <td>Other infrastructures</td>\n",
              "      <td>1</td>\n",
              "    </tr>\n",
              "    <tr>\n",
              "      <th>3</th>\n",
              "      <td>1</td>\n",
              "      <td>Public/shared toilets</td>\n",
              "      <td>6</td>\n",
              "    </tr>\n",
              "    <tr>\n",
              "      <th>4</th>\n",
              "      <td>1</td>\n",
              "      <td>Run off water/sewer line</td>\n",
              "      <td>13</td>\n",
              "    </tr>\n",
              "    <tr>\n",
              "      <th>5</th>\n",
              "      <td>1</td>\n",
              "      <td>Solid waste site</td>\n",
              "      <td>13</td>\n",
              "    </tr>\n",
              "    <tr>\n",
              "      <th>6</th>\n",
              "      <td>1</td>\n",
              "      <td>Water storage tank</td>\n",
              "      <td>1</td>\n",
              "    </tr>\n",
              "    <tr>\n",
              "      <th>7</th>\n",
              "      <td>2</td>\n",
              "      <td>Open water bodies</td>\n",
              "      <td>4</td>\n",
              "    </tr>\n",
              "    <tr>\n",
              "      <th>8</th>\n",
              "      <td>2</td>\n",
              "      <td>Public/shared toilets</td>\n",
              "      <td>2</td>\n",
              "    </tr>\n",
              "    <tr>\n",
              "      <th>9</th>\n",
              "      <td>2</td>\n",
              "      <td>Run off water/sewer line</td>\n",
              "      <td>10</td>\n",
              "    </tr>\n",
              "    <tr>\n",
              "      <th>10</th>\n",
              "      <td>2</td>\n",
              "      <td>Solid waste site</td>\n",
              "      <td>13</td>\n",
              "    </tr>\n",
              "    <tr>\n",
              "      <th>11</th>\n",
              "      <td>3</td>\n",
              "      <td>Community water point</td>\n",
              "      <td>8</td>\n",
              "    </tr>\n",
              "    <tr>\n",
              "      <th>12</th>\n",
              "      <td>3</td>\n",
              "      <td>Manhole</td>\n",
              "      <td>1</td>\n",
              "    </tr>\n",
              "    <tr>\n",
              "      <th>13</th>\n",
              "      <td>3</td>\n",
              "      <td>Open water bodies</td>\n",
              "      <td>8</td>\n",
              "    </tr>\n",
              "    <tr>\n",
              "      <th>14</th>\n",
              "      <td>3</td>\n",
              "      <td>Public/shared toilets</td>\n",
              "      <td>3</td>\n",
              "    </tr>\n",
              "    <tr>\n",
              "      <th>15</th>\n",
              "      <td>3</td>\n",
              "      <td>Run off water/sewer line</td>\n",
              "      <td>5</td>\n",
              "    </tr>\n",
              "    <tr>\n",
              "      <th>16</th>\n",
              "      <td>3</td>\n",
              "      <td>Solid waste site</td>\n",
              "      <td>5</td>\n",
              "    </tr>\n",
              "    <tr>\n",
              "      <th>17</th>\n",
              "      <td>3</td>\n",
              "      <td>Water storage tank</td>\n",
              "      <td>5</td>\n",
              "    </tr>\n",
              "    <tr>\n",
              "      <th>18</th>\n",
              "      <td>4</td>\n",
              "      <td>Community water point</td>\n",
              "      <td>16</td>\n",
              "    </tr>\n",
              "    <tr>\n",
              "      <th>19</th>\n",
              "      <td>4</td>\n",
              "      <td>Manhole</td>\n",
              "      <td>1</td>\n",
              "    </tr>\n",
              "    <tr>\n",
              "      <th>20</th>\n",
              "      <td>4</td>\n",
              "      <td>Open water bodies</td>\n",
              "      <td>3</td>\n",
              "    </tr>\n",
              "    <tr>\n",
              "      <th>21</th>\n",
              "      <td>4</td>\n",
              "      <td>Public/shared toilets</td>\n",
              "      <td>12</td>\n",
              "    </tr>\n",
              "    <tr>\n",
              "      <th>22</th>\n",
              "      <td>4</td>\n",
              "      <td>Run off water/sewer line</td>\n",
              "      <td>8</td>\n",
              "    </tr>\n",
              "    <tr>\n",
              "      <th>23</th>\n",
              "      <td>4</td>\n",
              "      <td>Solid waste site</td>\n",
              "      <td>6</td>\n",
              "    </tr>\n",
              "    <tr>\n",
              "      <th>24</th>\n",
              "      <td>4</td>\n",
              "      <td>Water storage tank</td>\n",
              "      <td>2</td>\n",
              "    </tr>\n",
              "    <tr>\n",
              "      <th>25</th>\n",
              "      <td>5</td>\n",
              "      <td>Community water point</td>\n",
              "      <td>7</td>\n",
              "    </tr>\n",
              "    <tr>\n",
              "      <th>26</th>\n",
              "      <td>5</td>\n",
              "      <td>Manhole</td>\n",
              "      <td>6</td>\n",
              "    </tr>\n",
              "    <tr>\n",
              "      <th>27</th>\n",
              "      <td>5</td>\n",
              "      <td>Open water bodies</td>\n",
              "      <td>5</td>\n",
              "    </tr>\n",
              "    <tr>\n",
              "      <th>28</th>\n",
              "      <td>5</td>\n",
              "      <td>Other infrastructures</td>\n",
              "      <td>3</td>\n",
              "    </tr>\n",
              "    <tr>\n",
              "      <th>29</th>\n",
              "      <td>5</td>\n",
              "      <td>Public/shared toilets</td>\n",
              "      <td>6</td>\n",
              "    </tr>\n",
              "    <tr>\n",
              "      <th>30</th>\n",
              "      <td>5</td>\n",
              "      <td>Run off water/sewer line</td>\n",
              "      <td>9</td>\n",
              "    </tr>\n",
              "    <tr>\n",
              "      <th>31</th>\n",
              "      <td>5</td>\n",
              "      <td>Water storage tank</td>\n",
              "      <td>5</td>\n",
              "    </tr>\n",
              "    <tr>\n",
              "      <th>32</th>\n",
              "      <td>6</td>\n",
              "      <td>Community water point</td>\n",
              "      <td>4</td>\n",
              "    </tr>\n",
              "    <tr>\n",
              "      <th>33</th>\n",
              "      <td>6</td>\n",
              "      <td>Other infrastructures</td>\n",
              "      <td>1</td>\n",
              "    </tr>\n",
              "    <tr>\n",
              "      <th>34</th>\n",
              "      <td>6</td>\n",
              "      <td>Public/shared toilets</td>\n",
              "      <td>4</td>\n",
              "    </tr>\n",
              "    <tr>\n",
              "      <th>35</th>\n",
              "      <td>6</td>\n",
              "      <td>Run off water/sewer line</td>\n",
              "      <td>1</td>\n",
              "    </tr>\n",
              "    <tr>\n",
              "      <th>36</th>\n",
              "      <td>6</td>\n",
              "      <td>Water storage tank</td>\n",
              "      <td>13</td>\n",
              "    </tr>\n",
              "    <tr>\n",
              "      <th>37</th>\n",
              "      <td>7</td>\n",
              "      <td>Community water point</td>\n",
              "      <td>5</td>\n",
              "    </tr>\n",
              "    <tr>\n",
              "      <th>38</th>\n",
              "      <td>7</td>\n",
              "      <td>Manhole</td>\n",
              "      <td>1</td>\n",
              "    </tr>\n",
              "    <tr>\n",
              "      <th>39</th>\n",
              "      <td>7</td>\n",
              "      <td>Water storage tank</td>\n",
              "      <td>14</td>\n",
              "    </tr>\n",
              "  </tbody>\n",
              "</table>\n",
              "</div>"
            ],
            "text/plain": [
              "    Rate the sanitary state of the identified feature  ... count\n",
              "0                                                   1  ...     3\n",
              "1                                                   1  ...    11\n",
              "2                                                   1  ...     1\n",
              "3                                                   1  ...     6\n",
              "4                                                   1  ...    13\n",
              "5                                                   1  ...    13\n",
              "6                                                   1  ...     1\n",
              "7                                                   2  ...     4\n",
              "8                                                   2  ...     2\n",
              "9                                                   2  ...    10\n",
              "10                                                  2  ...    13\n",
              "11                                                  3  ...     8\n",
              "12                                                  3  ...     1\n",
              "13                                                  3  ...     8\n",
              "14                                                  3  ...     3\n",
              "15                                                  3  ...     5\n",
              "16                                                  3  ...     5\n",
              "17                                                  3  ...     5\n",
              "18                                                  4  ...    16\n",
              "19                                                  4  ...     1\n",
              "20                                                  4  ...     3\n",
              "21                                                  4  ...    12\n",
              "22                                                  4  ...     8\n",
              "23                                                  4  ...     6\n",
              "24                                                  4  ...     2\n",
              "25                                                  5  ...     7\n",
              "26                                                  5  ...     6\n",
              "27                                                  5  ...     5\n",
              "28                                                  5  ...     3\n",
              "29                                                  5  ...     6\n",
              "30                                                  5  ...     9\n",
              "31                                                  5  ...     5\n",
              "32                                                  6  ...     4\n",
              "33                                                  6  ...     1\n",
              "34                                                  6  ...     4\n",
              "35                                                  6  ...     1\n",
              "36                                                  6  ...    13\n",
              "37                                                  7  ...     5\n",
              "38                                                  7  ...     1\n",
              "39                                                  7  ...    14\n",
              "\n",
              "[40 rows x 3 columns]"
            ]
          },
          "metadata": {
            "tags": []
          },
          "execution_count": 1913
        }
      ]
    },
    {
      "cell_type": "markdown",
      "metadata": {
        "id": "p5MdLvYfhN8b"
      },
      "source": [
        "**From the above results, we can see that:**\n",
        "\n",
        "**Run off water/sewer lines and Solid waste sites in areas with open water bodies are perceived as least sanitary. On the other hand, more Water Storage Tanks were found in places with higher sanitary states such as 6 and 7.** \n",
        "\n"
      ]
    },
    {
      "cell_type": "markdown",
      "metadata": {
        "id": "EftCxo4KxNBW"
      },
      "source": [
        "======================================================================================================================================================================================================================================"
      ]
    },
    {
      "cell_type": "markdown",
      "metadata": {
        "id": "jeBOn6lWmyKy"
      },
      "source": [
        "### SECTION 2.1.2.2: CASE2: SANITARY STATE VS MAIN SOURCE OF DRINKING WATER\n",
        "\n",
        "The following code groups all possibilities in the data set that show the relationship between sanitary state and the main source of drinking water."
      ]
    },
    {
      "cell_type": "code",
      "metadata": {
        "colab": {
          "base_uri": "https://localhost:8080/"
        },
        "id": "dyoMk_4YnqEy",
        "outputId": "f581878a-53ad-4b5b-b574-e2fa7b6f4804"
      },
      "source": [
        "rate_water = pd.DataFrame()\n",
        "rate_water = sanitation_data[[\"Rate the sanitary state of the identified feature\",\"What is the main source of drinking water in the area?\"]]\n",
        "r_w=rate_water.groupby([\"Rate the sanitary state of the identified feature\",\"What is the main source of drinking water in the area?\"]).size().reset_index().rename(columns={0:'count'})\n",
        "lst_sanitary_state=r_w[\"Rate the sanitary state of the identified feature\"].to_list()\n",
        "lst_type_water = r_w[\"What is the main source of drinking water in the area?\"].to_list()\n",
        "lst_count= r_w[\"count\"].to_list()\n",
        "\n",
        "print(\"Sanitary State | Water Type (count)\")\n",
        "print(\"______________________________________________\")\n",
        "for i in range(len(lst_sanitary_state)):\n",
        "  print(lst_sanitary_state[i],\"             |\",lst_type_water[i], \"(\",lst_count[i],\")\")"
      ],
      "execution_count": 1914,
      "outputs": [
        {
          "output_type": "stream",
          "text": [
            "Sanitary State | Water Type (count)\n",
            "______________________________________________\n",
            "1              | Borehole ( 7 )\n",
            "1              | Bottled water ( 4 )\n",
            "1              | Community water point ( 5 )\n",
            "1              | None ( 4 )\n",
            "1              | Other Sources ( 2 )\n",
            "1              | Tap water ( 19 )\n",
            "1              | Water pipe ( 1 )\n",
            "1              | Water refill ( 2 )\n",
            "1              | Water storage tank ( 4 )\n",
            "2              | Borehole ( 8 )\n",
            "2              | Bottled water ( 1 )\n",
            "2              | Community water point ( 2 )\n",
            "2              | Other Sources ( 1 )\n",
            "2              | River water ( 1 )\n",
            "2              | Tap water ( 13 )\n",
            "2              | Water pipe ( 2 )\n",
            "2              | Water storage tank ( 1 )\n",
            "3              | Borehole ( 9 )\n",
            "3              | Bottled water ( 4 )\n",
            "3              | Community water point ( 1 )\n",
            "3              | River water ( 6 )\n",
            "3              | Tap water ( 10 )\n",
            "3              | Water pipe ( 1 )\n",
            "3              | Water refill ( 1 )\n",
            "3              | Water storage tank ( 3 )\n",
            "4              | Borehole ( 22 )\n",
            "4              | Bottled water ( 1 )\n",
            "4              | Community water point ( 3 )\n",
            "4              | Other Sources ( 3 )\n",
            "4              | Tap water ( 13 )\n",
            "4              | Water refill ( 4 )\n",
            "4              | Water storage tank ( 2 )\n",
            "5              | Borehole ( 19 )\n",
            "5              | Bottled water ( 2 )\n",
            "5              | Tap water ( 10 )\n",
            "5              | Water refill ( 7 )\n",
            "5              | Water storage tank ( 3 )\n",
            "6              | Borehole ( 9 )\n",
            "6              | Tap water ( 10 )\n",
            "6              | Water refill ( 4 )\n",
            "7              | Borehole ( 10 )\n",
            "7              | Tap water ( 1 )\n",
            "7              | Water pipe ( 1 )\n",
            "7              | Water refill ( 8 )\n"
          ],
          "name": "stdout"
        }
      ]
    },
    {
      "cell_type": "markdown",
      "metadata": {
        "id": "qPI8bY8gu-ER"
      },
      "source": [
        "**From the above output, it is inconclusive as to how the type of drinking water affects the sanitation rate.**"
      ]
    },
    {
      "cell_type": "markdown",
      "metadata": {
        "id": "qsk9ZTErxWMw"
      },
      "source": [
        "======================================================================================================================================================================================================================================"
      ]
    },
    {
      "cell_type": "markdown",
      "metadata": {
        "id": "rIleIz7uxg7F"
      },
      "source": [
        "### SECTION 2.1.2.3: CASE3: SANITARY STATE VS OBSERVATION OF WATER TREATMENT METHODS\n",
        "\n",
        "The following code groups all possibilities in the data set that show the relationship between sanitary state and whether or not water treatment methods are osberved"
      ]
    },
    {
      "cell_type": "code",
      "metadata": {
        "colab": {
          "base_uri": "https://localhost:8080/",
          "height": 452
        },
        "id": "_iSfVsprxyRn",
        "outputId": "f8cdb0b7-d37a-4f68-d40c-c69dacd30948"
      },
      "source": [
        "rate_observation = pd.DataFrame()\n",
        "rate_observation = sanitation_data[[\"Rate the sanitary state of the identified feature\",\"Are water treatment methods observed in the area?\"]]\n",
        "rate_observation.groupby([\"Rate the sanitary state of the identified feature\",\"Are water treatment methods observed in the area?\"]).size().reset_index().rename(columns={0:'count'})"
      ],
      "execution_count": 1915,
      "outputs": [
        {
          "output_type": "execute_result",
          "data": {
            "text/html": [
              "<div>\n",
              "<style scoped>\n",
              "    .dataframe tbody tr th:only-of-type {\n",
              "        vertical-align: middle;\n",
              "    }\n",
              "\n",
              "    .dataframe tbody tr th {\n",
              "        vertical-align: top;\n",
              "    }\n",
              "\n",
              "    .dataframe thead th {\n",
              "        text-align: right;\n",
              "    }\n",
              "</style>\n",
              "<table border=\"1\" class=\"dataframe\">\n",
              "  <thead>\n",
              "    <tr style=\"text-align: right;\">\n",
              "      <th></th>\n",
              "      <th>Rate the sanitary state of the identified feature</th>\n",
              "      <th>Are water treatment methods observed in the area?</th>\n",
              "      <th>count</th>\n",
              "    </tr>\n",
              "  </thead>\n",
              "  <tbody>\n",
              "    <tr>\n",
              "      <th>0</th>\n",
              "      <td>1</td>\n",
              "      <td>NO</td>\n",
              "      <td>33</td>\n",
              "    </tr>\n",
              "    <tr>\n",
              "      <th>1</th>\n",
              "      <td>1</td>\n",
              "      <td>YES</td>\n",
              "      <td>15</td>\n",
              "    </tr>\n",
              "    <tr>\n",
              "      <th>2</th>\n",
              "      <td>2</td>\n",
              "      <td>NO</td>\n",
              "      <td>14</td>\n",
              "    </tr>\n",
              "    <tr>\n",
              "      <th>3</th>\n",
              "      <td>2</td>\n",
              "      <td>YES</td>\n",
              "      <td>15</td>\n",
              "    </tr>\n",
              "    <tr>\n",
              "      <th>4</th>\n",
              "      <td>3</td>\n",
              "      <td>NO</td>\n",
              "      <td>14</td>\n",
              "    </tr>\n",
              "    <tr>\n",
              "      <th>5</th>\n",
              "      <td>3</td>\n",
              "      <td>YES</td>\n",
              "      <td>21</td>\n",
              "    </tr>\n",
              "    <tr>\n",
              "      <th>6</th>\n",
              "      <td>4</td>\n",
              "      <td>NO</td>\n",
              "      <td>10</td>\n",
              "    </tr>\n",
              "    <tr>\n",
              "      <th>7</th>\n",
              "      <td>4</td>\n",
              "      <td>YES</td>\n",
              "      <td>38</td>\n",
              "    </tr>\n",
              "    <tr>\n",
              "      <th>8</th>\n",
              "      <td>5</td>\n",
              "      <td>NO</td>\n",
              "      <td>11</td>\n",
              "    </tr>\n",
              "    <tr>\n",
              "      <th>9</th>\n",
              "      <td>5</td>\n",
              "      <td>YES</td>\n",
              "      <td>30</td>\n",
              "    </tr>\n",
              "    <tr>\n",
              "      <th>10</th>\n",
              "      <td>6</td>\n",
              "      <td>NO</td>\n",
              "      <td>3</td>\n",
              "    </tr>\n",
              "    <tr>\n",
              "      <th>11</th>\n",
              "      <td>6</td>\n",
              "      <td>YES</td>\n",
              "      <td>20</td>\n",
              "    </tr>\n",
              "    <tr>\n",
              "      <th>12</th>\n",
              "      <td>7</td>\n",
              "      <td>YES</td>\n",
              "      <td>20</td>\n",
              "    </tr>\n",
              "  </tbody>\n",
              "</table>\n",
              "</div>"
            ],
            "text/plain": [
              "    Rate the sanitary state of the identified feature  ... count\n",
              "0                                                   1  ...    33\n",
              "1                                                   1  ...    15\n",
              "2                                                   2  ...    14\n",
              "3                                                   2  ...    15\n",
              "4                                                   3  ...    14\n",
              "5                                                   3  ...    21\n",
              "6                                                   4  ...    10\n",
              "7                                                   4  ...    38\n",
              "8                                                   5  ...    11\n",
              "9                                                   5  ...    30\n",
              "10                                                  6  ...     3\n",
              "11                                                  6  ...    20\n",
              "12                                                  7  ...    20\n",
              "\n",
              "[13 rows x 3 columns]"
            ]
          },
          "metadata": {
            "tags": []
          },
          "execution_count": 1915
        }
      ]
    },
    {
      "cell_type": "markdown",
      "metadata": {
        "id": "lGsHqjhAygVb"
      },
      "source": [
        "**From the above table, it can be concluded that generally, the more people observe water treatment methods, the higher the sanitation state**"
      ]
    },
    {
      "cell_type": "markdown",
      "metadata": {
        "id": "1t75mgG4y8-3"
      },
      "source": [
        "======================================================================================================================================================================================================================================"
      ]
    },
    {
      "cell_type": "markdown",
      "metadata": {
        "id": "faXvbG5YzAcR"
      },
      "source": [
        "### SECTION 2.1.2.4: CASE4: SANITARY STATE VS WATER TREATMENT METHOD OR WHY WATER TREATMENT WAS NOT OBSERVED\n",
        "\n",
        "The following code groups all possibilities in the data set that show the relationship between sanitary state and the water treatment method used, or why water treatment methods were not observed."
      ]
    },
    {
      "cell_type": "code",
      "metadata": {
        "colab": {
          "base_uri": "https://localhost:8080/"
        },
        "id": "GmXiVFpjzft4",
        "outputId": "c78b4224-4ec8-49f0-8f39-31abd888ca6d"
      },
      "source": [
        "rate_method_reason = pd.DataFrame()\n",
        "rate_method_reason = sanitation_data[[\"Rate the sanitary state of the identified feature\",\"If yes, what water treatment method is used? If no, why?\"]]\n",
        "r_m_r=rate_method_reason.groupby([\"Rate the sanitary state of the identified feature\",\"If yes, what water treatment method is used? If no, why?\"]).size().reset_index().rename(columns={0:'count'})\n",
        "lst_sanitary_state=r_m_r[\"Rate the sanitary state of the identified feature\"].to_list()\n",
        "lst_method_reason = r_m_r[\"If yes, what water treatment method is used? If no, why?\"].to_list()\n",
        "lst_count= r_m_r[\"count\"].to_list()\n",
        "\n",
        "print(\"Sanitary State | Method/Reason (count)\")\n",
        "print(\"_________________________________________\")\n",
        "for i in range(len(lst_sanitary_state)):\n",
        "  print(lst_sanitary_state[i],\"             |\",lst_method_reason[i], \"(\",lst_count[i],\")\")\n"
      ],
      "execution_count": 1916,
      "outputs": [
        {
          "output_type": "stream",
          "text": [
            "Sanitary State | Method/Reason (count)\n",
            "_________________________________________\n",
            "1              | Boiling ( 4 )\n",
            "1              | Chlorination ( 5 )\n",
            "1              | City council ( 4 )\n",
            "1              | Expensive ( 1 )\n",
            "1              | Ignorance ( 20 )\n",
            "1              | None / Unclear response ( 11 )\n",
            "1              | Other methods ( 3 )\n",
            "2              | Boiling ( 5 )\n",
            "2              | Bottled water ( 1 )\n",
            "2              | Chlorination ( 9 )\n",
            "2              | Expensive ( 3 )\n",
            "2              | Ignorance ( 7 )\n",
            "2              | None / Unclear response ( 4 )\n",
            "3              | Boiling ( 9 )\n",
            "3              | Bottled water ( 2 )\n",
            "3              | Chlorination ( 12 )\n",
            "3              | Expensive ( 1 )\n",
            "3              | Ignorance ( 4 )\n",
            "3              | None / Unclear response ( 7 )\n",
            "4              | Boiling ( 6 )\n",
            "4              | Bottled water ( 1 )\n",
            "4              | Chlorination ( 25 )\n",
            "4              | City council ( 1 )\n",
            "4              | Ignorance ( 7 )\n",
            "4              | None / Unclear response ( 4 )\n",
            "4              | Other methods ( 4 )\n",
            "5              | Chlorination ( 26 )\n",
            "5              | City council ( 1 )\n",
            "5              | Ignorance ( 11 )\n",
            "5              | None / Unclear response ( 3 )\n",
            "6              | Boiling ( 2 )\n",
            "6              | Chlorination ( 16 )\n",
            "6              | Ignorance ( 3 )\n",
            "6              | None / Unclear response ( 2 )\n",
            "7              | Boiling ( 1 )\n",
            "7              | Chlorination ( 15 )\n",
            "7              | None / Unclear response ( 1 )\n",
            "7              | Other methods ( 3 )\n"
          ],
          "name": "stdout"
        }
      ]
    },
    {
      "cell_type": "markdown",
      "metadata": {
        "id": "hddq92C8234y"
      },
      "source": [
        "**From the above results, highest sanitary state of the water is achieved when more people use Chlorination as their treatment method.**"
      ]
    },
    {
      "cell_type": "markdown",
      "metadata": {
        "id": "r_-TSThB3i6-"
      },
      "source": [
        "======================================================================================================================================================================================================================================"
      ]
    },
    {
      "cell_type": "markdown",
      "metadata": {
        "id": "Sv5Gps6u5ieR"
      },
      "source": [
        "### SECTION 2.2: SPATIAL DISTRIBUTION OF THE DATA\n",
        "\n",
        "This section will take a look at how various types of infrastructures are spatially ditributed based on their sanitary level. The section will also take a look at areas with high or low sanitary states.\n",
        "\n",
        "\n"
      ]
    },
    {
      "cell_type": "markdown",
      "metadata": {
        "id": "EUxJeSqN6J8x"
      },
      "source": [
        "### SECTION 2.2.1: SPATIAL DISTRIBUTION OF SANITARY INFRASTRUCTURE POINTS\n",
        "\n",
        "The data contains 7 unique sanitation states [ 1, 2, 3, 4, 5, 6, 7 ], 1 being the least sanitary state, and 7 being the most sanitary state. The code below shows how the unique states in the data can be revealled"
      ]
    },
    {
      "cell_type": "code",
      "metadata": {
        "colab": {
          "base_uri": "https://localhost:8080/"
        },
        "id": "Ocu3YSuaIp3Y",
        "outputId": "2011f70a-820e-4baa-966b-9ae25cefeffc"
      },
      "source": [
        "unique_staes = sanitation_data[\"Rate the sanitary state of the identified feature\"].unique()\n",
        "print(np.sort(unique_staes))"
      ],
      "execution_count": 1917,
      "outputs": [
        {
          "output_type": "stream",
          "text": [
            "[1 2 3 4 5 6 7]\n"
          ],
          "name": "stdout"
        }
      ]
    },
    {
      "cell_type": "markdown",
      "metadata": {
        "id": "Iw6G14Ii7k5-"
      },
      "source": [
        "The next exercise is to observe the groupings of sanitary infrastrutures with the states 1 and 7. \n",
        "\n",
        "From CASE1 in SECTION 2.1.2.1, it was observed that the Run-off water / sewer lines and Solid Waste sites were the largest contributors to poor sanitary state of 1. On the other hand, more Water Storage Tanks were found in places with higher sanitary states such as 6 and 7. \n",
        "\n",
        "The following code will locate and plot low sanitary and high sanitary water infrastructures."
      ]
    },
    {
      "cell_type": "code",
      "metadata": {
        "colab": {
          "base_uri": "https://localhost:8080/",
          "height": 644
        },
        "id": "kJfamYp-7yEy",
        "outputId": "311a571c-0b94-4afe-dda9-d979869d731e"
      },
      "source": [
        "# Get the indices for level 1 sanitary state at Run off water/sewer line\" and \"Solid waste site\"\n",
        "sanitary_infrastructure_level1=[]\n",
        "\n",
        "for i in range(244):\n",
        "  if(sanitation_data.loc[i,\"Rate the sanitary state of the identified feature\"]==1):\n",
        "    if(sanitation_data.loc[i,\"Type of infrastructure component/features of interest\"]==\"Run off water/sewer line\" or sanitation_data.loc[i,\"Type of infrastructure component/features of interest\"]==\"Solid waste site\"): \n",
        "      sanitary_infrastructure_level1.append(i)\n",
        "\n",
        "\n",
        "# Get the indices for level 7 sanitary state at \"Water storage tank\"\n",
        "sanitary_infrastructure_level7=[]\n",
        "for i in range(244):\n",
        "  if(sanitation_data.loc[i,\"Rate the sanitary state of the identified feature\"]==7):\n",
        "    if(sanitation_data.loc[i,\"Type of infrastructure component/features of interest\"]==\"Water storage tank\"): \n",
        "      sanitary_infrastructure_level7.append(i)\n",
        "\n",
        "\n",
        "level1_coordinates = lat_long_sanitation.loc[sanitary_infrastructure_level1,\"latitude\":\"longitude\"].to_numpy()\n",
        "level7_coordinates = lat_long_sanitation.loc[sanitary_infrastructure_level7,\"latitude\":\"longitude\"].to_numpy()\n",
        "\n",
        "\n",
        "%matplotlib inline\n",
        "plt.rcParams['figure.figsize'] = [10, 10]\n",
        "plt.rcParams.update({'font.size': 18})\n",
        "\n",
        "ax = plt.gca()\n",
        "P1=ax.scatter(level1_coordinates[:,0], level1_coordinates[:,1], color=\"r\")\n",
        "P2=ax.scatter(level7_coordinates[:,0], level7_coordinates[:,1], color=\"b\")\n",
        "ax.legend([P1,P2],[\"Sanitary state 1\",\"Sanitary state 7\"])\n",
        "plt.xlabel(\"latitude\")\n",
        "plt.ylabel(\"longitude\")\n",
        "plt.title(\"Sanitary Infrastuctures at state 1 (RED) and state 7 (BLUE)\")\n",
        "plt.show()"
      ],
      "execution_count": 1918,
      "outputs": [
        {
          "output_type": "display_data",
          "data": {
            "image/png": "[encoded data removed]",
            "text/plain": [
              "<Figure size 720x720 with 1 Axes>"
            ]
          },
          "metadata": {
            "tags": [],
            "needs_background": "light"
          }
        }
      ]
    },
    {
      "cell_type": "markdown",
      "metadata": {
        "id": "QFMaWgpqtPMl"
      },
      "source": [
        "From the Figure above, it can be seen that the Sanitary Infrastructures with low sanitary state (RED-State 1) mostly occur in clusters geographically. In this case they are clustered in the WEST of the area of interest area (South with respect to the plot. Note the direction of latitudes and longitudes).\n",
        "\n",
        "On the other hand, Sanitary Infrastructures with high sanitary state (BLUE- State 7) are fewer and less clustered."
      ]
    },
    {
      "cell_type": "markdown",
      "metadata": {
        "id": "R05ruMKnxqwj"
      },
      "source": [
        "======================================================================================================================================================================================================================================"
      ]
    },
    {
      "cell_type": "markdown",
      "metadata": {
        "id": "_tAHtqxExuhR"
      },
      "source": [
        "### SECTION 2.2.2: SPATIAL DISTRIBUTION OF LOW AND HIGH SANITARY STATES\n",
        "\n",
        "While SECTION 2.2.1 focused on the distribution of the least and most sanitary infrastructures, this section will take a look at a wider picture. Here, low sanitary states will be regarded as states 1 and 2. High sanitary states will be regarded as staets 6 and 7. In both cases, the sanitary infrastructures won't be taken into account.\n",
        "\n",
        "This section is more or less a more general case of SECTION 2.2.2. The following code locates all the states in question and diplay them on a plot."
      ]
    },
    {
      "cell_type": "code",
      "metadata": {
        "colab": {
          "base_uri": "https://localhost:8080/",
          "height": 644
        },
        "id": "N1s3ns5mK9qs",
        "outputId": "fbd940f2-f494-499b-b26f-5aebde8673f3"
      },
      "source": [
        "sanitary_level1_2=[]\n",
        "\n",
        "for i in range(242):\n",
        "  if(sanitation_data.loc[i,\"Rate the sanitary state of the identified feature\"]==1 or sanitation_data.loc[i,\"Rate the sanitary state of the identified feature\"]==2):\n",
        "    sanitary_level1_2.append(i) \n",
        "\n",
        "sanitary_level6_7=[]\n",
        "\n",
        "for i in range(242):\n",
        "  if(sanitation_data.loc[i,\"Rate the sanitary state of the identified feature\"]==6 or sanitation_data.loc[i,\"Rate the sanitary state of the identified feature\"]==7):\n",
        "    sanitary_level6_7.append(i)\n",
        "\n",
        "level1_2_coordinates = lat_long_sanitation.loc[sanitary_level1_2,\"latitude\":\"longitude\"].to_numpy()\n",
        "level6_7_coordinates = lat_long_sanitation.loc[sanitary_level6_7,\"latitude\":\"longitude\"].to_numpy()\n",
        "\n",
        "ax = plt.gca()\n",
        "P1=ax.scatter(level1_2_coordinates[:,0], level1_2_coordinates[:,1], color=\"r\")\n",
        "P2=ax.scatter(level6_7_coordinates[:,0], level6_7_coordinates[:,1], color=\"b\")\n",
        "ax.legend([P1,P2],[\"Sanitary states 1 and 2\",\"Sanitary states 6 and 7\"])\n",
        "plt.xlabel(\"latitude\")\n",
        "plt.ylabel(\"longitude\")\n",
        "plt.title(\"Sanitary states 1 & 2 (RED) and states 6 & 7 (BLUE)\")\n",
        "plt.ylim((36.74, 36.78))\n",
        "plt.xlim((-1.405, -1.385))\n",
        "plt.show()"
      ],
      "execution_count": 1919,
      "outputs": [
        {
          "output_type": "display_data",
          "data": {
            "image/png": "[encoded data removed]",
            "text/plain": [
              "<Figure size 720x720 with 1 Axes>"
            ]
          },
          "metadata": {
            "tags": [],
            "needs_background": "light"
          }
        }
      ]
    },
    {
      "cell_type": "markdown",
      "metadata": {
        "id": "GsYTh-Y4P1oA"
      },
      "source": [
        "The above plot shows that the low santary states 1 and 2 appear in more dense clusters with the densest clusters located in the WEST of the target area (South with respect to the plot) and Central-East of the target area. The higher sanitary states are less dense and less numerous."
      ]
    },
    {
      "cell_type": "markdown",
      "metadata": {
        "id": "eKX8o6lRaR7Q"
      },
      "source": [
        "======================================================================================================================================================================================================================================"
      ]
    },
    {
      "cell_type": "markdown",
      "metadata": {
        "id": "3FIqMtxoaLfq"
      },
      "source": [
        "### SECTION 2.3: K-MEANS\n",
        "\n",
        "This section will take  look at how the non-numerical (categorical) information of the dataset can be used to group the data points together.\n",
        "\n",
        "K-means will be used for clustering as shown in the following code"
      ]
    },
    {
      "cell_type": "code",
      "metadata": {
        "id": "Q75uSXCivsdp"
      },
      "source": [
        "#unique_infrastructures= pd.unique(sanitation_data[\"Type of infrastructure component/features of interest\"])\n",
        "#to_include = ['Run off water/sewer line','Water storage tank','Community water point','Public/shared toilets','Solid waste site','Open water bodies','Manhole']\n",
        "#to_remove= np.setdiff1d(pd.unique(sanitation_data[\"Type of infrastructure component/features of interest\"]),to_include)\n",
        "#sanitation_data[\"Type of infrastructure component/features of interest\"]=sanitation_data[\"Type of infrastructure component/features of interest\"].replace(to_remove,'T')\n",
        "#sanitation_data[\"Type of infrastructure component/features of interest\"].value_counts()"
      ],
      "execution_count": 1920,
      "outputs": []
    },
    {
      "cell_type": "code",
      "metadata": {
        "colab": {
          "base_uri": "https://localhost:8080/"
        },
        "id": "A3kPqjMab8_1",
        "outputId": "efe0f0af-ce84-4e7e-874e-e550104b9c4b"
      },
      "source": [
        "from sklearn.metrics.pairwise import euclidean_distances\n",
        "from sklearn.cluster import KMeans\n",
        "\n",
        "categorical = sanitation_data[[\"Rate the sanitary state of the identified feature\",\"Type of infrastructure component/features of interest\",\"Are water treatment methods observed in the area?\"]]\n",
        "\n",
        "categorical = pd.get_dummies(categorical).to_numpy()\n",
        "\n",
        "# Standardize the columns\n",
        "categorical_standardized = (categorical - np.mean(categorical)) / np.std(categorical)\n",
        "\n",
        "lat_long_sanitation = lat_long_sanitation.to_numpy()\n",
        "\n",
        "print(categorical_standardized)"
      ],
      "execution_count": 1921,
      "outputs": [
        {
          "output_type": "stream",
          "text": [
            "[[ 3.74022983 -0.42662094 -0.42662094 ...  0.40674922  0.40674922\n",
            "  -0.42662094]\n",
            " [ 4.57359999 -0.42662094 -0.42662094 ...  0.40674922  0.40674922\n",
            "  -0.42662094]\n",
            " [ 0.40674922 -0.42662094 -0.42662094 ... -0.42662094  0.40674922\n",
            "  -0.42662094]\n",
            " ...\n",
            " [ 3.74022983 -0.42662094 -0.42662094 ...  0.40674922 -0.42662094\n",
            "   0.40674922]\n",
            " [ 2.90685968 -0.42662094 -0.42662094 ...  0.40674922 -0.42662094\n",
            "   0.40674922]\n",
            " [ 0.40674922 -0.42662094 -0.42662094 ... -0.42662094  0.40674922\n",
            "  -0.42662094]]\n"
          ],
          "name": "stdout"
        }
      ]
    },
    {
      "cell_type": "markdown",
      "metadata": {
        "id": "gJ6wRVhvejE7"
      },
      "source": [
        "At this point, K-means is ready to start, however, it is good idea to determine the value of K before proceeding with clustering. The following code helps in finding the value of K. The optimum value is found at the **elbow** of the curve"
      ]
    },
    {
      "cell_type": "code",
      "metadata": {
        "colab": {
          "base_uri": "https://localhost:8080/",
          "height": 644
        },
        "id": "jGzY1BmQfFMY",
        "outputId": "4904734b-934b-40fb-a128-c1d67a4de8ef"
      },
      "source": [
        "# Finding the value of K\n",
        "cost =[] \n",
        "for i in range(1, 11): \n",
        "    KM = KMeans(n_clusters = i, max_iter = 500) \n",
        "    KM.fit(categorical_standardized) # USE STANDARDIZED DATA HERE\n",
        "      \n",
        "    # calculates squared error for the clustered points \n",
        "    cost.append(KM.inertia_)      \n",
        "  \n",
        "# plot the cost against K values \n",
        "plt.plot(range(1, 11), cost, color ='g', linewidth ='3') \n",
        "plt.xlabel(\"Value of K\") \n",
        "plt.ylabel(\"Sqaured Error (Cost)\") \n",
        "plt.title(\"Elbow Method to Determine optimum K\")\n",
        "plt.show() "
      ],
      "execution_count": 1922,
      "outputs": [
        {
          "output_type": "display_data",
          "data": {
            "image/png": "[encoded data removed]",
            "text/plain": [
              "<Figure size 720x720 with 1 Axes>"
            ]
          },
          "metadata": {
            "tags": [],
            "needs_background": "light"
          }
        }
      ]
    },
    {
      "cell_type": "markdown",
      "metadata": {
        "id": "Q8KyEtbugUuX"
      },
      "source": [
        "From the above curve, the elbow is at K=3. The code below will proceed with K-means clustering of the categorical data.\n",
        "\n",
        "Latitudes and Longitudes of the data points are not used in K-means clustering. They are only used to show the locatiions of the datapoints in the graph."
      ]
    },
    {
      "cell_type": "code",
      "metadata": {
        "colab": {
          "base_uri": "https://localhost:8080/",
          "height": 644
        },
        "id": "EJaP9GtXgvNd",
        "outputId": "5f3d4ef8-954f-4c63-c46a-b8a7331d07f7"
      },
      "source": [
        "#####################################################################################\n",
        "# BEGIN K-MEANS\n",
        "#####################################################################################\n",
        "kmeans = KMeans(n_clusters= 3)\n",
        "label = kmeans.fit_predict(categorical_standardized) \n",
        "u_labels = np.unique(label)\n",
        "\n",
        "fig = plt.figure()\n",
        "for i in u_labels:\n",
        "    plt.scatter(lat_long_sanitation[label == i , 0] , lat_long_sanitation[label == i , 1] , label = i) \n",
        "plt.legend()\n",
        "plt.xlabel(\"latitude\")\n",
        "plt.ylabel(\"longitude\")\n",
        "plt.title(\"K-Means Clusters at K=3\")\n",
        "plt.show()"
      ],
      "execution_count": 1923,
      "outputs": [
        {
          "output_type": "display_data",
          "data": {
            "image/png": "[encoded data removed]",
            "text/plain": [
              "<Figure size 720x720 with 1 Axes>"
            ]
          },
          "metadata": {
            "tags": [],
            "needs_background": "light"
          }
        }
      ]
    },
    {
      "cell_type": "markdown",
      "metadata": {
        "id": "on7Gcq7azeXW"
      },
      "source": [
        "======================================================================================================================================================================================================================================"
      ]
    },
    {
      "cell_type": "markdown",
      "metadata": {
        "id": "KPs5Se3XzSFh"
      },
      "source": [
        "# SECTION 3: SUMMARY OF RESULTS AND CONCLUSION\n",
        "\n",
        "**SECTION 1**  talked about data proparation, formatting and transformation of polar coordinates (latitudes and longitudes) into cartesian coordinates X, and  Y via GEODETIC TO ECEF CONVERSION. This was necessary because polar values don't behave the same way as linear when scalled. This could inturn result in errors during clustering. \n",
        "\n",
        "The Section also discussed how using Google's Elevation API, elevations were added to the existing dataset (which originally had latitudes, longitudes, but not altitudes). However, this turned out to not be necessary for this project because only the categorical features were eventually used for clustering.\n",
        "\n",
        "**SECTION 2** had 3 main parts which are 2.1, 2.2 and 2.3.\n",
        "\n",
        "\n",
        "SECTION 2.1 was about Gower's Similarity Matrix and how it could be used to determine the most similar data points in the dataset according to their categorical variables. It was shown how the Matrix could be used to determine various datapoints which would be grouped together. Section 2.1 also looked at the relation between sanitary states and the rest of the categorical variables. It was found that run off  / sewage water and Solid waste sites were associated with low sanitary states of 1, especially in areas with open water bodies. On the other hand, areas with higher sanitary states were found to have more water storage tanks and the absence of open water bodies. The type of drinking water could not determine the sanitary state. Last but not least, high sanitary states of 6 and 7 were found where people treated the water, mostly via chlorination.\n",
        "\n",
        "SECTION 2.2 was about Spatial distribution of infrastructures with least and highest sanitary states. It also looked at the general distribution of sanitary states on the map using the location coordinates.\n",
        "\n",
        "SECTION 2.3 demonstrated the use of K-means on non-numerical (categorical) variables to determine clusters or groups of connected data points. It was found that the grouping was consistent with the spatial distribution of the various sanitary states in SECTION 2.2\n",
        "\n"
      ]
    }
  ]
}