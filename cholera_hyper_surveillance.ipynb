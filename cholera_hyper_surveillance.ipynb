{
  "nbformat": 4,
  "nbformat_minor": 0,
  "metadata": {
    "colab": {
      "name": "cholera-hyper-surveillance.ipynb",
      "provenance": [],
      "collapsed_sections": []
    },
    "kernelspec": {
      "display_name": "Python 3",
      "name": "python3"
    }
  },
  "cells": [
    {
      "cell_type": "markdown",
      "metadata": {
        "id": "-p9fKvm_stYk"
      },
      "source": [
        "### **SECTION 1: SANITATION DATA**\n",
        "\n",
        "\n",
        "This section describes the process of loading, processing and transformation of the available raw data into the shape and form suitable for clustering algorithms."
      ]
    },
    {
      "cell_type": "markdown",
      "metadata": {
        "id": "If4A8_CEv9e7"
      },
      "source": [
        "### SECTION 1.1: UPLOAD OF DATA TO GOOGLE COLAB\n",
        "\n",
        "The data collected consists of 244 rows (points), each of which has 7 columns (features). The 7 features are:\n",
        "\n",
        "1. Timestamp\n",
        "2. GPS coordinates\n",
        "3. Type of infrastructure component/features of interest\n",
        "4. Rate the sanitary state of the identified feature\n",
        "5. What is the main source of drinking water in the area?\t\n",
        "6. Are water treatment methods observed in the area?\n",
        "7. If yes, what water treatment method is used? If no, why?\n",
        "\n",
        "The first step in the analysis of the data was to upload a file called **sanitation_data.csv** from a local computer to Google Colab using Colab's library as show below (commented out because data had been uploaded to Google Colab at the time of writing this report):\n",
        "\n"
      ]
    },
    {
      "cell_type": "code",
      "metadata": {
        "id": "rp9OXSMsyf0u"
      },
      "source": [
        "########## LEAVE THIS COMMENTED BECAUSE THE FILE HAS BEEN UPLOADED ##########\n",
        "#from google.colab import files\n",
        "#sanitation_data = files.upload()\n",
        "#elevations_json_data = files.upload()"
      ],
      "execution_count": 725,
      "outputs": []
    },
    {
      "cell_type": "markdown",
      "metadata": {
        "id": "nMxAbgYr0EBD"
      },
      "source": [
        "### SECTION 1.2: PANDAS DATAFRAME\n",
        "\n",
        "The data from **sanitation_data.csv** was read and converted into Pandas Data Frame using the Pandas library as shown below:"
      ]
    },
    {
      "cell_type": "code",
      "metadata": {
        "id": "iY-wEot-0ys2"
      },
      "source": [
        "import pandas as pd\n",
        "sanitation_data = pd.read_csv(\"sanitation_data.csv\")"
      ],
      "execution_count": 726,
      "outputs": []
    },
    {
      "cell_type": "markdown",
      "metadata": {
        "id": "SzMNcmKv1eoI"
      },
      "source": [
        "### SECTION 1.3: REMOVAL OF TIMESTAMP COLUMN\n",
        "\n",
        "The first column of the **sanitation_data** dataframe obtained in SECTION 1.2 contained **Timestamp** column which were removed as follows:"
      ]
    },
    {
      "cell_type": "code",
      "metadata": {
        "id": "rcmqFV3-2fVB"
      },
      "source": [
        "sanitation_data = sanitation_data.drop([\"Timestamp\"],axis=1)"
      ],
      "execution_count": 727,
      "outputs": []
    },
    {
      "cell_type": "markdown",
      "metadata": {
        "id": "s8rOuTX53Bnv"
      },
      "source": [
        "### SECTION 1.4: DECOUPLING OF GPS COORDINATES\n",
        "\n",
        "The **GPS Coordinates** column of the sanitation data was in the form of a string **\"latitude, longitude\"**. This form of representation was decoupled into separate numerical **latitude** and **longitude** columns as follows:"
      ]
    },
    {
      "cell_type": "code",
      "metadata": {
        "id": "j11mTrpP4AEa"
      },
      "source": [
        "temp= sanitation_data[['GPS coordinates']]\n",
        "lat_long_sanitation=pd.DataFrame()\n",
        "lat_long_sanitation[['latitude','longitude']] = temp['GPS coordinates'].str.split(',',expand=True).astype(float)"
      ],
      "execution_count": 728,
      "outputs": []
    },
    {
      "cell_type": "markdown",
      "metadata": {
        "id": "lsNj0Fit4WhG"
      },
      "source": [
        "### SECTION 1.5: DREMOVAL OF GPS COORDINATES COLUMN\n",
        "The **GPS Coordinates** column was then removed from the dataframe as follows:"
      ]
    },
    {
      "cell_type": "code",
      "metadata": {
        "id": "ehpYz3W248f5"
      },
      "source": [
        "sanitation_data = sanitation_data.drop(['GPS coordinates'], axis=1)\n",
        "#print(sanitation_data.head())"
      ],
      "execution_count": 729,
      "outputs": []
    },
    {
      "cell_type": "markdown",
      "metadata": {
        "id": "lLEM-bAb7Ty3"
      },
      "source": [
        "At this point, there are two Pandas dataframes.\n",
        "\n",
        "The **sanitation_data** with the following columns:\n",
        "\n",
        "1. Type of infrastructure component/features of interest\n",
        "2. Rate the sanitary state of the identified feature\n",
        "3. What is the main source of drinking water in the area?\n",
        "4. Are water treatment methods observed in the area?\n",
        "5. If yes, what water treatment method is used? If no, why?\n",
        "\n",
        "The **lat_long_sanitation** with the following columns:\n",
        "\n",
        "1. latitude\n",
        "2. longitude"
      ]
    },
    {
      "cell_type": "markdown",
      "metadata": {
        "id": "3ILIz-9-8Ap9"
      },
      "source": [
        "### SECTION 1.6: INSERTION OF ELEVATION COLUMN INTO lat_long_sanitation\n",
        "\n",
        "The **GPS Coordinates** column described in SECTION 1.4 resulted into only two separate numerical columns for latitudes and longitudes. A third column, called **elevation**, which contained heights at the corresponding longitudes and latitudes was added with the help of [Google's Point Elevation API](https://developers.google.com/maps/documentation/elevation/overview). The API simply returns a json file with the heights for each latitude-longitude pair. This file was renamed to **elevations_data.json**. The following code shows how this API can be used."
      ]
    },
    {
      "cell_type": "code",
      "metadata": {
        "id": "_BWk8UXXAjjs"
      },
      "source": [
        "temp=lat_long_sanitation.to_csv(header=None, index=False).split('\\n')\n",
        "lat_long_API = '|'.join([str(elem) for elem in temp]) \n",
        "lat_long_API = lat_long_API[0:-1]\n",
        "#print(lat_long_API)\n",
        "#https://maps.googleapis.com/maps/api/elevation/json?locations=lat_long_API&key=YOUR_API_KEY"
      ],
      "execution_count": 730,
      "outputs": []
    },
    {
      "cell_type": "markdown",
      "metadata": {
        "id": "gZvc_aIhCzE7"
      },
      "source": [
        "The file **elevations_data.json** was uploaded to Google Colab in SECTION 1.1 along with **sanitation_data.csv**"
      ]
    },
    {
      "cell_type": "markdown",
      "metadata": {
        "id": "rUA98WD1DxLf"
      },
      "source": [
        "All the elevations from **elevations_data.json** were loaded into **elevations** list as follows:"
      ]
    },
    {
      "cell_type": "code",
      "metadata": {
        "id": "aoHpLy0BEAUA"
      },
      "source": [
        "import json\n",
        "\n",
        "with open('elevations_data.json') as f:\n",
        "  elevations_data = json.load(f)\n",
        "\n",
        "elevations = []\n",
        "\n",
        "for i in elevations_data[\"results\"]:\n",
        "  elevations.append(i.get(\"elevation\"))"
      ],
      "execution_count": 731,
      "outputs": []
    },
    {
      "cell_type": "markdown",
      "metadata": {
        "id": "sEzQNxe8FQgW"
      },
      "source": [
        "The elevations of the **elevations** list were joined with the latitudes and longitudes of the **lat_long_sanitation** dataframe to form **lat_long_ele_sanitation** dataframe as follows:"
      ]
    },
    {
      "cell_type": "code",
      "metadata": {
        "id": "27Pco17yGfaq"
      },
      "source": [
        "lat_long_ele_sanitation = lat_long_sanitation\n",
        "lat_long_ele_sanitation[\"elevation\"] = elevations"
      ],
      "execution_count": 732,
      "outputs": []
    },
    {
      "cell_type": "markdown",
      "metadata": {
        "id": "GKmZIFDWHtb_"
      },
      "source": [
        "### SECTION 1.7: TRANSFORMATION OF LATITUDES, LONGITUDES, AND ELEVATIONS INTO X, Y,  Z COORDINATES"
      ]
    },
    {
      "cell_type": "markdown",
      "metadata": {
        "id": "75a0MkBlIRB9"
      },
      "source": [
        "By this point, there are three Pandas dataframes. \n",
        "\n",
        "The **sanitation_data** with the following columns:\n",
        "1. Type of infrastructure component/features of interest\n",
        "2. Rate the sanitary state of the identified feature\n",
        "3. What is the main source of drinking water in the area?\n",
        "4. Are water treatment methods observed in the area?\n",
        "5. If yes, what water treatment method is used? If no, why?\n",
        "\n",
        "\n",
        "The **lat_long_sanitation** with the following columns:\n",
        "1. latitude\n",
        "2. longitude\n",
        "\n",
        "and the **lat_long_elev_sanitation** with the following columns:\n",
        "1. latitude\n",
        "2. longitude\n",
        "3. elevation\n",
        "\n",
        "\n",
        "Since the latitudes, longitudes, and elevations are angular measurements, they can't be linearly scalled to produce meaningul results in clustering algorithms such as **K-means**, which is one of the clustering algorithms to be covered in SECTION 2."
      ]
    },
    {
      "cell_type": "markdown",
      "metadata": {
        "id": "WAeGXPwIKDA9"
      },
      "source": [
        "### SECTION 1.7.1: GEODETIC TO ECEF CONVERSION\n",
        "\n",
        "One of the common ways of converting latitudes ($\\phi$), longitudes ($\\lambda$), and elevation ($h$) from their polar form to their linear/cartesian form (X,Y,Z) is called Geodetic to ECEF (acronym for earth-centered, earth-fixed) conversion.\n",
        "\n",
        "In this conversion, we have:\n",
        "\n",
        "$X = (N(\\phi)+h)cos(\\phi)cos(\\lambda)$\n",
        "\n",
        "$Y = (N(\\phi)+h)cos(\\phi)sin(\\lambda)$\n",
        "\n",
        "$Z = \\left(\\frac{b²}{a²}N(\\phi)+h \\right)sin(\\phi)$\n",
        "\n",
        "Where:\n",
        "\n",
        "$N(\\phi)=\\frac{a}{\\sqrt{1-e^{2}sin^2\\phi}}$ and $e^{2}=1-\\frac{b^2}{a^2}$\n",
        "\n",
        "and\n",
        "\n",
        "$a=6378137.0 m$\n",
        "\n",
        "$b=6356752.314245 m m$"
      ]
    },
    {
      "cell_type": "markdown",
      "metadata": {
        "id": "uIuLPSAsLGH_"
      },
      "source": [
        "The following code implements the above set of equations to transform the polar coordinates in **lat_long_ele_sanitation** dataframe to their linear/cartesian equivalent in the **X_Y_Z** dataframe."
      ]
    },
    {
      "cell_type": "code",
      "metadata": {
        "id": "D6SHCcA-O_0u"
      },
      "source": [
        "import math\n",
        "\n",
        "\n",
        "a=6378137.0\n",
        "b=6356752.314245\n",
        "e_squared=1-(b**2)/(a**2)\n",
        "\n",
        "# Latitude (deg), Longitude (deg), Elevation (meters)\n",
        "def geodetic_to_ecef(latitude,longitude,elevation):\n",
        "    \n",
        "    lamb = math.radians(latitude)\n",
        "    phi = math.radians(longitude)\n",
        "    h=elevation\n",
        "\n",
        "\n",
        "\n",
        "    Nphi=a/math.sqrt(1-e_squared*(math.sin(lamb))**2)\n",
        "\n",
        "    sin_lambda = math.sin(lamb)\n",
        "    cos_lambda = math.cos(lamb)\n",
        "    sin_phi = math.sin(phi)\n",
        "    cos_phi = math.cos(phi)\n",
        "\n",
        "    X = (Nphi+h) * cos_lambda * cos_phi\n",
        "    Y = (Nphi+h) * cos_lambda * sin_phi\n",
        "    Z = (((1 - e_squared) * Nphi)+h)* sin_lambda\n",
        "\n",
        "    return X,Y,Z\n",
        "\n",
        "X_Y_Z=lat_long_ele_sanitation.apply(lambda row:geodetic_to_ecef(row[\"latitude\"],row[\"longitude\"],row[\"elevation\"]), axis=1)\n",
        "\n",
        "# Convert the series to Pandas DataFrame\n",
        "X_Y_Z = X_Y_Z.to_frame()\n",
        "X_Y_Z = pd.DataFrame(X_Y_Z[0].to_list(), columns=['X','Y','Z'])\n",
        "\n",
        "\n",
        "#print(X_Y_Z)\n",
        "#print(sanitation_data)"
      ],
      "execution_count": 733,
      "outputs": []
    },
    {
      "cell_type": "markdown",
      "metadata": {
        "id": "IxrmNQdSQrNI"
      },
      "source": [
        "### SECTION 1.7.2: COMBINING TRANSFORMED COORDINATES WITH REST OF DATA\n",
        "\n",
        "The following code shows the joining of **X_Y_Z** dataframe to **sanitation_data** dataframe to form the **xyz_sanitation_data** dataframe that has the basic form for clustering in SECTION 2."
      ]
    },
    {
      "cell_type": "code",
      "metadata": {
        "id": "2TozgOBXSn_P"
      },
      "source": [
        "x_y_z_sanitation_data = pd.DataFrame()\n",
        "x_y_z_sanitation_data = pd.concat([X_Y_Z,sanitation_data], axis=1)\n",
        "#print(x_y_z_sanitation_data)"
      ],
      "execution_count": 734,
      "outputs": []
    },
    {
      "cell_type": "markdown",
      "metadata": {
        "id": "Dig1sYYv3tui"
      },
      "source": [
        "======================================================================================================================================================================================================================================"
      ]
    },
    {
      "cell_type": "markdown",
      "metadata": {
        "id": "_DAzKxWctnXb"
      },
      "source": [
        "# SECTION 2: DATA CLUSTERING\n",
        "This section aims to leverage on some of the popular clustering algorithms available today to determine if there is any relationship between the different variables of the sanitation data provided. This section will also take a look at possible spacial distribution of different data points."
      ]
    },
    {
      "cell_type": "markdown",
      "metadata": {
        "id": "ra_ouNsvZzlS"
      },
      "source": [
        "### SECTION 2.1: GOWER'S SIMILARITY MATRIX \n",
        "\n",
        "Since the transformed data, **xyz_sanitation_data** (SECTION 1.7.2), contains both numerical and categorical information, it may not be apparent which of the variables are similar, or disimilar. **Gower's matrix** computes the similarities/disimilarities of mixed variables (numerical and categorical) in data by calculating all the pair-wise distances between every data point within the data.\n",
        "Gower's similarity matrix can therefore be applied to **xyz_sanitation_data** dataframe since X, Y, Z and the \"Rate the sanitary state\" are numerical, while the rest of the variables are categorical.\n",
        "\n",
        "A 0 distance means the variable(s) are 100% similar (distance to itself), and a 1 means the variables are 100% disimilar (the opposite).\n",
        "\n",
        "In other words, the closer the Gower's score is close to 0, the higher the similarity between the variables, and therefore, these variables are more likely to be grouped or clustered together.\n",
        "\n"
      ]
    },
    {
      "cell_type": "markdown",
      "metadata": {
        "id": "g7Qy7SzgksX9"
      },
      "source": [
        "### SECTION 2.1.1: APPLICATION OF GOWER'S MATRIX ON SANITATION DATA\n",
        "\n",
        "This section will take a look at potential application of the Gower's Similarity Matrix on the data provided.\n",
        "The code below installs and imports gower and other libraries."
      ]
    },
    {
      "cell_type": "code",
      "metadata": {
        "colab": {
          "base_uri": "https://localhost:8080/"
        },
        "id": "P_TYQcyjlQMG",
        "outputId": "2365dd86-abec-47f2-a6a5-bbf0cc978963"
      },
      "source": [
        "####################################################################\n",
        "print(\"********************************************\")\n",
        "!pip install gower\n",
        "print(\"********************************************\")\n",
        "import gower\n",
        "import numpy as np\n",
        "####################################################################"
      ],
      "execution_count": 735,
      "outputs": [
        {
          "output_type": "stream",
          "text": [
            "********************************************\n",
            "Requirement already satisfied: gower in /usr/local/lib/python3.7/dist-packages (0.0.5)\n",
            "Requirement already satisfied: numpy in /usr/local/lib/python3.7/dist-packages (from gower) (1.19.5)\n",
            "Requirement already satisfied: scipy in /usr/local/lib/python3.7/dist-packages (from gower) (1.4.1)\n",
            "********************************************\n"
          ],
          "name": "stdout"
        }
      ]
    },
    {
      "cell_type": "markdown",
      "metadata": {
        "id": "N182PceZlgTo"
      },
      "source": [
        "A single line of code using the gower library on the **xyz_sanitation_data** dataframe is all that is needed to produce a 244x244 square matrix (since there are 244 data points as mentioned in SECTION 1.1). The leading diagonal of the reulting square matrix are all 0s (because the data point calculates distance to itself). Below is the code:"
      ]
    },
    {
      "cell_type": "code",
      "metadata": {
        "colab": {
          "base_uri": "https://localhost:8080/"
        },
        "id": "FhH4KEYXofmW",
        "outputId": "77a6cdb5-8786-41e7-facd-5391f8274fce"
      },
      "source": [
        "####################################################################\n",
        "similarity_matrix=gower.gower_matrix(x_y_z_sanitation_data)\n",
        "print(similarity_matrix)\n",
        "####################################################################"
      ],
      "execution_count": 736,
      "outputs": [
        {
          "output_type": "stream",
          "text": [
            "[[0.         0.142777   0.4622949  ... 0.41503987 0.44185585 0.32222214]\n",
            " [0.142777   0.         0.47530717 ... 0.43821704 0.34030977 0.21023442]\n",
            " [0.4622949  0.47530717 0.         ... 0.6273348  0.6124841  0.23492724]\n",
            " ...\n",
            " [0.41503987 0.43821704 0.6273348  ... 0.         0.276816   0.612262  ]\n",
            " [0.44185585 0.34030977 0.6124841  ... 0.276816   0.         0.4724113 ]\n",
            " [0.32222214 0.21023442 0.23492724 ... 0.612262   0.4724113  0.        ]]\n"
          ],
          "name": "stdout"
        }
      ]
    },
    {
      "cell_type": "markdown",
      "metadata": {
        "id": "Os4tKU0mmtch"
      },
      "source": [
        "The 244 data points in the dataset can be ranked according to their Gower scores. The lower the score, the higher the similarity. The following function ranks the data points according to their Gower scores, starting from lowest to highest. The function also returns the actual scores of the data points."
      ]
    },
    {
      "cell_type": "code",
      "metadata": {
        "colab": {
          "base_uri": "https://localhost:8080/"
        },
        "id": "znqxg8OmhAfh",
        "outputId": "cd37e853-79ed-4f5d-c0cb-4e24d7969d36"
      },
      "source": [
        "####################################################################\n",
        "gower_scores=gower.gower_topn(similarity_matrix, n = 244)\n",
        "print(gower_scores)\n",
        "####################################################################"
      ],
      "execution_count": 737,
      "outputs": [
        {
          "output_type": "stream",
          "text": [
            "{'index': array([  0,  78,  11,  12,   1,   4,   5, 126,  10,  16, 228,  37, 128,\n",
            "       129, 162, 173, 110, 135,  80,  60,  74,  47, 118,  62, 181,  68,\n",
            "        63,  27,  18, 176, 232,   9, 124, 177, 188,  61,  54,  64, 206,\n",
            "       198, 113,  46,   3, 186, 189,  72, 187,  79, 197, 220, 239, 203,\n",
            "       182, 172, 204,  57,  59,   2,  84, 199, 193,  75, 132, 192, 144,\n",
            "        58, 217, 218, 215, 243, 137, 216, 127, 195, 160, 202, 184, 166,\n",
            "       230, 229, 227, 143, 174, 196, 147,  22, 210,  55, 200, 178, 165,\n",
            "        69, 201,  67, 194, 205, 185, 190, 240, 213, 171, 209,  65,  85,\n",
            "       231, 211, 154, 208,  92,  43,  95, 180, 207, 221,  45,  53, 238,\n",
            "       226, 183, 170, 225,  71,   6,  82, 169,  73,  52,  66, 223, 106,\n",
            "        77,  94,  50,  32,  31,  30,  70, 161,  99, 116,  17, 242, 149,\n",
            "       107, 179, 115, 234,  98, 175, 241, 153, 212, 236, 148, 233, 105,\n",
            "       112, 191,  33, 111, 157, 164, 159, 222, 219, 158,  76, 163, 235,\n",
            "        56,  51,  44, 121, 237, 150,  89, 151, 134, 136, 114, 133,  93,\n",
            "       123,  49, 119, 103,  48, 122,   8,   7, 167, 168, 224, 101,  13,\n",
            "       109,  34,  36,  35,  41, 102,  21, 140, 142, 141, 125, 117,  97,\n",
            "        26,  81, 155,  91,  90,  96,  23, 152,  38, 156, 130, 131, 146,\n",
            "       145,  29, 120, 214, 104, 108,  14,  15,  40,  42,  39, 100,  28,\n",
            "        24,  20,  19,  25,  83, 139, 138,  87,  88,  86]), 'values': array([0.        , 0.04211766, 0.06146903, 0.06183169, 0.0641285 ,\n",
            "       0.06543659, 0.07252493, 0.08080268, 0.08874686, 0.09403951,\n",
            "       0.10558575, 0.10590206, 0.10622477, 0.10639012, 0.10658033,\n",
            "       0.10733005, 0.10820037, 0.10902937, 0.11213465, 0.11231369,\n",
            "       0.1127641 , 0.11469852, 0.11905888, 0.12204965, 0.1231351 ,\n",
            "       0.12343841, 0.12405657, 0.12584537, 0.12985857, 0.1318688 ,\n",
            "       0.13195127, 0.13228194, 0.13313924, 0.13352047, 0.1382803 ,\n",
            "       0.1390644 , 0.13927372, 0.14062122, 0.14281228, 0.14372689,\n",
            "       0.14376429, 0.14599882, 0.1479015 , 0.14887957, 0.14887957,\n",
            "       0.14923923, 0.14932026, 0.14945944, 0.15113163, 0.15133008,\n",
            "       0.15165618, 0.15514982, 0.15531896, 0.15612026, 0.1564271 ,\n",
            "       0.15691073, 0.15691073, 0.15699871, 0.15824103, 0.16019635,\n",
            "       0.16024305, 0.16052574, 0.16225491, 0.16294968, 0.16308232,\n",
            "       0.1631468 , 0.1631528 , 0.1631528 , 0.1631528 , 0.16649768,\n",
            "       0.16674739, 0.16861026, 0.17335314, 0.17343763, 0.17374568,\n",
            "       0.17738152, 0.17809929, 0.17821349, 0.17843834, 0.17920984,\n",
            "       0.17996784, 0.18026619, 0.18166439, 0.18204531, 0.18468985,\n",
            "       0.18664575, 0.18686107, 0.18733221, 0.1892177 , 0.18959709,\n",
            "       0.18959709, 0.18968475, 0.19056097, 0.19069618, 0.19098915,\n",
            "       0.19126539, 0.192222  , 0.19415689, 0.19465059, 0.194848  ,\n",
            "       0.19575241, 0.19603777, 0.19717719, 0.19787277, 0.1987014 ,\n",
            "       0.19871584, 0.1998403 , 0.20088641, 0.20153753, 0.20270355,\n",
            "       0.2034186 , 0.20529546, 0.20529936, 0.205518  , 0.20584619,\n",
            "       0.20672594, 0.20828465, 0.20837766, 0.20922129, 0.20931554,\n",
            "       0.2094375 , 0.21007732, 0.21056046, 0.21085557, 0.21125011,\n",
            "       0.21142636, 0.21153034, 0.21157026, 0.21168394, 0.21280083,\n",
            "       0.2129768 , 0.21306789, 0.21392862, 0.21427825, 0.21427825,\n",
            "       0.21427825, 0.214623  , 0.21477821, 0.21547276, 0.21686657,\n",
            "       0.21709812, 0.21751425, 0.21842878, 0.22017549, 0.22017549,\n",
            "       0.22115275, 0.2265092 , 0.22660401, 0.22672121, 0.2271507 ,\n",
            "       0.22725828, 0.22842237, 0.23165987, 0.23248501, 0.232966  ,\n",
            "       0.23342754, 0.23465863, 0.23477542, 0.23505664, 0.23534773,\n",
            "       0.23584472, 0.23691295, 0.23691295, 0.2372989 , 0.2372989 ,\n",
            "       0.23767348, 0.2377288 , 0.23858184, 0.23924789, 0.24012059,\n",
            "       0.24012059, 0.24012059, 0.24093947, 0.24451526, 0.24602841,\n",
            "       0.2475487 , 0.2499495 , 0.25033957, 0.25033957, 0.25088596,\n",
            "       0.2510822 , 0.25279284, 0.25315124, 0.25420243, 0.25473082,\n",
            "       0.2555597 , 0.25591454, 0.256427  , 0.25669825, 0.25669825,\n",
            "       0.25828192, 0.2593431 , 0.25939202, 0.26112682, 0.2620406 ,\n",
            "       0.2626266 , 0.26307732, 0.2631093 , 0.2631093 , 0.26441813,\n",
            "       0.26504794, 0.26898474, 0.26899123, 0.26899123, 0.26973385,\n",
            "       0.27083504, 0.27083504, 0.27165562, 0.2725949 , 0.27285317,\n",
            "       0.27302584, 0.2739435 , 0.27395415, 0.27576995, 0.27658764,\n",
            "       0.27659756, 0.27718952, 0.27778265, 0.2784243 , 0.2784243 ,\n",
            "       0.27962765, 0.27977097, 0.27998164, 0.2815662 , 0.28340793,\n",
            "       0.28404006, 0.2874111 , 0.28877634, 0.28877634, 0.29091313,\n",
            "       0.29091313, 0.29091313, 0.2910848 , 0.2929975 , 0.2929975 ,\n",
            "       0.2929975 , 0.2929975 , 0.2929975 , 0.29332384, 0.29414552,\n",
            "       0.29414552, 0.29439336, 0.2943935 , 0.2943935 ], dtype=float32)}\n"
          ],
          "name": "stdout"
        }
      ]
    },
    {
      "cell_type": "markdown",
      "metadata": {
        "id": "l-_1YIo9aOdc"
      },
      "source": [
        "The following code displays a histogram of the Gower scores such that the left-most scores represent the most similar data points, and the right-most scores represent the most dissimilar data points. The histogram shows that Gower scores range from 0 to about 0.30"
      ]
    },
    {
      "cell_type": "code",
      "metadata": {
        "colab": {
          "base_uri": "https://localhost:8080/",
          "height": 644
        },
        "id": "bzzekK_FaTF0",
        "outputId": "ea124e68-4517-4259-ee59-e84bfed2f1f8"
      },
      "source": [
        "import matplotlib.pyplot as plt\n",
        "plt.rcParams['figure.figsize'] = [10, 10]\n",
        "plt.rcParams.update({'font.size': 18})\n",
        "plt.hist(gower_scores[\"values\"], bins=15)\n",
        "plt.title('HISTOGRAM OF GOWER SCORES')\n",
        "plt.xlabel('Scores')\n",
        "plt.ylabel('Number of Data Points')\n",
        "plt.show()"
      ],
      "execution_count": 738,
      "outputs": [
        {
          "output_type": "display_data",
          "data": {
            "image/png": "[encoded data removed]",
            "text/plain": [
              "<Figure size 720x720 with 1 Axes>"
            ]
          },
          "metadata": {
            "tags": [],
            "needs_background": "light"
          }
        }
      ]
    },
    {
      "cell_type": "markdown",
      "metadata": {
        "id": "bIfPq2AmX8eZ"
      },
      "source": [
        "The next code shows the first 10 most siilar data points in **xyz_sanitation_data** dataframe"
      ]
    },
    {
      "cell_type": "code",
      "metadata": {
        "colab": {
          "base_uri": "https://localhost:8080/"
        },
        "id": "6VyvfKUAYnae",
        "outputId": "7a13dbf5-6bbb-4689-c4f9-d5b1365bc579"
      },
      "source": [
        "idx = gower_scores[\"index\"]\n",
        "\n",
        "lowest_10 = idx[1:11]\n",
        "print(\"*************************************\")\n",
        "for i in lowest_10:\n",
        "  print(x_y_z_sanitation_data.loc[i,:])\n",
        "  print(\"*************************************\")\n",
        "\n",
        "  "
      ],
      "execution_count": 739,
      "outputs": [
        {
          "output_type": "stream",
          "text": [
            "*************************************\n",
            "X                                                                  5.10917e+06\n",
            "Y                                                                   3.8177e+06\n",
            "Z                                                                      -154740\n",
            "Type of infrastructure component/features of interest       Water storage tank\n",
            "Rate the sanitary state of the identified feature                            5\n",
            "What is the main source of drinking water in the area?           Bottled water\n",
            "Are water treatment methods observed in the area?                           NO\n",
            "If yes, what water treatment method is used? If no, why?    Its borehole water\n",
            "Name: 78, dtype: object\n",
            "*************************************\n",
            "X                                                                     5.10937e+06\n",
            "Y                                                                     3.81745e+06\n",
            "Z                                                                         -154632\n",
            "Type of infrastructure component/features of interest       Public/shared toilets\n",
            "Rate the sanitary state of the identified feature                               5\n",
            "What is the main source of drinking water in the area?                        Tap\n",
            "Are water treatment methods observed in the area?                              NO\n",
            "If yes, what water treatment method is used? If no, why?                Ignorance\n",
            "Name: 11, dtype: object\n",
            "*************************************\n",
            "X                                                                     5.10938e+06\n",
            "Y                                                                     3.81744e+06\n",
            "Z                                                                         -154634\n",
            "Type of infrastructure component/features of interest       Public/shared toilets\n",
            "Rate the sanitary state of the identified feature                               5\n",
            "What is the main source of drinking water in the area?                        Tap\n",
            "Are water treatment methods observed in the area?                              NO\n",
            "If yes, what water treatment method is used? If no, why?                Ignorance\n",
            "Name: 12, dtype: object\n",
            "*************************************\n",
            "X                                                                  5.10933e+06\n",
            "Y                                                                  3.81751e+06\n",
            "Z                                                                      -154634\n",
            "Type of infrastructure component/features of interest       Water storage tank\n",
            "Rate the sanitary state of the identified feature                            6\n",
            "What is the main source of drinking water in the area?               Tap water\n",
            "Are water treatment methods observed in the area?                           NO\n",
            "If yes, what water treatment method is used? If no, why?             Ignorance\n",
            "Name: 1, dtype: object\n",
            "*************************************\n",
            "X                                                                   5.1094e+06\n",
            "Y                                                                  3.81743e+06\n",
            "Z                                                                      -154460\n",
            "Type of infrastructure component/features of interest       Water storage tank\n",
            "Rate the sanitary state of the identified feature                            6\n",
            "What is the main source of drinking water in the area?               Tap water\n",
            "Are water treatment methods observed in the area?                           NO\n",
            "If yes, what water treatment method is used? If no, why?             Ignorance\n",
            "Name: 4, dtype: object\n",
            "*************************************\n",
            "X                                                                   5.1094e+06\n",
            "Y                                                                  3.81743e+06\n",
            "Z                                                                      -154459\n",
            "Type of infrastructure component/features of interest       Water storage tank\n",
            "Rate the sanitary state of the identified feature                            6\n",
            "What is the main source of drinking water in the area?              Tap water \n",
            "Are water treatment methods observed in the area?                           NO\n",
            "If yes, what water treatment method is used? If no, why?             ignorance\n",
            "Name: 5, dtype: object\n",
            "*************************************\n",
            "X                                                                     5.10959e+06\n",
            "Y                                                                      3.8172e+06\n",
            "Z                                                                         -153602\n",
            "Type of infrastructure component/features of interest       Community water point\n",
            "Rate the sanitary state of the identified feature                               5\n",
            "What is the main source of drinking water in the area?                        Tap\n",
            "Are water treatment methods observed in the area?                              NO\n",
            "If yes, what water treatment method is used? If no, why?                Ignorance\n",
            "Name: 126, dtype: object\n",
            "*************************************\n",
            "X                                                                     5.10933e+06\n",
            "Y                                                                     3.81751e+06\n",
            "Z                                                                         -154634\n",
            "Type of infrastructure component/features of interest       Public/shared toilets\n",
            "Rate the sanitary state of the identified feature                               5\n",
            "What is the main source of drinking water in the area?                  Tap water\n",
            "Are water treatment methods observed in the area?                              NO\n",
            "If yes, what water treatment method is used? If no, why?                Ignorance\n",
            "Name: 10, dtype: object\n",
            "*************************************\n",
            "X                                                                      5.1094e+06\n",
            "Y                                                                     3.81743e+06\n",
            "Z                                                                         -154459\n",
            "Type of infrastructure component/features of interest       Public/shared toilets\n",
            "Rate the sanitary state of the identified feature                               5\n",
            "What is the main source of drinking water in the area?                  tap water\n",
            "Are water treatment methods observed in the area?                              NO\n",
            "If yes, what water treatment method is used? If no, why?                ignorance\n",
            "Name: 16, dtype: object\n",
            "*************************************\n",
            "X                                                                  5.11035e+06\n",
            "Y                                                                  3.81617e+06\n",
            "Z                                                                      -154443\n",
            "Type of infrastructure component/features of interest       Water storage tank\n",
            "Rate the sanitary state of the identified feature                            3\n",
            "What is the main source of drinking water in the area?            Storage tank\n",
            "Are water treatment methods observed in the area?                           NO\n",
            "If yes, what water treatment method is used? If no, why?         None observed\n",
            "Name: 228, dtype: object\n",
            "*************************************\n"
          ],
          "name": "stdout"
        }
      ]
    },
    {
      "cell_type": "markdown",
      "metadata": {
        "id": "lV3vWBdYa65K"
      },
      "source": [
        "From the above output, and using Gower's similary scores, we can conclude that\n",
        "\n",
        "A) Water storage tanks, Public / shared toilers, and Community water points are likely to be grouped/clustered together.\n",
        "\n",
        "B) Tap water and Storage tank are more likely to be grouped/clustered together\n",
        "\n",
        "C) In this cluster, \"NO\" is the most common answer to the question \"Are water treatment methods observed in the area?\" \n",
        "\n",
        "D) The answer \"NO\" in (C) above is due to ignorance"
      ]
    },
    {
      "cell_type": "markdown",
      "metadata": {
        "id": "42d4HhrJ3oY6"
      },
      "source": [
        "======================================================================================================================================================================================================================================"
      ]
    },
    {
      "cell_type": "markdown",
      "metadata": {
        "id": "7mts-e9GfUbd"
      },
      "source": [
        "### SECTION 2.1.2: RELATION BETWEEN SANITATION RATES AND OTHER VARIABLES\n",
        "\n",
        "This section will take a look at the following cases:\n",
        "\n",
        "CASE1: SANITARY STATE VS TYPE OF INFRASTRUCTURE OF INTEREST\n",
        "\n",
        "CASE2: SANITARY STATE VS MAIN SOURCE OF DRINKING WATER\n",
        "\n",
        "CASE3: SANITARY STATE VS OBSERVATION OF WATER TREATMENT METHODS\n",
        "\n",
        "CASE4: SANITARY STATE VS WATER TREATMENT METHOD OR WHY WATER TREATMENT WAS NOT OBSERVED"
      ]
    },
    {
      "cell_type": "markdown",
      "metadata": {
        "id": "a9PCsWwlfyEr"
      },
      "source": [
        "### SECTION 2.1.2.1: CASE1: SANITARY STATE VS TYPE OF INFRASTRUCTURE OF INTEREST\n",
        "\n",
        "The following code groups all possibilities in the data set that show the relationship between sanitary state and the Type of infrastructure."
      ]
    },
    {
      "cell_type": "code",
      "metadata": {
        "colab": {
          "base_uri": "https://localhost:8080/",
          "height": 1000
        },
        "id": "EHZmspdOVKOC",
        "outputId": "4db9d0b3-acdd-4362-a0af-dece384ec1d0"
      },
      "source": [
        "rate_infrastructure = pd.DataFrame()\n",
        "rate_infrastructure = x_y_z_sanitation_data[[\"Rate the sanitary state of the identified feature\",\"Type of infrastructure component/features of interest\"]]\n",
        "rate_infrastructure.groupby([\"Rate the sanitary state of the identified feature\",\"Type of infrastructure component/features of interest\"]).size().reset_index().rename(columns={0:'count'})"
      ],
      "execution_count": 740,
      "outputs": [
        {
          "output_type": "execute_result",
          "data": {
            "text/html": [
              "<div>\n",
              "<style scoped>\n",
              "    .dataframe tbody tr th:only-of-type {\n",
              "        vertical-align: middle;\n",
              "    }\n",
              "\n",
              "    .dataframe tbody tr th {\n",
              "        vertical-align: top;\n",
              "    }\n",
              "\n",
              "    .dataframe thead th {\n",
              "        text-align: right;\n",
              "    }\n",
              "</style>\n",
              "<table border=\"1\" class=\"dataframe\">\n",
              "  <thead>\n",
              "    <tr style=\"text-align: right;\">\n",
              "      <th></th>\n",
              "      <th>Rate the sanitary state of the identified feature</th>\n",
              "      <th>Type of infrastructure component/features of interest</th>\n",
              "      <th>count</th>\n",
              "    </tr>\n",
              "  </thead>\n",
              "  <tbody>\n",
              "    <tr>\n",
              "      <th>0</th>\n",
              "      <td>1</td>\n",
              "      <td>Manhole</td>\n",
              "      <td>3</td>\n",
              "    </tr>\n",
              "    <tr>\n",
              "      <th>1</th>\n",
              "      <td>1</td>\n",
              "      <td>Open water bodies</td>\n",
              "      <td>11</td>\n",
              "    </tr>\n",
              "    <tr>\n",
              "      <th>2</th>\n",
              "      <td>1</td>\n",
              "      <td>Public/shared toilets</td>\n",
              "      <td>6</td>\n",
              "    </tr>\n",
              "    <tr>\n",
              "      <th>3</th>\n",
              "      <td>1</td>\n",
              "      <td>Run off water/sewer line</td>\n",
              "      <td>13</td>\n",
              "    </tr>\n",
              "    <tr>\n",
              "      <th>4</th>\n",
              "      <td>1</td>\n",
              "      <td>Solid waste site</td>\n",
              "      <td>13</td>\n",
              "    </tr>\n",
              "    <tr>\n",
              "      <th>5</th>\n",
              "      <td>1</td>\n",
              "      <td>Tap water</td>\n",
              "      <td>1</td>\n",
              "    </tr>\n",
              "    <tr>\n",
              "      <th>6</th>\n",
              "      <td>1</td>\n",
              "      <td>Water storage tank</td>\n",
              "      <td>1</td>\n",
              "    </tr>\n",
              "    <tr>\n",
              "      <th>7</th>\n",
              "      <td>2</td>\n",
              "      <td>Open water bodies</td>\n",
              "      <td>4</td>\n",
              "    </tr>\n",
              "    <tr>\n",
              "      <th>8</th>\n",
              "      <td>2</td>\n",
              "      <td>Public/shared toilets</td>\n",
              "      <td>2</td>\n",
              "    </tr>\n",
              "    <tr>\n",
              "      <th>9</th>\n",
              "      <td>2</td>\n",
              "      <td>Run off water/sewer line</td>\n",
              "      <td>10</td>\n",
              "    </tr>\n",
              "    <tr>\n",
              "      <th>10</th>\n",
              "      <td>2</td>\n",
              "      <td>Solid waste site</td>\n",
              "      <td>13</td>\n",
              "    </tr>\n",
              "    <tr>\n",
              "      <th>11</th>\n",
              "      <td>3</td>\n",
              "      <td>Community water point</td>\n",
              "      <td>8</td>\n",
              "    </tr>\n",
              "    <tr>\n",
              "      <th>12</th>\n",
              "      <td>3</td>\n",
              "      <td>Manhole</td>\n",
              "      <td>1</td>\n",
              "    </tr>\n",
              "    <tr>\n",
              "      <th>13</th>\n",
              "      <td>3</td>\n",
              "      <td>Open water bodies</td>\n",
              "      <td>8</td>\n",
              "    </tr>\n",
              "    <tr>\n",
              "      <th>14</th>\n",
              "      <td>3</td>\n",
              "      <td>Public/shared toilets</td>\n",
              "      <td>3</td>\n",
              "    </tr>\n",
              "    <tr>\n",
              "      <th>15</th>\n",
              "      <td>3</td>\n",
              "      <td>Run off water/sewer line</td>\n",
              "      <td>5</td>\n",
              "    </tr>\n",
              "    <tr>\n",
              "      <th>16</th>\n",
              "      <td>3</td>\n",
              "      <td>Solid waste site</td>\n",
              "      <td>5</td>\n",
              "    </tr>\n",
              "    <tr>\n",
              "      <th>17</th>\n",
              "      <td>3</td>\n",
              "      <td>Water storage tank</td>\n",
              "      <td>5</td>\n",
              "    </tr>\n",
              "    <tr>\n",
              "      <th>18</th>\n",
              "      <td>4</td>\n",
              "      <td>Community water point</td>\n",
              "      <td>12</td>\n",
              "    </tr>\n",
              "    <tr>\n",
              "      <th>19</th>\n",
              "      <td>4</td>\n",
              "      <td>County  council</td>\n",
              "      <td>1</td>\n",
              "    </tr>\n",
              "    <tr>\n",
              "      <th>20</th>\n",
              "      <td>4</td>\n",
              "      <td>County water</td>\n",
              "      <td>2</td>\n",
              "    </tr>\n",
              "    <tr>\n",
              "      <th>21</th>\n",
              "      <td>4</td>\n",
              "      <td>Gabbage</td>\n",
              "      <td>1</td>\n",
              "    </tr>\n",
              "    <tr>\n",
              "      <th>22</th>\n",
              "      <td>4</td>\n",
              "      <td>Garbage</td>\n",
              "      <td>3</td>\n",
              "    </tr>\n",
              "    <tr>\n",
              "      <th>23</th>\n",
              "      <td>4</td>\n",
              "      <td>Garvage</td>\n",
              "      <td>1</td>\n",
              "    </tr>\n",
              "    <tr>\n",
              "      <th>24</th>\n",
              "      <td>4</td>\n",
              "      <td>Manhole</td>\n",
              "      <td>1</td>\n",
              "    </tr>\n",
              "    <tr>\n",
              "      <th>25</th>\n",
              "      <td>4</td>\n",
              "      <td>Open water bodies</td>\n",
              "      <td>3</td>\n",
              "    </tr>\n",
              "    <tr>\n",
              "      <th>26</th>\n",
              "      <td>4</td>\n",
              "      <td>Public/shared toilets</td>\n",
              "      <td>12</td>\n",
              "    </tr>\n",
              "    <tr>\n",
              "      <th>27</th>\n",
              "      <td>4</td>\n",
              "      <td>Run off water/sewer line</td>\n",
              "      <td>8</td>\n",
              "    </tr>\n",
              "    <tr>\n",
              "      <th>28</th>\n",
              "      <td>4</td>\n",
              "      <td>Solid waste site</td>\n",
              "      <td>1</td>\n",
              "    </tr>\n",
              "    <tr>\n",
              "      <th>29</th>\n",
              "      <td>4</td>\n",
              "      <td>Water storage tank</td>\n",
              "      <td>2</td>\n",
              "    </tr>\n",
              "    <tr>\n",
              "      <th>30</th>\n",
              "      <td>4</td>\n",
              "      <td>municipal water</td>\n",
              "      <td>1</td>\n",
              "    </tr>\n",
              "    <tr>\n",
              "      <th>31</th>\n",
              "      <td>5</td>\n",
              "      <td>Borehole</td>\n",
              "      <td>3</td>\n",
              "    </tr>\n",
              "    <tr>\n",
              "      <th>32</th>\n",
              "      <td>5</td>\n",
              "      <td>Community water point</td>\n",
              "      <td>7</td>\n",
              "    </tr>\n",
              "    <tr>\n",
              "      <th>33</th>\n",
              "      <td>5</td>\n",
              "      <td>Manhole</td>\n",
              "      <td>6</td>\n",
              "    </tr>\n",
              "    <tr>\n",
              "      <th>34</th>\n",
              "      <td>5</td>\n",
              "      <td>Open water bodies</td>\n",
              "      <td>5</td>\n",
              "    </tr>\n",
              "    <tr>\n",
              "      <th>35</th>\n",
              "      <td>5</td>\n",
              "      <td>Public/shared toilets</td>\n",
              "      <td>6</td>\n",
              "    </tr>\n",
              "    <tr>\n",
              "      <th>36</th>\n",
              "      <td>5</td>\n",
              "      <td>Run off water/sewer line</td>\n",
              "      <td>9</td>\n",
              "    </tr>\n",
              "    <tr>\n",
              "      <th>37</th>\n",
              "      <td>5</td>\n",
              "      <td>Water storage tank</td>\n",
              "      <td>5</td>\n",
              "    </tr>\n",
              "    <tr>\n",
              "      <th>38</th>\n",
              "      <td>6</td>\n",
              "      <td>Community water point</td>\n",
              "      <td>4</td>\n",
              "    </tr>\n",
              "    <tr>\n",
              "      <th>39</th>\n",
              "      <td>6</td>\n",
              "      <td>Public/shared toilets</td>\n",
              "      <td>4</td>\n",
              "    </tr>\n",
              "    <tr>\n",
              "      <th>40</th>\n",
              "      <td>6</td>\n",
              "      <td>Rain water</td>\n",
              "      <td>1</td>\n",
              "    </tr>\n",
              "    <tr>\n",
              "      <th>41</th>\n",
              "      <td>6</td>\n",
              "      <td>Run off water/sewer line</td>\n",
              "      <td>1</td>\n",
              "    </tr>\n",
              "    <tr>\n",
              "      <th>42</th>\n",
              "      <td>6</td>\n",
              "      <td>Water storage tank</td>\n",
              "      <td>13</td>\n",
              "    </tr>\n",
              "    <tr>\n",
              "      <th>43</th>\n",
              "      <td>7</td>\n",
              "      <td>Community water point</td>\n",
              "      <td>5</td>\n",
              "    </tr>\n",
              "    <tr>\n",
              "      <th>44</th>\n",
              "      <td>7</td>\n",
              "      <td>Manhole</td>\n",
              "      <td>1</td>\n",
              "    </tr>\n",
              "    <tr>\n",
              "      <th>45</th>\n",
              "      <td>7</td>\n",
              "      <td>Water storage tank</td>\n",
              "      <td>14</td>\n",
              "    </tr>\n",
              "  </tbody>\n",
              "</table>\n",
              "</div>"
            ],
            "text/plain": [
              "    Rate the sanitary state of the identified feature  ... count\n",
              "0                                                   1  ...     3\n",
              "1                                                   1  ...    11\n",
              "2                                                   1  ...     6\n",
              "3                                                   1  ...    13\n",
              "4                                                   1  ...    13\n",
              "5                                                   1  ...     1\n",
              "6                                                   1  ...     1\n",
              "7                                                   2  ...     4\n",
              "8                                                   2  ...     2\n",
              "9                                                   2  ...    10\n",
              "10                                                  2  ...    13\n",
              "11                                                  3  ...     8\n",
              "12                                                  3  ...     1\n",
              "13                                                  3  ...     8\n",
              "14                                                  3  ...     3\n",
              "15                                                  3  ...     5\n",
              "16                                                  3  ...     5\n",
              "17                                                  3  ...     5\n",
              "18                                                  4  ...    12\n",
              "19                                                  4  ...     1\n",
              "20                                                  4  ...     2\n",
              "21                                                  4  ...     1\n",
              "22                                                  4  ...     3\n",
              "23                                                  4  ...     1\n",
              "24                                                  4  ...     1\n",
              "25                                                  4  ...     3\n",
              "26                                                  4  ...    12\n",
              "27                                                  4  ...     8\n",
              "28                                                  4  ...     1\n",
              "29                                                  4  ...     2\n",
              "30                                                  4  ...     1\n",
              "31                                                  5  ...     3\n",
              "32                                                  5  ...     7\n",
              "33                                                  5  ...     6\n",
              "34                                                  5  ...     5\n",
              "35                                                  5  ...     6\n",
              "36                                                  5  ...     9\n",
              "37                                                  5  ...     5\n",
              "38                                                  6  ...     4\n",
              "39                                                  6  ...     4\n",
              "40                                                  6  ...     1\n",
              "41                                                  6  ...     1\n",
              "42                                                  6  ...    13\n",
              "43                                                  7  ...     5\n",
              "44                                                  7  ...     1\n",
              "45                                                  7  ...    14\n",
              "\n",
              "[46 rows x 3 columns]"
            ]
          },
          "metadata": {
            "tags": []
          },
          "execution_count": 740
        }
      ]
    },
    {
      "cell_type": "markdown",
      "metadata": {
        "id": "p5MdLvYfhN8b"
      },
      "source": [
        "**From the above results, we can see that:**\n",
        "\n",
        "**Run off water/sewer lines and Solid waste sites in areas with open water bodies are perceived as least sanitary. The least sanitary site has the highest number of the aforementioned types of infrastructures.** \n",
        "\n"
      ]
    },
    {
      "cell_type": "markdown",
      "metadata": {
        "id": "EftCxo4KxNBW"
      },
      "source": [
        "======================================================================================================================================================================================================================================"
      ]
    },
    {
      "cell_type": "markdown",
      "metadata": {
        "id": "jeBOn6lWmyKy"
      },
      "source": [
        "### SECTION 2.1.2.2: CASE2: SANITARY STATE VS MAIN SOURCE OF DRINKING WATER\n",
        "\n",
        "The following code groups all possibilities in the data set that show the relationship between sanitary state and the main source of drinking water."
      ]
    },
    {
      "cell_type": "code",
      "metadata": {
        "colab": {
          "base_uri": "https://localhost:8080/"
        },
        "id": "dyoMk_4YnqEy",
        "outputId": "edc47009-8f68-44cb-9bfc-e5d7247dafaf"
      },
      "source": [
        "rate_water = pd.DataFrame()\n",
        "rate_water = x_y_z_sanitation_data[[\"Rate the sanitary state of the identified feature\",\"What is the main source of drinking water in the area?\"]]\n",
        "r_w=rate_water.groupby([\"Rate the sanitary state of the identified feature\",\"What is the main source of drinking water in the area?\"]).size().reset_index().rename(columns={0:'count'})\n",
        "lst_sanitary_state=r_w[\"Rate the sanitary state of the identified feature\"].to_list()\n",
        "lst_type_water = r_w[\"What is the main source of drinking water in the area?\"].to_list()\n",
        "lst_count= r_w[\"count\"].to_list()\n",
        "\n",
        "print(\"Sanitary State | Water Type (count)\")\n",
        "print(\"______________________________________________\")\n",
        "for i in range(len(lst_sanitary_state)):\n",
        "  print(lst_sanitary_state[i],\"             |\",lst_type_water[i], \"(\",lst_count[i],\")\")"
      ],
      "execution_count": 741,
      "outputs": [
        {
          "output_type": "stream",
          "text": [
            "Sanitary State | Water Type (count)\n",
            "______________________________________________\n",
            "1              | Borehole ( 4 )\n",
            "1              | Borehole water ( 1 )\n",
            "1              | Borohol ( 1 )\n",
            "1              | Bottled water ( 1 )\n",
            "1              | Bottled water  ( 1 )\n",
            "1              | Community water point ( 1 )\n",
            "1              | Community water tank ( 1 )\n",
            "1              | Community water tank  ( 1 )\n",
            "1              | Kanjo water  ( 1 )\n",
            "1              | Non ( 1 )\n",
            "1              | Non  ( 2 )\n",
            "1              | None ( 1 )\n",
            "1              | Running tap ( 1 )\n",
            "1              | Storage tank ( 3 )\n",
            "1              | Storage water tank ( 1 )\n",
            "1              | Tap ( 3 )\n",
            "1              | Tap water ( 11 )\n",
            "1              | Tap water  ( 1 )\n",
            "1              | Tap/kanjo  ( 1 )\n",
            "1              | Water vendor ( 2 )\n",
            "1              | borehole ( 1 )\n",
            "1              | bottled ( 2 )\n",
            "1              | piped ( 1 )\n",
            "1              | run off ( 1 )\n",
            "1              | run off water ( 1 )\n",
            "1              | tap water ( 3 )\n",
            "2              | Borehol ( 1 )\n",
            "2              | Borehole ( 5 )\n",
            "2              | Borehole water ( 1 )\n",
            "2              | Bottled water  ( 1 )\n",
            "2              | Community water point ( 2 )\n",
            "2              | Piped ( 1 )\n",
            "2              | Storage tank ( 1 )\n",
            "2              | Tap ( 2 )\n",
            "2              | Tap from olerai  ( 1 )\n",
            "2              | Tap water ( 7 )\n",
            "2              | Tap water  ( 1 )\n",
            "2              | borehole ( 1 )\n",
            "2              | piped ( 1 )\n",
            "2              | river ( 1 )\n",
            "2              | run off ( 1 )\n",
            "2              | tap water ( 2 )\n",
            "3              | Borehole ( 6 )\n",
            "3              | Borehole water ( 1 )\n",
            "3              | Borohol ( 1 )\n",
            "3              | Bottle water ( 2 )\n",
            "3              | Bottled and tap water  ( 1 )\n",
            "3              | Bottled water  ( 1 )\n",
            "3              | Citycouncil water ( 1 )\n",
            "3              | Rever ( 1 )\n",
            "3              | River ( 2 )\n",
            "3              | River water ( 1 )\n",
            "3              | Running tap water ( 1 )\n",
            "3              | Storage tank ( 1 )\n",
            "3              | Storage water tank ( 1 )\n",
            "3              | Tap ( 2 )\n",
            "3              | Tap water ( 2 )\n",
            "3              | Tap water  ( 1 )\n",
            "3              | borehole ( 1 )\n",
            "3              | donkey cart ( 1 )\n",
            "3              | piped water ( 1 )\n",
            "3              | river ( 2 )\n",
            "3              | storage tanks ( 1 )\n",
            "3              | tap water ( 4 )\n",
            "4              | Bohole ( 1 )\n",
            "4              | Bore hole ( 2 )\n",
            "4              | Borehole ( 13 )\n",
            "4              | Borehole  ( 1 )\n",
            "4              | Borhole ( 2 )\n",
            "4              | Bottlled water ( 1 )\n",
            "4              | Community water tank  ( 1 )\n",
            "4              | Rain water/ tap water ( 1 )\n",
            "4              | Rain water/tapwater ( 1 )\n",
            "4              | Running tap ( 1 )\n",
            "4              | Stotage tank ( 1 )\n",
            "4              | Tap ( 4 )\n",
            "4              | Tap water ( 8 )\n",
            "4              | Tap water from community water centre ( 1 )\n",
            "4              | Tap water/ borehole water ( 1 )\n",
            "4              | Water refill ( 3 )\n",
            "4              | Water tank ( 1 )\n",
            "4              | borehole ( 2 )\n",
            "4              | community water point ( 1 )\n",
            "4              | rain water ( 1 )\n",
            "4              | water refill points ( 1 )\n",
            "5              | Bohole ( 5 )\n",
            "5              | Borehole ( 9 )\n",
            "5              | Borehole  ( 1 )\n",
            "5              | Borhole ( 3 )\n",
            "5              | Bottled water ( 2 )\n",
            "5              | Bowhole ( 1 )\n",
            "5              | Refill ( 1 )\n",
            "5              | Storage tank ( 2 )\n",
            "5              | Storage water tank ( 1 )\n",
            "5              | Tap ( 4 )\n",
            "5              | Tap water ( 3 )\n",
            "5              | Water refil ( 1 )\n",
            "5              | Water refill ( 3 )\n",
            "5              | refill water ( 1 )\n",
            "5              | tap water ( 2 )\n",
            "5              | tap water  ( 1 )\n",
            "5              | water refill points ( 1 )\n",
            "6              | Borehole ( 6 )\n",
            "6              | Borehole  ( 1 )\n",
            "6              | Borhole ( 1 )\n",
            "6              | Piped and borehole ( 1 )\n",
            "6              | Tap ( 1 )\n",
            "6              | Tap water ( 6 )\n",
            "6              | Tap water  ( 2 )\n",
            "6              | Water refill ( 3 )\n",
            "6              | tap water ( 1 )\n",
            "6              | water refill points ( 1 )\n",
            "7              | Borehole ( 6 )\n",
            "7              | Borehole  ( 1 )\n",
            "7              | Borhole ( 1 )\n",
            "7              | Bowhole ( 1 )\n",
            "7              | Tap water ( 1 )\n",
            "7              | Water refill ( 6 )\n",
            "7              | borehole ( 1 )\n",
            "7              | piped ( 1 )\n",
            "7              | water refill points ( 2 )\n"
          ],
          "name": "stdout"
        }
      ]
    },
    {
      "cell_type": "markdown",
      "metadata": {
        "id": "qPI8bY8gu-ER"
      },
      "source": [
        "**From the above output, it is inconclusive as to how the type of drinking water affects the sanitation rate.**"
      ]
    },
    {
      "cell_type": "markdown",
      "metadata": {
        "id": "qsk9ZTErxWMw"
      },
      "source": [
        "======================================================================================================================================================================================================================================"
      ]
    },
    {
      "cell_type": "markdown",
      "metadata": {
        "id": "rIleIz7uxg7F"
      },
      "source": [
        "### SECTION 2.1.2.3: CASE3: SANITARY STATE VS OBSERVATION OF WATER TREATMENT METHODS\n",
        "\n",
        "The following code groups all possibilities in the data set that show the relationship between sanitary state and whether or not water treatment methods are osberved"
      ]
    },
    {
      "cell_type": "code",
      "metadata": {
        "colab": {
          "base_uri": "https://localhost:8080/",
          "height": 452
        },
        "id": "_iSfVsprxyRn",
        "outputId": "f417f15c-f1f9-4146-8e67-851d501a9581"
      },
      "source": [
        "rate_observation = pd.DataFrame()\n",
        "rate_observation = x_y_z_sanitation_data[[\"Rate the sanitary state of the identified feature\",\"Are water treatment methods observed in the area?\"]]\n",
        "rate_observation.groupby([\"Rate the sanitary state of the identified feature\",\"Are water treatment methods observed in the area?\"]).size().reset_index().rename(columns={0:'count'})"
      ],
      "execution_count": 742,
      "outputs": [
        {
          "output_type": "execute_result",
          "data": {
            "text/html": [
              "<div>\n",
              "<style scoped>\n",
              "    .dataframe tbody tr th:only-of-type {\n",
              "        vertical-align: middle;\n",
              "    }\n",
              "\n",
              "    .dataframe tbody tr th {\n",
              "        vertical-align: top;\n",
              "    }\n",
              "\n",
              "    .dataframe thead th {\n",
              "        text-align: right;\n",
              "    }\n",
              "</style>\n",
              "<table border=\"1\" class=\"dataframe\">\n",
              "  <thead>\n",
              "    <tr style=\"text-align: right;\">\n",
              "      <th></th>\n",
              "      <th>Rate the sanitary state of the identified feature</th>\n",
              "      <th>Are water treatment methods observed in the area?</th>\n",
              "      <th>count</th>\n",
              "    </tr>\n",
              "  </thead>\n",
              "  <tbody>\n",
              "    <tr>\n",
              "      <th>0</th>\n",
              "      <td>1</td>\n",
              "      <td>NO</td>\n",
              "      <td>33</td>\n",
              "    </tr>\n",
              "    <tr>\n",
              "      <th>1</th>\n",
              "      <td>1</td>\n",
              "      <td>YES</td>\n",
              "      <td>15</td>\n",
              "    </tr>\n",
              "    <tr>\n",
              "      <th>2</th>\n",
              "      <td>2</td>\n",
              "      <td>NO</td>\n",
              "      <td>14</td>\n",
              "    </tr>\n",
              "    <tr>\n",
              "      <th>3</th>\n",
              "      <td>2</td>\n",
              "      <td>YES</td>\n",
              "      <td>15</td>\n",
              "    </tr>\n",
              "    <tr>\n",
              "      <th>4</th>\n",
              "      <td>3</td>\n",
              "      <td>NO</td>\n",
              "      <td>14</td>\n",
              "    </tr>\n",
              "    <tr>\n",
              "      <th>5</th>\n",
              "      <td>3</td>\n",
              "      <td>YES</td>\n",
              "      <td>21</td>\n",
              "    </tr>\n",
              "    <tr>\n",
              "      <th>6</th>\n",
              "      <td>4</td>\n",
              "      <td>NO</td>\n",
              "      <td>10</td>\n",
              "    </tr>\n",
              "    <tr>\n",
              "      <th>7</th>\n",
              "      <td>4</td>\n",
              "      <td>YES</td>\n",
              "      <td>38</td>\n",
              "    </tr>\n",
              "    <tr>\n",
              "      <th>8</th>\n",
              "      <td>5</td>\n",
              "      <td>NO</td>\n",
              "      <td>11</td>\n",
              "    </tr>\n",
              "    <tr>\n",
              "      <th>9</th>\n",
              "      <td>5</td>\n",
              "      <td>YES</td>\n",
              "      <td>30</td>\n",
              "    </tr>\n",
              "    <tr>\n",
              "      <th>10</th>\n",
              "      <td>6</td>\n",
              "      <td>NO</td>\n",
              "      <td>3</td>\n",
              "    </tr>\n",
              "    <tr>\n",
              "      <th>11</th>\n",
              "      <td>6</td>\n",
              "      <td>YES</td>\n",
              "      <td>20</td>\n",
              "    </tr>\n",
              "    <tr>\n",
              "      <th>12</th>\n",
              "      <td>7</td>\n",
              "      <td>YES</td>\n",
              "      <td>20</td>\n",
              "    </tr>\n",
              "  </tbody>\n",
              "</table>\n",
              "</div>"
            ],
            "text/plain": [
              "    Rate the sanitary state of the identified feature  ... count\n",
              "0                                                   1  ...    33\n",
              "1                                                   1  ...    15\n",
              "2                                                   2  ...    14\n",
              "3                                                   2  ...    15\n",
              "4                                                   3  ...    14\n",
              "5                                                   3  ...    21\n",
              "6                                                   4  ...    10\n",
              "7                                                   4  ...    38\n",
              "8                                                   5  ...    11\n",
              "9                                                   5  ...    30\n",
              "10                                                  6  ...     3\n",
              "11                                                  6  ...    20\n",
              "12                                                  7  ...    20\n",
              "\n",
              "[13 rows x 3 columns]"
            ]
          },
          "metadata": {
            "tags": []
          },
          "execution_count": 742
        }
      ]
    },
    {
      "cell_type": "markdown",
      "metadata": {
        "id": "lGsHqjhAygVb"
      },
      "source": [
        "**From the above table, it can be concluded that generally, the more people observe water treatment methods, the higher the sanitation state**"
      ]
    },
    {
      "cell_type": "markdown",
      "metadata": {
        "id": "1t75mgG4y8-3"
      },
      "source": [
        "======================================================================================================================================================================================================================================"
      ]
    },
    {
      "cell_type": "markdown",
      "metadata": {
        "id": "faXvbG5YzAcR"
      },
      "source": [
        "### SECTION 2.1.2.4: CASE4: SANITARY STATE VS WATER TREATMENT METHOD OR WHY WATER TREATMENT WAS NOT OBSERVED\n",
        "\n",
        "The following code groups all possibilities in the data set that show the relationship between sanitary state and the water treatment method used, or why water treatment methods were not observed."
      ]
    },
    {
      "cell_type": "code",
      "metadata": {
        "colab": {
          "base_uri": "https://localhost:8080/"
        },
        "id": "GmXiVFpjzft4",
        "outputId": "81f3e1de-e2f1-4ee6-d45c-413c5a798332"
      },
      "source": [
        "rate_method_reason = pd.DataFrame()\n",
        "rate_method_reason = x_y_z_sanitation_data[[\"Rate the sanitary state of the identified feature\",\"If yes, what water treatment method is used? If no, why?\"]]\n",
        "r_m_r=rate_method_reason.groupby([\"Rate the sanitary state of the identified feature\",\"If yes, what water treatment method is used? If no, why?\"]).size().reset_index().rename(columns={0:'count'})\n",
        "lst_sanitary_state=r_m_r[\"Rate the sanitary state of the identified feature\"].to_list()\n",
        "lst_method_reason = r_m_r[\"If yes, what water treatment method is used? If no, why?\"].to_list()\n",
        "lst_count= r_m_r[\"count\"].to_list()\n",
        "\n",
        "print(\"Sanitary State | Method/Reason (count)\")\n",
        "print(\"_________________________________________\")\n",
        "for i in range(len(lst_sanitary_state)):\n",
        "  print(lst_sanitary_state[i],\"             |\",lst_method_reason[i], \"(\",lst_count[i],\")\")\n"
      ],
      "execution_count": 743,
      "outputs": [
        {
          "output_type": "stream",
          "text": [
            "Sanitary State | Method/Reason (count)\n",
            "_________________________________________\n",
            "1              | Boiling ( 2 )\n",
            "1              | Boiling water ( 1 )\n",
            "1              | Chlorinating ( 1 )\n",
            "1              | Chlorination ( 1 )\n",
            "1              | Chlorine ( 1 )\n",
            "1              | Chlorine treatment  ( 1 )\n",
            "1              | City council treated  ( 1 )\n",
            "1              | Council  ( 1 )\n",
            "1              | Decantation ( 1 )\n",
            "1              | Direct from the tap.   ( 1 )\n",
            "1              | Floating sewarage water ( 1 )\n",
            "1              | Ignorance ( 10 )\n",
            "1              | Lack of awareness ( 1 )\n",
            "1              | No storage tanks ( 1 )\n",
            "1              | No tanks ( 1 )\n",
            "1              | No water point observed ( 1 )\n",
            "1              | None ( 3 )\n",
            "1              | None  ( 1 )\n",
            "1              | Not aware ( 1 )\n",
            "1              | Not sure if treated ( 1 )\n",
            "1              | Not sure says its from the city council ( 1 )\n",
            "1              | The vendor is unaware ( 1 )\n",
            "1              | There are none ( 1 )\n",
            "1              | They drink directly from tap ( 1 )\n",
            "1              | They have no idea ( 1 )\n",
            "1              | Treated from the water source ( 1 )\n",
            "1              | Unaware ( 1 )\n",
            "1              | Water dispenser ( 1 )\n",
            "1              | boiling ( 1 )\n",
            "1              | chlorine ( 1 )\n",
            "1              | expense ( 1 )\n",
            "1              | filtration ( 1 )\n",
            "1              | ignorance ( 3 )\n",
            "1              | they dont care ( 1 )\n",
            "2              | Boiling ( 3 )\n",
            "2              | Boiling water ( 1 )\n",
            "2              | Chlorination ( 8 )\n",
            "2              | Chlorine treated  ( 1 )\n",
            "2              | Ignorance ( 3 )\n",
            "2              | Lack of awareness ( 1 )\n",
            "2              | Lack of proper chemicals ( 1 )\n",
            "2              | None ( 1 )\n",
            "2              | None obsevered  ( 1 )\n",
            "2              | Reservation ( 1 )\n",
            "2              | The area uses bottled bought drinking water, then we have no treatment methods around the area. ( 1 )\n",
            "2              | There’s no area with such facility or sale of treatment  ( 1 )\n",
            "2              | Too expensive ( 2 )\n",
            "2              | boiling ( 1 )\n",
            "2              | ignorance ( 3 )\n",
            "3              | Boiling ( 4 )\n",
            "3              | Boiling water ( 1 )\n",
            "3              | Chlorination ( 4 )\n",
            "3              | Chlorination, boiling ( 1 )\n",
            "3              | Chlorine ( 2 )\n",
            "3              | Chlorine treatment  ( 1 )\n",
            "3              | Chrorin ( 1 )\n",
            "3              | Crolin ( 1 )\n",
            "3              | Ignorance ( 1 )\n",
            "3              | No treatment plant  ( 1 )\n",
            "3              | None  ( 2 )\n",
            "3              | None observed ( 1 )\n",
            "3              | None observed  ( 1 )\n",
            "3              | Not sure ( 1 )\n",
            "3              | People buy bottled water ( 1 )\n",
            "3              | Running dirty water ( 1 )\n",
            "3              | They buy mostly bottled drinking water  ( 1 )\n",
            "3              | They can't afford it ( 1 )\n",
            "3              | We haven’t identified any treatment method around ( 1 )\n",
            "3              | Whater gurd ( 1 )\n",
            "3              | boiling ( 2 )\n",
            "3              | boiling/chlorination ( 1 )\n",
            "3              | chlorine ( 2 )\n",
            "3              | ignorance ( 1 )\n",
            "3              | lack of knowlegde on water treatment methods ( 1 )\n",
            "4              | Boiling ( 4 )\n",
            "4              | Boiling and watergaurd ( 1 )\n",
            "4              | Bought water ( 1 )\n",
            "4              | Chlorinated ( 2 )\n",
            "4              | Chlorination ( 18 )\n",
            "4              | Chlorine treatment  ( 2 )\n",
            "4              | Government county council  ( 1 )\n",
            "4              | Ignorance ( 5 )\n",
            "4              | No storage facility  ( 1 )\n",
            "4              | None ( 1 )\n",
            "4              | Purification ( 3 )\n",
            "4              | Water tank ( 2 )\n",
            "4              | Whater gurd ( 2 )\n",
            "4              | boiling ( 1 )\n",
            "4              | chlorination ( 1 )\n",
            "4              | ignorance ( 1 )\n",
            "4              | lack of awareness ( 1 )\n",
            "4              | purification and filtration. ( 1 )\n",
            "5              | Chlorinated ( 2 )\n",
            "5              | Chlorination ( 22 )\n",
            "5              | Chlorine ( 1 )\n",
            "5              | Cleaned tanks ( 1 )\n",
            "5              | Ignorance ( 7 )\n",
            "5              | Its borehole water ( 1 )\n",
            "5              | Not sure which one ( 1 )\n",
            "5              | Treated well ( 1 )\n",
            "5              | already treated ( 1 )\n",
            "5              | chlorine and water guard ( 1 )\n",
            "5              | ignorance ( 2 )\n",
            "5              | lack of knowledge ( 1 )\n",
            "6              | Boiling and watergaurd ( 1 )\n",
            "6              | Chlorinated ( 3 )\n",
            "6              | Chlorination ( 10 )\n",
            "6              | Ignorance ( 2 )\n",
            "6              | Water guard ( 1 )\n",
            "6              | Water tank ( 1 )\n",
            "6              | Watergaurd ( 1 )\n",
            "6              | Watertank ( 1 )\n",
            "6              | Whater gurd ( 1 )\n",
            "6              | chlorine and boiling. ( 1 )\n",
            "6              | ignorance ( 1 )\n",
            "7              | Boiling ( 1 )\n",
            "7              | Chlorinated ( 2 )\n",
            "7              | Chlorination ( 11 )\n",
            "7              | Water  ( 1 )\n",
            "7              | Water guard ( 1 )\n",
            "7              | chlorinated and purified ( 1 )\n",
            "7              | filtration ( 2 )\n",
            "7              | purification and filtration ( 1 )\n"
          ],
          "name": "stdout"
        }
      ]
    },
    {
      "cell_type": "markdown",
      "metadata": {
        "id": "hddq92C8234y"
      },
      "source": [
        "**From the above results, Highest sanitary state of the water is achieved when more people use Chlorination as their treatment method.**"
      ]
    },
    {
      "cell_type": "markdown",
      "metadata": {
        "id": "r_-TSThB3i6-"
      },
      "source": [
        "======================================================================================================================================================================================================================================"
      ]
    },
    {
      "cell_type": "markdown",
      "metadata": {
        "id": "Sv5Gps6u5ieR"
      },
      "source": [
        "### SECTION 2.2: SPATIAL DISTRIBUTION OF THE DATA\n",
        "\n",
        "This section will take a look at how various types of infrastructures are spatially ditributed based on their sanitary level. The section will also take a look at areas with high or low sanitary states.\n",
        "\n",
        "\n"
      ]
    },
    {
      "cell_type": "markdown",
      "metadata": {
        "id": "EUxJeSqN6J8x"
      },
      "source": [
        "### SECTION 2.2.1: SPATIAL DISTRIBUTION OF SANITARY INFRASTRUCTURE POINTS\n",
        "\n",
        "The data contains 7 unique sanitation states [ 1, 2, 3, 4, 5, 6, 7 ], 1 being the least sanitary state, and 7 being the most sanitary state. The code below shows how the unique states in the data can be revealled"
      ]
    },
    {
      "cell_type": "code",
      "metadata": {
        "colab": {
          "base_uri": "https://localhost:8080/"
        },
        "id": "Ocu3YSuaIp3Y",
        "outputId": "a1b6af0e-455b-411f-d2d7-5f51ccd93512"
      },
      "source": [
        "unique_staes = sanitation_data[\"Rate the sanitary state of the identified feature\"].unique()\n",
        "print(np.sort(unique_staes))"
      ],
      "execution_count": 744,
      "outputs": [
        {
          "output_type": "stream",
          "text": [
            "[1 2 3 4 5 6 7]\n"
          ],
          "name": "stdout"
        }
      ]
    },
    {
      "cell_type": "markdown",
      "metadata": {
        "id": "Iw6G14Ii7k5-"
      },
      "source": [
        "The next exercise is to observe the groupings of sanitary infrastrutures with the states 1 and 7. \n",
        "\n",
        "From CASE1 in SECTION 2.1.2.1, it was observed that the Run-off water / sewer lines and Solid Waste sites were the largest contributors to poor sanitary state of 1. On the other hand, more Water Storage Tanks were found in places with higher sanitary states such as 6 and 7. \n",
        "\n",
        "The following code will locate and plot low sanitary and high sanitary water infrastructures."
      ]
    },
    {
      "cell_type": "code",
      "metadata": {
        "colab": {
          "base_uri": "https://localhost:8080/",
          "height": 644
        },
        "id": "kJfamYp-7yEy",
        "outputId": "b6ea536f-d3ff-469a-da5f-4a21417e7a93"
      },
      "source": [
        "# Get the indices for level 1 sanitary state at Run off water/sewer line\" and \"Solid waste site\"\n",
        "sanitary_infrastructure_level1=[]\n",
        "\n",
        "for i in range(244):\n",
        "  if(sanitation_data.loc[i,\"Rate the sanitary state of the identified feature\"]==1):\n",
        "    if(sanitation_data.loc[i,\"Type of infrastructure component/features of interest\"]==\"Run off water/sewer line\" or sanitation_data.loc[i,\"Type of infrastructure component/features of interest\"]==\"Solid waste site\"): \n",
        "      sanitary_infrastructure_level1.append(i)\n",
        "\n",
        "\n",
        "# Get the indices for level 7 sanitary state at \"Water storage tank\"\n",
        "sanitary_infrastructure_level7=[]\n",
        "for i in range(244):\n",
        "  if(sanitation_data.loc[i,\"Rate the sanitary state of the identified feature\"]==7):\n",
        "    if(sanitation_data.loc[i,\"Type of infrastructure component/features of interest\"]==\"Water storage tank\"): \n",
        "      sanitary_infrastructure_level7.append(i)\n",
        "\n",
        "\n",
        "level1_coordinates = lat_long_ele_sanitation.loc[sanitary_infrastructure_level1,\"latitude\":\"longitude\"].to_numpy()\n",
        "level7_coordinates = lat_long_ele_sanitation.loc[sanitary_infrastructure_level7,\"latitude\":\"longitude\"].to_numpy()\n",
        "\n",
        "\n",
        "%matplotlib inline\n",
        "plt.rcParams['figure.figsize'] = [10, 10]\n",
        "plt.rcParams.update({'font.size': 18})\n",
        "\n",
        "ax = plt.gca()\n",
        "P1=ax.scatter(level1_coordinates[:,0], level1_coordinates[:,1], color=\"r\")\n",
        "P2=ax.scatter(level7_coordinates[:,0], level7_coordinates[:,1], color=\"b\")\n",
        "ax.legend([P1,P2],[\"Sanitary state 1\",\"Sanitary state 7\"])\n",
        "plt.xlabel(\"latitude\")\n",
        "plt.ylabel(\"longitude\")\n",
        "plt.title(\"Sanitary Infrastuctures at state 1 (RED) and state 7 (BLUE)\")\n",
        "plt.show()\n",
        "\n",
        "\n",
        "      \n",
        "\n",
        "\n",
        "\n"
      ],
      "execution_count": 745,
      "outputs": [
        {
          "output_type": "display_data",
          "data": {
            "image/png": "[encoded data removed]",
            "text/plain": [
              "<Figure size 720x720 with 1 Axes>"
            ]
          },
          "metadata": {
            "tags": [],
            "needs_background": "light"
          }
        }
      ]
    },
    {
      "cell_type": "markdown",
      "metadata": {
        "id": "QFMaWgpqtPMl"
      },
      "source": [
        "From the Figure above, it can be seen that the Sanitary Infrastructures with low sanitary state (RED-State 1) mostly occur in clusters geographically. In this case they are clustered in the WEST of the area of interest area (South with respect to the plot. Note the direction of latitudes and longitudes).\n",
        "\n",
        "On the other hand, Sanitary Infrastructures with high sanitary state (BLUE- State 7) are fewer and less clustered."
      ]
    },
    {
      "cell_type": "markdown",
      "metadata": {
        "id": "R05ruMKnxqwj"
      },
      "source": [
        "======================================================================================================================================================================================================================================"
      ]
    },
    {
      "cell_type": "markdown",
      "metadata": {
        "id": "_tAHtqxExuhR"
      },
      "source": [
        "### SECTION 2.2.2: SPATIAL DISTRIBUTION OF LOW AND HIGH SANITARY STATES\n",
        "\n",
        "While SECTION 2.2.1 focused on the distribution of the least and most sanitary infrastructures, this section will take a look at a wider picture. Here, low sanitary states will be regarded as states 1 and 2. High sanitary states will be regarded as staets 6 and 7. In both cases, the sanitary infrastructures won't be taken into account.\n",
        "\n",
        "This section is more or less a more general case of SECTION 2.2.2. The following code locates all the states in question and diplay them on a plot."
      ]
    },
    {
      "cell_type": "code",
      "metadata": {
        "colab": {
          "base_uri": "https://localhost:8080/",
          "height": 644
        },
        "id": "N1s3ns5mK9qs",
        "outputId": "a35b926b-c1e8-406b-eb1d-4ff14a7e805a"
      },
      "source": [
        "sanitary_level1_2=[]\n",
        "\n",
        "for i in range(242):\n",
        "  if(sanitation_data.loc[i,\"Rate the sanitary state of the identified feature\"]==1 or sanitation_data.loc[i,\"Rate the sanitary state of the identified feature\"]==2):\n",
        "    sanitary_level1_2.append(i)\n",
        "\n",
        "\n",
        "\n",
        "sanitary_level6_7=[]\n",
        "\n",
        "for i in range(242):\n",
        "  if(sanitation_data.loc[i,\"Rate the sanitary state of the identified feature\"]==6 or sanitation_data.loc[i,\"Rate the sanitary state of the identified feature\"]==7):\n",
        "    sanitary_level6_7.append(i)\n",
        "\n",
        "level1_2_coordinates = lat_long_ele_sanitation.loc[sanitary_level1_2,\"latitude\":\"longitude\"].to_numpy()\n",
        "level6_7_coordinates = lat_long_ele_sanitation.loc[sanitary_level6_7,\"latitude\":\"longitude\"].to_numpy()\n",
        "\n",
        "ax = plt.gca()\n",
        "P1=ax.scatter(level1_2_coordinates[:,0], level1_2_coordinates[:,1], color=\"r\")\n",
        "P2=ax.scatter(level6_7_coordinates[:,0], level6_7_coordinates[:,1], color=\"b\")\n",
        "ax.legend([P1,P2],[\"Sanitary states 1 and 2\",\"Sanitary states 6 and 7\"])\n",
        "plt.xlabel(\"latitude\")\n",
        "plt.ylabel(\"longitude\")\n",
        "plt.title(\"Sanitary states 1 & 2 (RED) and states 6 & 7 (BLUE)\")\n",
        "plt.ylim((36.74, 36.78))\n",
        "plt.xlim((-1.405, -1.385))\n",
        "plt.show()"
      ],
      "execution_count": 746,
      "outputs": [
        {
          "output_type": "display_data",
          "data": {
            "image/png": "[encoded data removed]",
            "text/plain": [
              "<Figure size 720x720 with 1 Axes>"
            ]
          },
          "metadata": {
            "tags": [],
            "needs_background": "light"
          }
        }
      ]
    },
    {
      "cell_type": "markdown",
      "metadata": {
        "id": "GsYTh-Y4P1oA"
      },
      "source": [
        "The above plot shows that the low santary states 1 and 2 appear in more dense clusters with the densest clusters located in the WEST of the target area (South with respect to the plot) and Central-East of the target area. The higher sanitary states are less dense and less numerous."
      ]
    },
    {
      "cell_type": "markdown",
      "metadata": {
        "id": "eKX8o6lRaR7Q"
      },
      "source": [
        "======================================================================================================================================================================================================================================"
      ]
    },
    {
      "cell_type": "markdown",
      "metadata": {
        "id": "3FIqMtxoaLfq"
      },
      "source": [
        "### SECTION 2.3: K-MEANS\n",
        "\n",
        "This section will take  look at how the numerical information (latitudes, longitudes, elevations and sanitary states) of the dataset can be used to group the data points together.\n",
        "\n",
        "K-means will be used for clustering as shown in the following code"
      ]
    },
    {
      "cell_type": "code",
      "metadata": {
        "id": "A3kPqjMab8_1"
      },
      "source": [
        "from sklearn.metrics.pairwise import euclidean_distances\n",
        "from sklearn.cluster import KMeans\n",
        "\n",
        "# Get the X, Y, Z and Sanitary Rates\n",
        "# X, Y, Z coordinates will be used instead of the polar coordinates due to scalling problems associated with polar coordinates\n",
        "\n",
        "xyz_rates = x_y_z_sanitation_data[[\"X\",\"Y\",\"Rate the sanitary state of the identified feature\"]].to_numpy()\n",
        "\n",
        "\n",
        "\n",
        "# Standardize the columns\n",
        "xyz_rates_standardized = (xyz_rates - np.mean(xyz_rates)) / np.std(xyz_rates)\n",
        "\n",
        "lat_long_sanitation = lat_long_sanitation.to_numpy()"
      ],
      "execution_count": 747,
      "outputs": []
    },
    {
      "cell_type": "markdown",
      "metadata": {
        "id": "gJ6wRVhvejE7"
      },
      "source": [
        "At this point, K-means is ready to start, however, it is good idea to determine the value of K before proceeding with clustering. The following code helps in finding the value of K. The optimum value is found at the **elbow** of the curve"
      ]
    },
    {
      "cell_type": "code",
      "metadata": {
        "colab": {
          "base_uri": "https://localhost:8080/",
          "height": 644
        },
        "id": "jGzY1BmQfFMY",
        "outputId": "bd68e90d-5eba-4f6b-b60f-0f519792329a"
      },
      "source": [
        "# Finding the value of K\n",
        "cost =[] \n",
        "for i in range(1, 11): \n",
        "    KM = KMeans(n_clusters = i, max_iter = 500) \n",
        "    KM.fit(xyz_rates_standardized) # USE STANDARDIZED DATA HERE\n",
        "      \n",
        "    # calculates squared error for the clustered points \n",
        "    cost.append(KM.inertia_)      \n",
        "  \n",
        "# plot the cost against K values \n",
        "plt.plot(range(1, 11), cost, color ='g', linewidth ='3') \n",
        "plt.xlabel(\"Value of K\") \n",
        "plt.ylabel(\"Sqaured Error (Cost)\") \n",
        "plt.title(\"Elbow Method to Determine optimum K\")\n",
        "plt.show() "
      ],
      "execution_count": 748,
      "outputs": [
        {
          "output_type": "display_data",
          "data": {
            "image/png": "[encoded data removed]",
            "text/plain": [
              "<Figure size 720x720 with 1 Axes>"
            ]
          },
          "metadata": {
            "tags": [],
            "needs_background": "light"
          }
        }
      ]
    },
    {
      "cell_type": "markdown",
      "metadata": {
        "id": "Q8KyEtbugUuX"
      },
      "source": [
        "From the above curve, the elbow is at K=3. The code below will proceed with K-means clustering of the data."
      ]
    },
    {
      "cell_type": "code",
      "metadata": {
        "colab": {
          "base_uri": "https://localhost:8080/",
          "height": 644
        },
        "id": "EJaP9GtXgvNd",
        "outputId": "8e5f3031-2ea7-4b0c-f47a-f225e8bb9aef"
      },
      "source": [
        "#####################################################################################\n",
        "# BEGIN K-MEANS\n",
        "#####################################################################################\n",
        "kmeans = KMeans(n_clusters= 3)\n",
        "label = kmeans.fit_predict(xyz_rates_standardized) \n",
        "u_labels = np.unique(label)\n",
        "\n",
        "fig = plt.figure()\n",
        "for i in u_labels:\n",
        "    plt.scatter(lat_long_sanitation[label == i , 0] , lat_long_sanitation[label == i , 1] , label = i) \n",
        "plt.legend()\n",
        "plt.xlabel(\"latitude\")\n",
        "plt.ylabel(\"longitude\")\n",
        "plt.title(\"K-Means Clusters at K=3\")\n",
        "plt.show()"
      ],
      "execution_count": 749,
      "outputs": [
        {
          "output_type": "display_data",
          "data": {
            "image/png": "[encoded data removed]",
            "text/plain": [
              "<Figure size 720x720 with 1 Axes>"
            ]
          },
          "metadata": {
            "tags": [],
            "needs_background": "light"
          }
        }
      ]
    },
    {
      "cell_type": "code",
      "metadata": {
        "colab": {
          "base_uri": "https://localhost:8080/",
          "height": 644
        },
        "id": "2JK6NGGAuOyj",
        "outputId": "698fca5e-a075-4828-f597-3fd31c23dadb"
      },
      "source": [
        "#####################################################################################\n",
        "# BEGIN K-MEANS\n",
        "#####################################################################################\n",
        "kmeans = KMeans(n_clusters= 4)\n",
        "label = kmeans.fit_predict(xyz_rates_standardized) \n",
        "u_labels = np.unique(label)\n",
        "\n",
        "fig = plt.figure()\n",
        "for i in u_labels:\n",
        "    plt.scatter(lat_long_sanitation[label == i , 0] , lat_long_sanitation[label == i , 1] , label = i) \n",
        "plt.legend()\n",
        "plt.xlabel(\"latitude\")\n",
        "plt.ylabel(\"longitude\")\n",
        "plt.title(\"K-Means Clusters at K=4\")\n",
        "plt.show()"
      ],
      "execution_count": 750,
      "outputs": [
        {
          "output_type": "display_data",
          "data": {
            "image/png": "[encoded data removed]",
            "text/plain": [
              "<Figure size 720x720 with 1 Axes>"
            ]
          },
          "metadata": {
            "tags": [],
            "needs_background": "light"
          }
        }
      ]
    },
    {
      "cell_type": "markdown",
      "metadata": {
        "id": "orpVsMgTv76o"
      },
      "source": [
        "The above K-means plots at K= 3 and at K=4 are consitent with previous plots on sanitary states in SECTIONS 2.2.1 and 2.2.2. We can see that in all plots, the cluster centered at around latitude -1.395 and longitude 36.747.5 is entirely made up of sanitary states of 1 and 2. Furthermore, in all plots, the cluster centered at around latitude -1.390 and longitude 36.765 is entirely made up of sanitary states of 6 and 7. Therefore, the classification by K-means should more or less represent the grouping of the data points"
      ]
    },
    {
      "cell_type": "markdown",
      "metadata": {
        "id": "on7Gcq7azeXW"
      },
      "source": [
        "======================================================================================================================================================================================================================================"
      ]
    },
    {
      "cell_type": "markdown",
      "metadata": {
        "id": "KPs5Se3XzSFh"
      },
      "source": [
        "# SECTION 3: SUMMARY OF RESULTS AND CONCLUSION\n",
        "\n",
        "**SECTION 1**  talked about data proparation, formatting and transformation of polar coordinates (latitudes and longitudes) into cartesian coordinates X, and  Y via GEODETIC TO ECEF CONVERSION. This was necessary because polar values don't behave the same way as linear when scalled. This could inturn result in errors during clustering. The Section also discussed how using Google's Elevation API, elevations were added to the existing dataset (which originally had latitudes, longitudes, but not altitudes). However, this turned out to not be necessary for this project.\n",
        "\n",
        "**SECTION 2** had 3 main parts - 2.1, 2.2 and 2.3\n",
        "SECTION 2.1 was about Gower's Similarity Matrix and how it could be used to determine the most similar data points in the dataset. It can therefore be used to determine various datapoints which would be grouped together. Section 2.1 also looked at the Relation between Sanitary states and the rest of the variables. It was found that Run off  / sewage water and Solid waste cites were associated with low sanitary states of 1, especially in areas with Open water bodies. On the other hand, areas with higher sanitary states were found to have more water storage tanks and the absence of former. The type of drinking water could not determine the sanitary state. Last but not least, High sanitary states of 6 and 7 were found where people treated the water, mostly via Chlorination.\n",
        "\n",
        "SECTION 2.2 was about Spatial distribution of infrastructures with least and highest sanitary states. It also looked at the general distribution of sanitary states on the map using the location coordinates.\n",
        "\n",
        "**SECTION 2.3** demonstrated the use of K-means to determine clusters or groups of connected data points. It was found that the grouping was consistent with the spatial distribution of the various sanitary states in SECTION 2.2\n",
        "\n"
      ]
    }
  ]
}