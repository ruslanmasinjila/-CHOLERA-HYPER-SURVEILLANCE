{
  "nbformat": 4,
  "nbformat_minor": 0,
  "metadata": {
    "colab": {
      "name": "cholera-hyper-surveillance_v2.ipynb",
      "provenance": [],
      "collapsed_sections": [],
      "toc_visible": true
    },
    "kernelspec": {
      "display_name": "Python 3",
      "name": "python3"
    }
  },
  "cells": [
    {
      "cell_type": "markdown",
      "metadata": {
        "id": "-p9fKvm_stYk"
      },
      "source": [
        "### **SECTION 1: SANITATION DATA**\n",
        "\n",
        "\n",
        "This section describes the process of loading, processing and transformation of the available raw data into the shape and form suitable for clustering algorithms."
      ]
    },
    {
      "cell_type": "markdown",
      "metadata": {
        "id": "If4A8_CEv9e7"
      },
      "source": [
        "### SECTION 1.1: UPLOAD OF DATA TO GOOGLE COLAB\n",
        "\n",
        "The data collected consists of 244 rows (points), each of which has 7 columns (features). The 7 features are:\n",
        "\n",
        "1. Timestamp\n",
        "2. GPS coordinates\n",
        "3. Type of infrastructure component/features of interest\n",
        "4. Rate the sanitary state of the identified feature\n",
        "5. What is the main source of drinking water in the area?\t\n",
        "6. Are water treatment methods observed in the area?\n",
        "7. If yes, what water treatment method is used? If no, why?\n",
        "\n",
        "The first step in the analysis of the data was to upload a file called **sanitation_data.csv** from a local computer to Google Colab using Colab's library as show below (commented out because data had been uploaded to Google Colab at the time of writing this report):\n",
        "\n"
      ]
    },
    {
      "cell_type": "code",
      "metadata": {
        "id": "rp9OXSMsyf0u",
        "colab": {
          "base_uri": "https://localhost:8080/"
        },
        "outputId": "a4e12ab2-cfcf-4708-b512-bb13af67f88b"
      },
      "source": [
        "########## LEAVE THIS COMMENTED BECAUSE THE FILE HAS BEEN UPLOADED ##########\n",
        "%reset -f\n",
        "!pip install wget\n",
        "import wget\n",
        "url_sanitation_data = \"https://raw.githubusercontent.com/ruslanmasinjila/CHOLERA-HYPER-SURVEILLANCE/master/data/sanitation_data.csv\"\n",
        "url_elevations_json_data = \"https://raw.githubusercontent.com/ruslanmasinjila/CHOLERA-HYPER-SURVEILLANCE/master/data/elevations_data.json\"\n",
        "#from google.colab import files\n",
        "sanitation_data = wget.download(url_sanitation_data)\n",
        "elevations_json_data = wget.download(url_elevations_json_data)"
      ],
      "execution_count": 32,
      "outputs": [
        {
          "output_type": "stream",
          "text": [
            "Requirement already satisfied: wget in /usr/local/lib/python3.7/dist-packages (3.2)\n"
          ],
          "name": "stdout"
        }
      ]
    },
    {
      "cell_type": "markdown",
      "metadata": {
        "id": "nMxAbgYr0EBD"
      },
      "source": [
        "### SECTION 1.2: PANDAS DATAFRAME\n",
        "\n",
        "The data from **sanitation_data.csv** was read and converted to Pandas Data Frame using the Pandas library as shown below:"
      ]
    },
    {
      "cell_type": "code",
      "metadata": {
        "id": "iY-wEot-0ys2"
      },
      "source": [
        "import pandas as pd\n",
        "sanitation_data = pd.read_csv(\"sanitation_data.csv\")\n",
        "\n",
        "# shuffle the DataFrame rows\n",
        "# sanitation_data = sanitation_data.sample(frac = 1)\n",
        "\n",
        "sanitation_data[\"Type of infrastructure component/features of interest\"] = sanitation_data[\"Type of infrastructure component/features of interest\"].replace(['municipal water ','County  council ', 'County water'],'Community water point')\n",
        "sanitation_data[\"Type of infrastructure component/features of interest\"] = sanitation_data[\"Type of infrastructure component/features of interest\"].replace(['Garbage','Gabbage','Garvage'],'Solid waste site')\n",
        "sanitation_data[\"Type of infrastructure component/features of interest\"] = sanitation_data[\"Type of infrastructure component/features of interest\"].replace(['Borehole','Tap water', 'Rain water'],'Other infrastructures')\n",
        "#print(sanitation_data[\"Type of infrastructure component/features of interest\"].value_counts())\n",
        "\n",
        "sanitation_data[\"What is the main source of drinking water in the area?\"] = sanitation_data[\"What is the main source of drinking water in the area?\"].replace(['Borhole','Borehole ', 'Borohol','borehole','Bowhole','Bohole','Borehole water', 'Piped and borehole','Bore hole','Borehol','Tap water/ borehole water'],'Borehole')\n",
        "sanitation_data[\"What is the main source of drinking water in the area?\"] = sanitation_data[\"What is the main source of drinking water in the area?\"].replace(['Bottle water','Bottled water ','bottled','Bottlled water','Bottled and tap water '],'Bottled water')\n",
        "sanitation_data[\"What is the main source of drinking water in the area?\"] = sanitation_data[\"What is the main source of drinking water in the area?\"].replace(['River','river','Rever'],'River water')\n",
        "sanitation_data[\"What is the main source of drinking water in the area?\"] = sanitation_data[\"What is the main source of drinking water in the area?\"].replace(['Running tap water','tap water ','tap water','Tap','Tap water ','Tap from olerai ','Running tap'],'Tap water')\n",
        "sanitation_data[\"What is the main source of drinking water in the area?\"] = sanitation_data[\"What is the main source of drinking water in the area?\"].replace(['Community water point','Tap water from community water centre','Tap/kanjo ','Citycouncil water','Community water tank ','community water point','Community water tank','Kanjo water '],'Community water point')\n",
        "sanitation_data[\"What is the main source of drinking water in the area?\"] = sanitation_data[\"What is the main source of drinking water in the area?\"].replace(['Stotage tank','Storage tank','storage tanks','Storage water tank','Water tank'],'Water storage tank')\n",
        "sanitation_data[\"What is the main source of drinking water in the area?\"] = sanitation_data[\"What is the main source of drinking water in the area?\"].replace(['rain water','Rain water/ tap water','Rain water/tapwater', 'Rain water', 'run off', 'run off water', 'Run off water'], 'Other Sources')\n",
        "sanitation_data[\"What is the main source of drinking water in the area?\"] = sanitation_data[\"What is the main source of drinking water in the area?\"].replace(['Water vendor','refill water','Refill','water refill points','donkey cart','Water refil'],'Water refill')\n",
        "sanitation_data[\"What is the main source of drinking water in the area?\"] = sanitation_data[\"What is the main source of drinking water in the area?\"].replace(['piped water','Piped','piped'],'Water pipe')\n",
        "sanitation_data[\"What is the main source of drinking water in the area?\"] = sanitation_data[\"What is the main source of drinking water in the area?\"].replace(['Non','Non '],'None')\n",
        "#print(sanitation_data[\"What is the main source of drinking water in the area?\"].value_counts())\n",
        "\n",
        "sanitation_data[\"If yes, what water treatment method is used? If no, why?\"] = sanitation_data[\"If yes, what water treatment method is used? If no, why?\"].replace(['Crolin','chlorine and water guard','Whater gurd','Watergaurd','Water guard','chlorinated and purified','Chlorine treated ','Chlorine','Chlorine treatment ','Chrorin','chlorine','chlorination','Chlorinating','Chlorinated'],'Chlorination')\n",
        "sanitation_data[\"If yes, what water treatment method is used? If no, why?\"] = sanitation_data[\"If yes, what water treatment method is used? If no, why?\"].replace(['Not sure if treated','Not sure','Not sure which one','The vendor is unaware','Not aware','lack of awareness','Unaware','lack of knowledge','they dont care','Lack of awareness','They have no idea','lack of knowlegde on water treatment methods','ignorance', 'Ignorance'],'Ignorance / Unawareness')\n",
        "sanitation_data[\"If yes, what water treatment method is used? If no, why?\"] = sanitation_data[\"If yes, what water treatment method is used? If no, why?\"].replace(['Boiling and watergaurd','chlorine and boiling.','Chlorination, boiling','boiling','Boiling water','boiling/chlorination'],'Boiling')\n",
        "sanitation_data[\"If yes, what water treatment method is used? If no, why?\"] = sanitation_data[\"If yes, what water treatment method is used? If no, why?\"].replace(['They buy mostly bottled drinking water ','Bought water','People buy bottled water','The area uses bottled bought drinking water, then we have no treatment methods around the area.'],'Bottled water')\n",
        "sanitation_data[\"If yes, what water treatment method is used? If no, why?\"] = sanitation_data[\"If yes, what water treatment method is used? If no, why?\"].replace(['Lack of proper chemicals','expense',\"They can't afford it\",'Too expensive'],'Expensive')\n",
        "sanitation_data[\"If yes, what water treatment method is used? If no, why?\"] = sanitation_data[\"If yes, what water treatment method is used? If no, why?\"].replace(['Government county council ','Council ','Not sure says its from the city council','Treated well','Treated from the water source','City council treated '],'City council')\n",
        "sanitation_data[\"If yes, what water treatment method is used? If no, why?\"] = sanitation_data[\"If yes, what water treatment method is used? If no, why?\"].replace(['None observed ','None observed','No water point observed','Cleaned tanks','None','Reservation','None obsevered ','Watertank','There are none','Water tank','No tanks','Running dirty water','Water ','already treated','No storage facility ','No storage tanks','Its borehole water','They drink directly from tap','No treatment plant ','None ','Direct from the tap.  ','There’s no area with such facility or sale of treatment ','We haven’t identified any treatment method around','Floating sewarage water'],'None / Unclear response')\n",
        "sanitation_data[\"If yes, what water treatment method is used? If no, why?\"] = sanitation_data[\"If yes, what water treatment method is used? If no, why?\"].replace(['purification and filtration','purification and filtration.','filtration','Water dispenser','Purification','Decantation'],'Other methods (Purification, Filtration, Decantation, Water dispenser)')\n",
        "#print(sanitation_data[\"If yes, what water treatment method is used? If no, why?\"].value_counts())"
      ],
      "execution_count": 33,
      "outputs": []
    },
    {
      "cell_type": "markdown",
      "metadata": {
        "id": "SzMNcmKv1eoI"
      },
      "source": [
        "### SECTION 1.3: REMOVAL OF TIMESTAMP COLUMN\n",
        "\n",
        "The first column of the **sanitation_data** dataframe obtained in SECTION 1.2 contained **Timestamp** column which was removed as follows:"
      ]
    },
    {
      "cell_type": "code",
      "metadata": {
        "id": "rcmqFV3-2fVB"
      },
      "source": [
        "sanitation_data = sanitation_data.drop([\"Timestamp\"],axis=1)"
      ],
      "execution_count": 34,
      "outputs": []
    },
    {
      "cell_type": "markdown",
      "metadata": {
        "id": "s8rOuTX53Bnv"
      },
      "source": [
        "### SECTION 1.4: DECOUPLING OF GPS COORDINATES\n",
        "\n",
        "The **GPS Coordinates** column of the sanitation data was in the form of a string **\"latitude, longitude\"**. This form of representation was decoupled into separate numerical **latitude** and **longitude** columns as follows:"
      ]
    },
    {
      "cell_type": "code",
      "metadata": {
        "id": "j11mTrpP4AEa"
      },
      "source": [
        "temp= sanitation_data[['GPS coordinates']]\n",
        "lat_long_sanitation=pd.DataFrame()\n",
        "lat_long_sanitation[['latitude','longitude']] = temp['GPS coordinates'].str.split(',',expand=True).astype(float)"
      ],
      "execution_count": 35,
      "outputs": []
    },
    {
      "cell_type": "markdown",
      "metadata": {
        "id": "lsNj0Fit4WhG"
      },
      "source": [
        "### SECTION 1.5: DREMOVAL OF GPS COORDINATES COLUMN\n",
        "The **GPS Coordinates** column was then removed from the dataframe as follows:"
      ]
    },
    {
      "cell_type": "code",
      "metadata": {
        "id": "ehpYz3W248f5"
      },
      "source": [
        "sanitation_data = sanitation_data.drop(['GPS coordinates'], axis=1)\n",
        "#print(sanitation_data.head())"
      ],
      "execution_count": 36,
      "outputs": []
    },
    {
      "cell_type": "markdown",
      "metadata": {
        "id": "lLEM-bAb7Ty3"
      },
      "source": [
        "At this point, there are two Pandas dataframes.\n",
        "\n",
        "The **sanitation_data** with the following columns:\n",
        "\n",
        "1. Type of infrastructure component/features of interest\n",
        "2. Rate the sanitary state of the identified feature\n",
        "3. What is the main source of drinking water in the area?\n",
        "4. Are water treatment methods observed in the area?\n",
        "5. If yes, what water treatment method is used? If no, why?\n",
        "\n",
        "The **lat_long_sanitation** with the following columns:\n",
        "\n",
        "1. latitude\n",
        "2. longitude"
      ]
    },
    {
      "cell_type": "markdown",
      "metadata": {
        "id": "3ILIz-9-8Ap9"
      },
      "source": [
        "### SECTION 1.6: INSERTION OF ELEVATION COLUMN INTO lat_long_sanitation\n",
        "\n",
        "The **GPS Coordinates** column described in SECTION 1.4 resulted into only two separate numerical columns for latitudes and longitudes. A third column, called **elevation**, which contained heights at the corresponding longitudes and latitudes was added with the help of [Google's Point Elevation API](https://developers.google.com/maps/documentation/elevation/overview). The API simply returns a json file with the heights for each latitude-longitude pair. This file was renamed to **elevations_data.json**. The following code shows how this API can be used."
      ]
    },
    {
      "cell_type": "code",
      "metadata": {
        "id": "_BWk8UXXAjjs"
      },
      "source": [
        "temp=lat_long_sanitation.to_csv(header=None, index=False).split('\\n')\n",
        "lat_long_API = '|'.join([str(elem) for elem in temp]) \n",
        "lat_long_API = lat_long_API[0:-1]\n",
        "#print(lat_long_API)\n",
        "#https://maps.googleapis.com/maps/api/elevation/json?locations=lat_long_API&key=YOUR_API_KEY"
      ],
      "execution_count": 37,
      "outputs": []
    },
    {
      "cell_type": "markdown",
      "metadata": {
        "id": "gZvc_aIhCzE7"
      },
      "source": [
        "The file **elevations_data.json** was uploaded to Google Colab in SECTION 1.1 along with **sanitation_data.csv**"
      ]
    },
    {
      "cell_type": "markdown",
      "metadata": {
        "id": "rUA98WD1DxLf"
      },
      "source": [
        "All the elevations from **elevations_data.json** were loaded into **elevations** list as follows:"
      ]
    },
    {
      "cell_type": "code",
      "metadata": {
        "id": "aoHpLy0BEAUA"
      },
      "source": [
        "import json\n",
        "\n",
        "with open('elevations_data.json') as f:\n",
        "  elevations_data = json.load(f)\n",
        "\n",
        "elevations = []\n",
        "\n",
        "for i in elevations_data[\"results\"]:\n",
        "  elevations.append(i.get(\"elevation\"))"
      ],
      "execution_count": 38,
      "outputs": []
    },
    {
      "cell_type": "markdown",
      "metadata": {
        "id": "sEzQNxe8FQgW"
      },
      "source": [
        "The elevations of the **elevations** list were joined with the latitudes and longitudes of the **lat_long_sanitation** dataframe to form **lat_long_ele_sanitation** dataframe as follows:"
      ]
    },
    {
      "cell_type": "code",
      "metadata": {
        "id": "27Pco17yGfaq"
      },
      "source": [
        "lat_long_ele_sanitation = lat_long_sanitation\n",
        "lat_long_ele_sanitation[\"elevation\"] = elevations"
      ],
      "execution_count": 39,
      "outputs": []
    },
    {
      "cell_type": "markdown",
      "metadata": {
        "id": "GKmZIFDWHtb_"
      },
      "source": [
        "### SECTION 1.7: TRANSFORMATION OF LATITUDES, LONGITUDES, AND ELEVATIONS INTO X, Y,  Z COORDINATES"
      ]
    },
    {
      "cell_type": "markdown",
      "metadata": {
        "id": "75a0MkBlIRB9"
      },
      "source": [
        "By this point, there are three Pandas dataframes. \n",
        "\n",
        "The **sanitation_data** with the following columns:\n",
        "1. Type of infrastructure component/features of interest\n",
        "2. Rate the sanitary state of the identified feature\n",
        "3. What is the main source of drinking water in the area?\n",
        "4. Are water treatment methods observed in the area?\n",
        "5. If yes, what water treatment method is used? If no, why?\n",
        "\n",
        "\n",
        "The **lat_long_sanitation** with the following columns:\n",
        "1. latitude\n",
        "2. longitude\n",
        "\n",
        "and the **lat_long_elev_sanitation** with the following columns:\n",
        "1. latitude\n",
        "2. longitude\n",
        "3. elevation\n",
        "\n",
        "\n",
        "Since the latitudes, longitudes, and elevations are angular measurements, they can't be linearly scalled to produce meaningul results in clustering algorithms such as **K-means**, which is one of the clustering algorithms to be covered in SECTION 2."
      ]
    },
    {
      "cell_type": "markdown",
      "metadata": {
        "id": "WAeGXPwIKDA9"
      },
      "source": [
        "### SECTION 1.7.1: GEODETIC TO ECEF CONVERSION\n",
        "\n",
        "One of the common ways of converting latitudes ($\\phi$), longitudes ($\\lambda$), and elevation ($h$) from their polar form to their linear/cartesian form (X,Y,Z) is called Geodetic to ECEF (acronym for earth-centered, earth-fixed) conversion.\n",
        "\n",
        "In this conversion, we have:\n",
        "\n",
        "$X = (N(\\phi)+h)cos(\\phi)cos(\\lambda)$\n",
        "\n",
        "$Y = (N(\\phi)+h)cos(\\phi)sin(\\lambda)$\n",
        "\n",
        "$Z = \\left(\\frac{b²}{a²}N(\\phi)+h \\right)sin(\\phi)$\n",
        "\n",
        "Where:\n",
        "\n",
        "$N(\\phi)=\\frac{a}{\\sqrt{1-e^{2}sin^2\\phi}}$ and $e^{2}=1-\\frac{b^2}{a^2}$\n",
        "\n",
        "and\n",
        "\n",
        "$a=6378137.0 m$\n",
        "\n",
        "$b=6356752.314245 m m$"
      ]
    },
    {
      "cell_type": "markdown",
      "metadata": {
        "id": "uIuLPSAsLGH_"
      },
      "source": [
        "The following code implements the above set of equations to transform the polar coordinates in **lat_long_ele_sanitation** dataframe to their linear/cartesian equivalent in the **X_Y_Z** dataframe."
      ]
    },
    {
      "cell_type": "code",
      "metadata": {
        "id": "D6SHCcA-O_0u"
      },
      "source": [
        "import math\n",
        "\n",
        "\n",
        "a=6378137.0\n",
        "b=6356752.314245\n",
        "e_squared=1-(b**2)/(a**2)\n",
        "\n",
        "# Latitude (deg), Longitude (deg), Elevation (meters)\n",
        "def geodetic_to_ecef(latitude,longitude,elevation):\n",
        "    \n",
        "    lamb = math.radians(latitude)\n",
        "    phi = math.radians(longitude)\n",
        "    h=elevation\n",
        "\n",
        "\n",
        "\n",
        "    Nphi=a/math.sqrt(1-e_squared*(math.sin(lamb))**2)\n",
        "\n",
        "    sin_lambda = math.sin(lamb)\n",
        "    cos_lambda = math.cos(lamb)\n",
        "    sin_phi = math.sin(phi)\n",
        "    cos_phi = math.cos(phi)\n",
        "\n",
        "    X = (Nphi+h) * cos_lambda * cos_phi\n",
        "    Y = (Nphi+h) * cos_lambda * sin_phi\n",
        "    Z = (((1 - e_squared) * Nphi)+h)* sin_lambda\n",
        "\n",
        "    return X,Y,Z\n",
        "\n",
        "X_Y_Z=lat_long_ele_sanitation.apply(lambda row:geodetic_to_ecef(row[\"latitude\"],row[\"longitude\"],row[\"elevation\"]), axis=1)\n",
        "\n",
        "# Convert the series to Pandas DataFrame\n",
        "X_Y_Z = X_Y_Z.to_frame()\n",
        "X_Y_Z = pd.DataFrame(X_Y_Z[0].to_list(), columns=['X','Y','Z'])\n",
        "\n",
        "\n",
        "#print(X_Y_Z)\n",
        "#print(sanitation_data)"
      ],
      "execution_count": 40,
      "outputs": []
    },
    {
      "cell_type": "markdown",
      "metadata": {
        "id": "IxrmNQdSQrNI"
      },
      "source": [
        "### SECTION 1.7.2: COMBINING TRANSFORMED COORDINATES WITH REST OF DATA\n",
        "\n",
        "The following code shows the joining of **X_Y_Z** dataframe to **sanitation_data** dataframe to form the **xyz_sanitation_data** dataframe that has the basic form for clustering in SECTION 2."
      ]
    },
    {
      "cell_type": "code",
      "metadata": {
        "id": "2TozgOBXSn_P"
      },
      "source": [
        "x_y_z_sanitation_data = pd.DataFrame()\n",
        "x_y_z_sanitation_data = pd.concat([X_Y_Z,sanitation_data], axis=1)\n",
        "#print(x_y_z_sanitation_data)"
      ],
      "execution_count": 41,
      "outputs": []
    },
    {
      "cell_type": "markdown",
      "metadata": {
        "id": "Dig1sYYv3tui"
      },
      "source": [
        "======================================================================================================================================================================================================================================"
      ]
    },
    {
      "cell_type": "markdown",
      "metadata": {
        "id": "_DAzKxWctnXb"
      },
      "source": [
        "# SECTION 2: DATA CLUSTERING\n",
        "This section aims to leverage on some of the popular clustering algorithms available today to determine if there is any relationship between the different variables of the sanitation data provided. This section will also take a look at possible spacial distribution of different data points."
      ]
    },
    {
      "cell_type": "markdown",
      "metadata": {
        "id": "ra_ouNsvZzlS"
      },
      "source": [
        "### SECTION 2.1: GOWER'S SIMILARITY MATRIX \n",
        "\n",
        "Since the transformed data, **xyz_sanitation_data** (SECTION 1.7.2), contains both numerical and categorical information, it may not be apparent which of the variables are similar, or disimilar. **Gower's matrix** computes the similarities/disimilarities of mixed variables (numerical and categorical) in data by calculating all the pair-wise distances between every data point within the data.\n",
        "Gower's similarity matrix can therefore be applied to **xyz_sanitation_data** dataframe since X, Y, Z and the \"Rate the sanitary state\" are numerical, while the rest of the variables are categorical.\n",
        "\n",
        "A 0 distance means the variable(s) are 100% similar (distance to itself), and a 1 means the variables are 100% disimilar (the opposite).\n",
        "\n",
        "In other words, the closer the Gower's score is close to 0, the higher the similarity between the variables, and therefore, these variables are more likely to be grouped or clustered together.\n",
        "\n"
      ]
    },
    {
      "cell_type": "markdown",
      "metadata": {
        "id": "g7Qy7SzgksX9"
      },
      "source": [
        "### SECTION 2.1.1: APPLICATION OF GOWER'S MATRIX ON SANITATION DATA\n",
        "\n",
        "This section will take a look at potential application of the Gower's Similarity Matrix on the data provided.\n",
        "The code below installs and imports gower and other libraries."
      ]
    },
    {
      "cell_type": "code",
      "metadata": {
        "id": "P_TYQcyjlQMG",
        "colab": {
          "base_uri": "https://localhost:8080/"
        },
        "outputId": "1a4e5f86-befb-4dcd-b8c2-a759ba8d80dc"
      },
      "source": [
        "####################################################################\n",
        "print(\"********************************************\")\n",
        "!pip install gower\n",
        "print(\"********************************************\")\n",
        "import gower\n",
        "import numpy as np\n",
        "####################################################################"
      ],
      "execution_count": 42,
      "outputs": [
        {
          "output_type": "stream",
          "text": [
            "********************************************\n",
            "Requirement already satisfied: gower in /usr/local/lib/python3.7/dist-packages (0.0.5)\n",
            "Requirement already satisfied: numpy in /usr/local/lib/python3.7/dist-packages (from gower) (1.19.5)\n",
            "Requirement already satisfied: scipy in /usr/local/lib/python3.7/dist-packages (from gower) (1.4.1)\n",
            "********************************************\n"
          ],
          "name": "stdout"
        }
      ]
    },
    {
      "cell_type": "markdown",
      "metadata": {
        "id": "N182PceZlgTo"
      },
      "source": [
        "A single line of code using the gower library on the **sanitation_data** dataframe is all that is needed to produce a 244x244 square matrix (since there are 244 data points as mentioned in SECTION 1.1). The leading diagonal of the reulting square matrix are all 0s (because the data point calculates distance to itself). Below is the code:"
      ]
    },
    {
      "cell_type": "code",
      "metadata": {
        "id": "FhH4KEYXofmW",
        "colab": {
          "base_uri": "https://localhost:8080/"
        },
        "outputId": "d9be811e-84be-437c-e110-37a8ec210a48"
      },
      "source": [
        "####################################################################\n",
        "similarity_matrix=gower.gower_matrix(sanitation_data)\n",
        "print(similarity_matrix)\n",
        "####################################################################"
      ],
      "execution_count": 43,
      "outputs": [
        {
          "output_type": "stream",
          "text": [
            "[[0.         0.03333334 0.73333335 ... 0.6        0.43333334 0.33333334]\n",
            " [0.03333334 0.         0.76666665 ... 0.6333333  0.46666667 0.36666667]\n",
            " [0.73333335 0.76666665 0.         ... 0.93333334 0.9        0.4       ]\n",
            " ...\n",
            " [0.6        0.6333333  0.93333334 ... 0.         0.43333334 0.93333334]\n",
            " [0.43333334 0.46666667 0.9        ... 0.43333334 0.         0.7       ]\n",
            " [0.33333334 0.36666667 0.4        ... 0.93333334 0.7        0.        ]]\n"
          ],
          "name": "stdout"
        }
      ]
    },
    {
      "cell_type": "markdown",
      "metadata": {
        "id": "Os4tKU0mmtch"
      },
      "source": [
        "The 244 data points in the dataset can be ranked relative to each other according to their Gower scores in the above matrix. The lower the score from each other, the higher the similarity between datapoints. \n",
        "\n",
        "For example, the following function ranks the indices of the data points according to their Gower scores, starting from lowest to highest, relative to the $ith$ datapoint. The function also returns the actual scores (distances) of the data points from the $ith$ data point.\n",
        "\n",
        "In this example, the $ith$ data point is the 25th data point (24th row of the dataframe) of the sanitation_data dataframe. For this example, only data points that are within the Gower score [0, 0.02] from the $25th$ data point are selected."
      ]
    },
    {
      "cell_type": "code",
      "metadata": {
        "id": "znqxg8OmhAfh",
        "colab": {
          "base_uri": "https://localhost:8080/"
        },
        "outputId": "10923bf0-1713-4c6e-9cc7-1dc36a336b6a"
      },
      "source": [
        "####################################################################\n",
        "import numpy as np\n",
        "\n",
        "\n",
        "def calculateGowers(i=24):\n",
        "    \n",
        "    # Ignore scores above this threshold. \n",
        "    # This threshold can be changed\n",
        "    # The lower the threshold, the similar the data points\n",
        "    gower_score_threshold = 0.02\n",
        "\n",
        "    # Compute the Gower Score for Row i\n",
        "    gower_scores_i = similarity_matrix[i,:]\n",
        "\n",
        "    # Sort the Gower Scores and return their corresponding indices\n",
        "    idx_i_sorted = np.argsort(gower_scores_i)\n",
        "\n",
        "    # Get the Gower scores according to the sorted indices\n",
        "    gower_scores_i_sorted = similarity_matrix[i,[idx_i_sorted]][0]\n",
        "    gower_scores_i_sorted = [x for x in gower_scores_i_sorted if x <= gower_score_threshold]\n",
        "\n",
        "    # Get the corresponding sorted indices given by the threshold\n",
        "    idx_i_sorted = idx_i_sorted[0:len(gower_scores_i_sorted)]\n",
        "\n",
        "    return idx_i_sorted, gower_scores_i_sorted, i\n",
        "    ####################################################################\n",
        "\n",
        "idx_i_sorted, gower_scores_i_sorted,i = calculateGowers( )\n",
        "\n",
        "print(\"********************************************\")\n",
        "print(\"If i is a data point at\",i,\"then the indices and Gower scores of the points closest to\",i, \"are as follows:\")\n",
        "print(\"********************************************\")\n",
        "print(\"Sorted Indices:\",idx_i_sorted)\n",
        "print(\"Sorted Gower Scores:\",gower_scores_i_sorted)"
      ],
      "execution_count": 44,
      "outputs": [
        {
          "output_type": "stream",
          "text": [
            "********************************************\n",
            "If i is a data point at 24 then the indices and Gower scores of the points closest to 24 are as follows:\n",
            "********************************************\n",
            "Sorted Indices: [ 25  24 235  19  28  21  20]\n",
            "Sorted Gower Scores: [0.0, 0.0, 0.0, 0.0, 0.0, 0.0, 0.0]\n"
          ],
          "name": "stdout"
        }
      ]
    },
    {
      "cell_type": "markdown",
      "metadata": {
        "id": "l-_1YIo9aOdc"
      },
      "source": [
        "The following code displays a histogram of the Gower scores in the above example such that the left-most scores represent the most similar data points, and the right-most scores represent the most dissimilar data points."
      ]
    },
    {
      "cell_type": "code",
      "metadata": {
        "id": "bzzekK_FaTF0",
        "colab": {
          "base_uri": "https://localhost:8080/",
          "height": 644
        },
        "outputId": "45fd2bb7-4131-4d5b-ada3-3c65e5798933"
      },
      "source": [
        "import matplotlib.pyplot as plt\n",
        "plt.rcParams['figure.figsize'] = [10, 10]\n",
        "plt.rcParams.update({'font.size': 18})\n",
        "plt.hist(gower_scores_i_sorted, bins=len(gower_scores_i_sorted))\n",
        "plt.title('FIGURE 1: HISTOGRAM OF GOWER SCORES')\n",
        "plt.xlabel('Scores within 0.02 Threshold')\n",
        "plt.ylabel('Number of Data Points close to the ' + str(i) +'th datapoint')\n",
        "plt.show()"
      ],
      "execution_count": 45,
      "outputs": [
        {
          "output_type": "display_data",
          "data": {
            "image/png": "[encoded data removed]",
            "text/plain": [
              "<Figure size 720x720 with 1 Axes>"
            ]
          },
          "metadata": {
            "tags": [],
            "needs_background": "light"
          }
        }
      ]
    },
    {
      "cell_type": "markdown",
      "metadata": {
        "id": "bIfPq2AmX8eZ"
      },
      "source": [
        "The next code shows similar data points in **sanitation_data** which are similar to the first entry (data at row 0)"
      ]
    },
    {
      "cell_type": "code",
      "metadata": {
        "id": "6VyvfKUAYnae",
        "colab": {
          "base_uri": "https://localhost:8080/"
        },
        "outputId": "2f519af4-a22e-4d31-b0e0-3b984b32a6ec"
      },
      "source": [
        "print(\"*************************************\")\n",
        "for i in idx_i_sorted:\n",
        "  print(\"coordinates:\",np.asarray(lat_long_sanitation.loc[[i],[\"latitude\",\"longitude\"]])[0])\n",
        "  print(sanitation_data.loc[i,:])\n",
        "  print(\"*************************************\")"
      ],
      "execution_count": 46,
      "outputs": [
        {
          "output_type": "stream",
          "text": [
            "*************************************\n",
            "coordinates: [-1.3979124 36.7665209]\n",
            "Type of infrastructure component/features of interest       Run off water/sewer line\n",
            "Rate the sanitary state of the identified feature                                  4\n",
            "What is the main source of drinking water in the area?                      Borehole\n",
            "Are water treatment methods observed in the area?                                YES\n",
            "If yes, what water treatment method is used? If no, why?                Chlorination\n",
            "Name: 25, dtype: object\n",
            "*************************************\n",
            "coordinates: [-1.3979124 36.7665209]\n",
            "Type of infrastructure component/features of interest       Run off water/sewer line\n",
            "Rate the sanitary state of the identified feature                                  4\n",
            "What is the main source of drinking water in the area?                      Borehole\n",
            "Are water treatment methods observed in the area?                                YES\n",
            "If yes, what water treatment method is used? If no, why?                Chlorination\n",
            "Name: 24, dtype: object\n",
            "*************************************\n",
            "coordinates: [-1.397713 36.750015]\n",
            "Type of infrastructure component/features of interest       Run off water/sewer line\n",
            "Rate the sanitary state of the identified feature                                  4\n",
            "What is the main source of drinking water in the area?                      Borehole\n",
            "Are water treatment methods observed in the area?                                YES\n",
            "If yes, what water treatment method is used? If no, why?                Chlorination\n",
            "Name: 235, dtype: object\n",
            "*************************************\n",
            "coordinates: [-1.3979124 36.7665209]\n",
            "Type of infrastructure component/features of interest       Run off water/sewer line\n",
            "Rate the sanitary state of the identified feature                                  4\n",
            "What is the main source of drinking water in the area?                      Borehole\n",
            "Are water treatment methods observed in the area?                                YES\n",
            "If yes, what water treatment method is used? If no, why?                Chlorination\n",
            "Name: 19, dtype: object\n",
            "*************************************\n",
            "coordinates: [-1.3979124 36.7665209]\n",
            "Type of infrastructure component/features of interest       Run off water/sewer line\n",
            "Rate the sanitary state of the identified feature                                  4\n",
            "What is the main source of drinking water in the area?                      Borehole\n",
            "Are water treatment methods observed in the area?                                YES\n",
            "If yes, what water treatment method is used? If no, why?                Chlorination\n",
            "Name: 28, dtype: object\n",
            "*************************************\n",
            "coordinates: [-1.3950497 36.7654517]\n",
            "Type of infrastructure component/features of interest       Run off water/sewer line\n",
            "Rate the sanitary state of the identified feature                                  4\n",
            "What is the main source of drinking water in the area?                      Borehole\n",
            "Are water treatment methods observed in the area?                                YES\n",
            "If yes, what water treatment method is used? If no, why?                Chlorination\n",
            "Name: 21, dtype: object\n",
            "*************************************\n",
            "coordinates: [-1.3979124 36.7665209]\n",
            "Type of infrastructure component/features of interest       Run off water/sewer line\n",
            "Rate the sanitary state of the identified feature                                  4\n",
            "What is the main source of drinking water in the area?                      Borehole\n",
            "Are water treatment methods observed in the area?                                YES\n",
            "If yes, what water treatment method is used? If no, why?                Chlorination\n",
            "Name: 20, dtype: object\n",
            "*************************************\n"
          ],
          "name": "stdout"
        }
      ]
    },
    {
      "cell_type": "markdown",
      "metadata": {
        "id": "lV3vWBdYa65K"
      },
      "source": [
        "From the above output, and using Gower's similary scores, we can conclude that\n",
        "\n",
        "A) There are 6 datapoints similar to the datapoint at index 24 of the given data at a threshold of 0.02.\n",
        "\n",
        "B) The sanitary level at these 6 similar datapoints is 4, people prefer to use Borehole water in these areas and observe water treament through Chlorination. The features of interest are Run off water/sewer line."
      ]
    },
    {
      "cell_type": "markdown",
      "metadata": {
        "id": "NtSzgQY1ph-U"
      },
      "source": [
        "The example above is for data points that are close to the 25th data point in the dataframe within the Gower's threshold of 0.02. \n",
        "\n",
        "The similarity between the rest of the data points can be determined in a similar fashion through the specification of the row index and the threshold. The code in SECTION 4.1 (APPENDIX) asks the user to specifiy a data point by its index and outputs similar data points at the threshold of 0.02."
      ]
    },
    {
      "cell_type": "markdown",
      "metadata": {
        "id": "bB54IXreBKbR"
      },
      "source": [
        "It can be noted that, for each data point $i$ in the dataframe sanitation_data, the number of similar points at a Gower's score threshold of 0.02 varies. The next code will determine the number of similar data points for each data point in the dataframe."
      ]
    },
    {
      "cell_type": "code",
      "metadata": {
        "colab": {
          "base_uri": "https://localhost:8080/"
        },
        "id": "yzMx6G9qB11F",
        "outputId": "06f31e1e-6955-4309-b228-3858514fa598"
      },
      "source": [
        "similar_datapoints_count = []\n",
        "for z in range(244):\n",
        "  idx_i_sorted, gower_scores_i_sorted,i = calculateGowers( z )\n",
        "  similar_datapoints_count.append(len(idx_i_sorted))\n",
        "\n",
        "print(\"******************************************\")\n",
        "print(\"Similar data points per index (unsorted):\",similar_datapoints_count)\n",
        "print(\"Similar data points per index (unique counts):\",np.unique(similar_datapoints_count,return_counts=True))\n",
        "print(\"******************************************\")\n",
        "\n",
        "print(\"Indices that share similarities with 8 other data points:\",[i for i in range(len(similar_datapoints_count)) if similar_datapoints_count[i] == 9])\n",
        "print(\"Indices that share similarities with 6 other data points:\",[i for i in range(len(similar_datapoints_count)) if similar_datapoints_count[i] == 7])"
      ],
      "execution_count": 47,
      "outputs": [
        {
          "output_type": "stream",
          "text": [
            "******************************************\n",
            "Similar data points per index (unsorted): [1, 3, 1, 1, 3, 3, 1, 2, 2, 1, 4, 4, 4, 3, 3, 3, 4, 5, 1, 7, 7, 7, 1, 4, 7, 7, 4, 1, 7, 4, 3, 3, 3, 4, 4, 4, 4, 1, 4, 4, 4, 4, 4, 1, 4, 4, 1, 1, 7, 7, 1, 4, 2, 7, 1, 1, 4, 6, 6, 6, 1, 1, 1, 1, 1, 3, 1, 1, 1, 1, 1, 1, 1, 1, 1, 1, 1, 1, 1, 1, 1, 7, 1, 9, 1, 1, 9, 9, 9, 2, 7, 7, 3, 2, 3, 1, 4, 4, 4, 1, 3, 3, 3, 5, 3, 3, 5, 5, 3, 3, 5, 3, 1, 1, 1, 1, 1, 7, 2, 5, 5, 5, 5, 5, 1, 7, 5, 1, 5, 5, 5, 5, 1, 5, 5, 5, 5, 1, 9, 9, 9, 9, 9, 1, 1, 7, 7, 1, 7, 7, 3, 3, 3, 2, 2, 7, 7, 2, 3, 3, 1, 3, 2, 2, 2, 3, 1, 3, 3, 1, 3, 1, 2, 1, 1, 2, 2, 2, 3, 5, 1, 1, 2, 1, 1, 1, 4, 4, 4, 4, 3, 3, 1, 6, 3, 1, 1, 1, 6, 6, 1, 1, 1, 1, 1, 1, 1, 1, 1, 1, 3, 4, 4, 4, 4, 4, 4, 4, 4, 3, 1, 3, 3, 4, 4, 4, 4, 1, 1, 1, 1, 1, 1, 1, 1, 7, 2, 1, 1, 1, 4, 3, 1, 1]\n",
            "Similar data points per index (unique counts): (array([1, 2, 3, 4, 5, 6, 7, 9]), array([91, 18, 39, 40, 20,  6, 21,  9]))\n",
            "******************************************\n",
            "Indices that share similarities with 8 other data points: [83, 86, 87, 88, 138, 139, 140, 141, 142]\n",
            "Indices that share similarities with 6 other data points: [19, 20, 21, 24, 25, 28, 48, 49, 53, 81, 90, 91, 117, 125, 145, 146, 148, 149, 155, 156, 235]\n"
          ],
          "name": "stdout"
        }
      ]
    },
    {
      "cell_type": "markdown",
      "metadata": {
        "id": "9lN-sO-CrxFU"
      },
      "source": [
        "The above output can be interpreted as follows:\n",
        "\n",
        "Data point at index 10 is similar to 3 other data points at a Gower's score threshold of 0.02.\n",
        "\n",
        "Data point at index 17 is similar to 4 other data points at a Gower's score threshold of 0.02.\n",
        "\n",
        "Data points at indices 19, 20 and 21 are similar to 5 other data points at a Gower's score threshold of 0.02.\n",
        "\n",
        "\n",
        "The nature of this similarity can be investigated by entering the index of the data point in SECTION 4.1. \n",
        "\n",
        "For example\n",
        "*****************************************************************\n",
        "Data point at index 58 of the dataframe is similar to 6 other data points with the following common features:\n",
        "\n",
        "Infrastructure: Open water bodies\n",
        "\n",
        "Sanitary rate: 1\n",
        "\n",
        "Main Source of Drinking water: Tap water\n",
        "\n",
        "Water treatment? NO\n",
        "\n",
        "Why not?   Ignorance / Unawareness\n",
        "*****************************************************************\n",
        "Data point at index 155 of the dataframe is similar to 6 other data points with the following common features:\n",
        "\n",
        "Infrastructure: Community water point\n",
        "\n",
        "Sanitary rate: 4\n",
        "\n",
        "Main Source of Drinking water: Tap water\n",
        "\n",
        "Water treatment? YES\n",
        "\n",
        "Why not?   Chlorination\n",
        "*****************************************************************"
      ]
    },
    {
      "cell_type": "markdown",
      "metadata": {
        "id": "42d4HhrJ3oY6"
      },
      "source": [
        "======================================================================================================================================================================================================================================"
      ]
    },
    {
      "cell_type": "markdown",
      "metadata": {
        "id": "7mts-e9GfUbd"
      },
      "source": [
        "### SECTION 2.1.2: RELATION BETWEEN SANITATION RATES AND OTHER VARIABLES\n",
        "\n",
        "This section will take a look at the following cases:\n",
        "\n",
        "CASE1: SANITARY STATE VS TYPE OF INFRASTRUCTURE OF INTEREST\n",
        "\n",
        "CASE2: SANITARY STATE VS MAIN SOURCE OF DRINKING WATER\n",
        "\n",
        "CASE3: SANITARY STATE VS OBSERVATION OF WATER TREATMENT METHODS\n",
        "\n",
        "CASE4: SANITARY STATE VS WATER TREATMENT METHOD OR WHY WATER TREATMENT WAS NOT OBSERVED"
      ]
    },
    {
      "cell_type": "markdown",
      "metadata": {
        "id": "a9PCsWwlfyEr"
      },
      "source": [
        "### SECTION 2.1.2.1: CASE1: SANITARY STATE VS TYPE OF INFRASTRUCTURE OF INTEREST\n",
        "\n",
        "The following code groups all possibilities in the data set that show the relationship between sanitary state and the Type of infrastructure."
      ]
    },
    {
      "cell_type": "code",
      "metadata": {
        "id": "EHZmspdOVKOC",
        "colab": {
          "base_uri": "https://localhost:8080/",
          "height": 1000
        },
        "outputId": "d95b4ae2-ac7b-461d-a2b7-761c528ad650"
      },
      "source": [
        "rate_infrastructure = pd.DataFrame()\n",
        "rate_infrastructure = sanitation_data[[\"Rate the sanitary state of the identified feature\",\"Type of infrastructure component/features of interest\"]]\n",
        "temp=rate_infrastructure.groupby([\"Rate the sanitary state of the identified feature\",\"Type of infrastructure component/features of interest\"]).size().reset_index().rename(columns={0:'count'})\n",
        "rate_infrastructure.groupby([\"Rate the sanitary state of the identified feature\",\"Type of infrastructure component/features of interest\"]).size().reset_index().rename(columns={0:'count'})"
      ],
      "execution_count": 48,
      "outputs": [
        {
          "output_type": "execute_result",
          "data": {
            "text/html": [
              "<div>\n",
              "<style scoped>\n",
              "    .dataframe tbody tr th:only-of-type {\n",
              "        vertical-align: middle;\n",
              "    }\n",
              "\n",
              "    .dataframe tbody tr th {\n",
              "        vertical-align: top;\n",
              "    }\n",
              "\n",
              "    .dataframe thead th {\n",
              "        text-align: right;\n",
              "    }\n",
              "</style>\n",
              "<table border=\"1\" class=\"dataframe\">\n",
              "  <thead>\n",
              "    <tr style=\"text-align: right;\">\n",
              "      <th></th>\n",
              "      <th>Rate the sanitary state of the identified feature</th>\n",
              "      <th>Type of infrastructure component/features of interest</th>\n",
              "      <th>count</th>\n",
              "    </tr>\n",
              "  </thead>\n",
              "  <tbody>\n",
              "    <tr>\n",
              "      <th>0</th>\n",
              "      <td>1</td>\n",
              "      <td>Manhole</td>\n",
              "      <td>3</td>\n",
              "    </tr>\n",
              "    <tr>\n",
              "      <th>1</th>\n",
              "      <td>1</td>\n",
              "      <td>Open water bodies</td>\n",
              "      <td>11</td>\n",
              "    </tr>\n",
              "    <tr>\n",
              "      <th>2</th>\n",
              "      <td>1</td>\n",
              "      <td>Other infrastructures</td>\n",
              "      <td>1</td>\n",
              "    </tr>\n",
              "    <tr>\n",
              "      <th>3</th>\n",
              "      <td>1</td>\n",
              "      <td>Public/shared toilets</td>\n",
              "      <td>6</td>\n",
              "    </tr>\n",
              "    <tr>\n",
              "      <th>4</th>\n",
              "      <td>1</td>\n",
              "      <td>Run off water/sewer line</td>\n",
              "      <td>13</td>\n",
              "    </tr>\n",
              "    <tr>\n",
              "      <th>5</th>\n",
              "      <td>1</td>\n",
              "      <td>Solid waste site</td>\n",
              "      <td>13</td>\n",
              "    </tr>\n",
              "    <tr>\n",
              "      <th>6</th>\n",
              "      <td>1</td>\n",
              "      <td>Water storage tank</td>\n",
              "      <td>1</td>\n",
              "    </tr>\n",
              "    <tr>\n",
              "      <th>7</th>\n",
              "      <td>2</td>\n",
              "      <td>Open water bodies</td>\n",
              "      <td>4</td>\n",
              "    </tr>\n",
              "    <tr>\n",
              "      <th>8</th>\n",
              "      <td>2</td>\n",
              "      <td>Public/shared toilets</td>\n",
              "      <td>2</td>\n",
              "    </tr>\n",
              "    <tr>\n",
              "      <th>9</th>\n",
              "      <td>2</td>\n",
              "      <td>Run off water/sewer line</td>\n",
              "      <td>10</td>\n",
              "    </tr>\n",
              "    <tr>\n",
              "      <th>10</th>\n",
              "      <td>2</td>\n",
              "      <td>Solid waste site</td>\n",
              "      <td>13</td>\n",
              "    </tr>\n",
              "    <tr>\n",
              "      <th>11</th>\n",
              "      <td>3</td>\n",
              "      <td>Community water point</td>\n",
              "      <td>8</td>\n",
              "    </tr>\n",
              "    <tr>\n",
              "      <th>12</th>\n",
              "      <td>3</td>\n",
              "      <td>Manhole</td>\n",
              "      <td>1</td>\n",
              "    </tr>\n",
              "    <tr>\n",
              "      <th>13</th>\n",
              "      <td>3</td>\n",
              "      <td>Open water bodies</td>\n",
              "      <td>8</td>\n",
              "    </tr>\n",
              "    <tr>\n",
              "      <th>14</th>\n",
              "      <td>3</td>\n",
              "      <td>Public/shared toilets</td>\n",
              "      <td>3</td>\n",
              "    </tr>\n",
              "    <tr>\n",
              "      <th>15</th>\n",
              "      <td>3</td>\n",
              "      <td>Run off water/sewer line</td>\n",
              "      <td>5</td>\n",
              "    </tr>\n",
              "    <tr>\n",
              "      <th>16</th>\n",
              "      <td>3</td>\n",
              "      <td>Solid waste site</td>\n",
              "      <td>5</td>\n",
              "    </tr>\n",
              "    <tr>\n",
              "      <th>17</th>\n",
              "      <td>3</td>\n",
              "      <td>Water storage tank</td>\n",
              "      <td>5</td>\n",
              "    </tr>\n",
              "    <tr>\n",
              "      <th>18</th>\n",
              "      <td>4</td>\n",
              "      <td>Community water point</td>\n",
              "      <td>16</td>\n",
              "    </tr>\n",
              "    <tr>\n",
              "      <th>19</th>\n",
              "      <td>4</td>\n",
              "      <td>Manhole</td>\n",
              "      <td>1</td>\n",
              "    </tr>\n",
              "    <tr>\n",
              "      <th>20</th>\n",
              "      <td>4</td>\n",
              "      <td>Open water bodies</td>\n",
              "      <td>3</td>\n",
              "    </tr>\n",
              "    <tr>\n",
              "      <th>21</th>\n",
              "      <td>4</td>\n",
              "      <td>Public/shared toilets</td>\n",
              "      <td>12</td>\n",
              "    </tr>\n",
              "    <tr>\n",
              "      <th>22</th>\n",
              "      <td>4</td>\n",
              "      <td>Run off water/sewer line</td>\n",
              "      <td>8</td>\n",
              "    </tr>\n",
              "    <tr>\n",
              "      <th>23</th>\n",
              "      <td>4</td>\n",
              "      <td>Solid waste site</td>\n",
              "      <td>6</td>\n",
              "    </tr>\n",
              "    <tr>\n",
              "      <th>24</th>\n",
              "      <td>4</td>\n",
              "      <td>Water storage tank</td>\n",
              "      <td>2</td>\n",
              "    </tr>\n",
              "    <tr>\n",
              "      <th>25</th>\n",
              "      <td>5</td>\n",
              "      <td>Community water point</td>\n",
              "      <td>7</td>\n",
              "    </tr>\n",
              "    <tr>\n",
              "      <th>26</th>\n",
              "      <td>5</td>\n",
              "      <td>Manhole</td>\n",
              "      <td>6</td>\n",
              "    </tr>\n",
              "    <tr>\n",
              "      <th>27</th>\n",
              "      <td>5</td>\n",
              "      <td>Open water bodies</td>\n",
              "      <td>5</td>\n",
              "    </tr>\n",
              "    <tr>\n",
              "      <th>28</th>\n",
              "      <td>5</td>\n",
              "      <td>Other infrastructures</td>\n",
              "      <td>3</td>\n",
              "    </tr>\n",
              "    <tr>\n",
              "      <th>29</th>\n",
              "      <td>5</td>\n",
              "      <td>Public/shared toilets</td>\n",
              "      <td>6</td>\n",
              "    </tr>\n",
              "    <tr>\n",
              "      <th>30</th>\n",
              "      <td>5</td>\n",
              "      <td>Run off water/sewer line</td>\n",
              "      <td>9</td>\n",
              "    </tr>\n",
              "    <tr>\n",
              "      <th>31</th>\n",
              "      <td>5</td>\n",
              "      <td>Water storage tank</td>\n",
              "      <td>5</td>\n",
              "    </tr>\n",
              "    <tr>\n",
              "      <th>32</th>\n",
              "      <td>6</td>\n",
              "      <td>Community water point</td>\n",
              "      <td>4</td>\n",
              "    </tr>\n",
              "    <tr>\n",
              "      <th>33</th>\n",
              "      <td>6</td>\n",
              "      <td>Other infrastructures</td>\n",
              "      <td>1</td>\n",
              "    </tr>\n",
              "    <tr>\n",
              "      <th>34</th>\n",
              "      <td>6</td>\n",
              "      <td>Public/shared toilets</td>\n",
              "      <td>4</td>\n",
              "    </tr>\n",
              "    <tr>\n",
              "      <th>35</th>\n",
              "      <td>6</td>\n",
              "      <td>Run off water/sewer line</td>\n",
              "      <td>1</td>\n",
              "    </tr>\n",
              "    <tr>\n",
              "      <th>36</th>\n",
              "      <td>6</td>\n",
              "      <td>Water storage tank</td>\n",
              "      <td>13</td>\n",
              "    </tr>\n",
              "    <tr>\n",
              "      <th>37</th>\n",
              "      <td>7</td>\n",
              "      <td>Community water point</td>\n",
              "      <td>5</td>\n",
              "    </tr>\n",
              "    <tr>\n",
              "      <th>38</th>\n",
              "      <td>7</td>\n",
              "      <td>Manhole</td>\n",
              "      <td>1</td>\n",
              "    </tr>\n",
              "    <tr>\n",
              "      <th>39</th>\n",
              "      <td>7</td>\n",
              "      <td>Water storage tank</td>\n",
              "      <td>14</td>\n",
              "    </tr>\n",
              "  </tbody>\n",
              "</table>\n",
              "</div>"
            ],
            "text/plain": [
              "    Rate the sanitary state of the identified feature  ... count\n",
              "0                                                   1  ...     3\n",
              "1                                                   1  ...    11\n",
              "2                                                   1  ...     1\n",
              "3                                                   1  ...     6\n",
              "4                                                   1  ...    13\n",
              "5                                                   1  ...    13\n",
              "6                                                   1  ...     1\n",
              "7                                                   2  ...     4\n",
              "8                                                   2  ...     2\n",
              "9                                                   2  ...    10\n",
              "10                                                  2  ...    13\n",
              "11                                                  3  ...     8\n",
              "12                                                  3  ...     1\n",
              "13                                                  3  ...     8\n",
              "14                                                  3  ...     3\n",
              "15                                                  3  ...     5\n",
              "16                                                  3  ...     5\n",
              "17                                                  3  ...     5\n",
              "18                                                  4  ...    16\n",
              "19                                                  4  ...     1\n",
              "20                                                  4  ...     3\n",
              "21                                                  4  ...    12\n",
              "22                                                  4  ...     8\n",
              "23                                                  4  ...     6\n",
              "24                                                  4  ...     2\n",
              "25                                                  5  ...     7\n",
              "26                                                  5  ...     6\n",
              "27                                                  5  ...     5\n",
              "28                                                  5  ...     3\n",
              "29                                                  5  ...     6\n",
              "30                                                  5  ...     9\n",
              "31                                                  5  ...     5\n",
              "32                                                  6  ...     4\n",
              "33                                                  6  ...     1\n",
              "34                                                  6  ...     4\n",
              "35                                                  6  ...     1\n",
              "36                                                  6  ...    13\n",
              "37                                                  7  ...     5\n",
              "38                                                  7  ...     1\n",
              "39                                                  7  ...    14\n",
              "\n",
              "[40 rows x 3 columns]"
            ]
          },
          "metadata": {
            "tags": []
          },
          "execution_count": 48
        }
      ]
    },
    {
      "cell_type": "code",
      "metadata": {
        "colab": {
          "base_uri": "https://localhost:8080/",
          "height": 638
        },
        "id": "o0kY5vDGVSbB",
        "outputId": "f76eb33a-76dd-4cd9-b845-817d55d90322"
      },
      "source": [
        "plt.rcParams['figure.figsize'] = [10, 10]\n",
        "plt.rcParams.update({'font.size': 10})\n",
        "import seaborn as sns\n",
        "import matplotlib.pyplot as plt\n",
        "sns.barplot(x = temp['Rate the sanitary state of the identified feature'], y = temp['count'], hue = temp['Type of infrastructure component/features of interest']).set(title=\"FIGURE 2: SANITARY STATE VS TYPE OF INFRASTRUCTURE OF INTEREST\")"
      ],
      "execution_count": 49,
      "outputs": [
        {
          "output_type": "execute_result",
          "data": {
            "text/plain": [
              "[Text(0.5, 1.0, 'FIGURE 2: SANITARY STATE VS TYPE OF INFRASTRUCTURE OF INTEREST')]"
            ]
          },
          "metadata": {
            "tags": []
          },
          "execution_count": 49
        },
        {
          "output_type": "display_data",
          "data": {
            "image/png": "[encoded data removed]",
            "text/plain": [
              "<Figure size 720x720 with 1 Axes>"
            ]
          },
          "metadata": {
            "tags": [],
            "needs_background": "light"
          }
        }
      ]
    },
    {
      "cell_type": "markdown",
      "metadata": {
        "id": "2jk7SckTgsQA"
      },
      "source": [
        "**From the above table and plot (FIGURE 2), it can be seen that areas with high sanitary levels of 6 and 7 make a greate use of water tanks to store water and are free of open water bodies. On the other hand, places with open water bodies, Run off water / sewer lines and solid waste sites have lower sanitary levels of 1 and 2**"
      ]
    },
    {
      "cell_type": "markdown",
      "metadata": {
        "id": "EftCxo4KxNBW"
      },
      "source": [
        "======================================================================================================================================================================================================================================"
      ]
    },
    {
      "cell_type": "markdown",
      "metadata": {
        "id": "jeBOn6lWmyKy"
      },
      "source": [
        "### SECTION 2.1.2.2: CASE2: SANITARY STATE VS MAIN SOURCE OF DRINKING WATER\n",
        "\n",
        "The following code groups all possibilities in the data set that show the relationship between sanitary state and the main source of drinking water."
      ]
    },
    {
      "cell_type": "code",
      "metadata": {
        "id": "dyoMk_4YnqEy",
        "colab": {
          "base_uri": "https://localhost:8080/",
          "height": 1000
        },
        "outputId": "f4e976ea-75d3-497e-cc1e-e9d7e97131fb"
      },
      "source": [
        "rate_water = pd.DataFrame()\n",
        "rate_water = sanitation_data[[\"Rate the sanitary state of the identified feature\",\"What is the main source of drinking water in the area?\"]]\n",
        "temp=rate_water.groupby([\"Rate the sanitary state of the identified feature\",\"What is the main source of drinking water in the area?\"]).size().reset_index().rename(columns={0:'count'})\n",
        "rate_water.groupby([\"Rate the sanitary state of the identified feature\",\"What is the main source of drinking water in the area?\"]).size().reset_index().rename(columns={0:'count'})"
      ],
      "execution_count": 50,
      "outputs": [
        {
          "output_type": "execute_result",
          "data": {
            "text/html": [
              "<div>\n",
              "<style scoped>\n",
              "    .dataframe tbody tr th:only-of-type {\n",
              "        vertical-align: middle;\n",
              "    }\n",
              "\n",
              "    .dataframe tbody tr th {\n",
              "        vertical-align: top;\n",
              "    }\n",
              "\n",
              "    .dataframe thead th {\n",
              "        text-align: right;\n",
              "    }\n",
              "</style>\n",
              "<table border=\"1\" class=\"dataframe\">\n",
              "  <thead>\n",
              "    <tr style=\"text-align: right;\">\n",
              "      <th></th>\n",
              "      <th>Rate the sanitary state of the identified feature</th>\n",
              "      <th>What is the main source of drinking water in the area?</th>\n",
              "      <th>count</th>\n",
              "    </tr>\n",
              "  </thead>\n",
              "  <tbody>\n",
              "    <tr>\n",
              "      <th>0</th>\n",
              "      <td>1</td>\n",
              "      <td>Borehole</td>\n",
              "      <td>7</td>\n",
              "    </tr>\n",
              "    <tr>\n",
              "      <th>1</th>\n",
              "      <td>1</td>\n",
              "      <td>Bottled water</td>\n",
              "      <td>4</td>\n",
              "    </tr>\n",
              "    <tr>\n",
              "      <th>2</th>\n",
              "      <td>1</td>\n",
              "      <td>Community water point</td>\n",
              "      <td>5</td>\n",
              "    </tr>\n",
              "    <tr>\n",
              "      <th>3</th>\n",
              "      <td>1</td>\n",
              "      <td>None</td>\n",
              "      <td>4</td>\n",
              "    </tr>\n",
              "    <tr>\n",
              "      <th>4</th>\n",
              "      <td>1</td>\n",
              "      <td>Other Sources</td>\n",
              "      <td>2</td>\n",
              "    </tr>\n",
              "    <tr>\n",
              "      <th>5</th>\n",
              "      <td>1</td>\n",
              "      <td>Tap water</td>\n",
              "      <td>19</td>\n",
              "    </tr>\n",
              "    <tr>\n",
              "      <th>6</th>\n",
              "      <td>1</td>\n",
              "      <td>Water pipe</td>\n",
              "      <td>1</td>\n",
              "    </tr>\n",
              "    <tr>\n",
              "      <th>7</th>\n",
              "      <td>1</td>\n",
              "      <td>Water refill</td>\n",
              "      <td>2</td>\n",
              "    </tr>\n",
              "    <tr>\n",
              "      <th>8</th>\n",
              "      <td>1</td>\n",
              "      <td>Water storage tank</td>\n",
              "      <td>4</td>\n",
              "    </tr>\n",
              "    <tr>\n",
              "      <th>9</th>\n",
              "      <td>2</td>\n",
              "      <td>Borehole</td>\n",
              "      <td>8</td>\n",
              "    </tr>\n",
              "    <tr>\n",
              "      <th>10</th>\n",
              "      <td>2</td>\n",
              "      <td>Bottled water</td>\n",
              "      <td>1</td>\n",
              "    </tr>\n",
              "    <tr>\n",
              "      <th>11</th>\n",
              "      <td>2</td>\n",
              "      <td>Community water point</td>\n",
              "      <td>2</td>\n",
              "    </tr>\n",
              "    <tr>\n",
              "      <th>12</th>\n",
              "      <td>2</td>\n",
              "      <td>Other Sources</td>\n",
              "      <td>1</td>\n",
              "    </tr>\n",
              "    <tr>\n",
              "      <th>13</th>\n",
              "      <td>2</td>\n",
              "      <td>River water</td>\n",
              "      <td>1</td>\n",
              "    </tr>\n",
              "    <tr>\n",
              "      <th>14</th>\n",
              "      <td>2</td>\n",
              "      <td>Tap water</td>\n",
              "      <td>13</td>\n",
              "    </tr>\n",
              "    <tr>\n",
              "      <th>15</th>\n",
              "      <td>2</td>\n",
              "      <td>Water pipe</td>\n",
              "      <td>2</td>\n",
              "    </tr>\n",
              "    <tr>\n",
              "      <th>16</th>\n",
              "      <td>2</td>\n",
              "      <td>Water storage tank</td>\n",
              "      <td>1</td>\n",
              "    </tr>\n",
              "    <tr>\n",
              "      <th>17</th>\n",
              "      <td>3</td>\n",
              "      <td>Borehole</td>\n",
              "      <td>9</td>\n",
              "    </tr>\n",
              "    <tr>\n",
              "      <th>18</th>\n",
              "      <td>3</td>\n",
              "      <td>Bottled water</td>\n",
              "      <td>4</td>\n",
              "    </tr>\n",
              "    <tr>\n",
              "      <th>19</th>\n",
              "      <td>3</td>\n",
              "      <td>Community water point</td>\n",
              "      <td>1</td>\n",
              "    </tr>\n",
              "    <tr>\n",
              "      <th>20</th>\n",
              "      <td>3</td>\n",
              "      <td>River water</td>\n",
              "      <td>6</td>\n",
              "    </tr>\n",
              "    <tr>\n",
              "      <th>21</th>\n",
              "      <td>3</td>\n",
              "      <td>Tap water</td>\n",
              "      <td>10</td>\n",
              "    </tr>\n",
              "    <tr>\n",
              "      <th>22</th>\n",
              "      <td>3</td>\n",
              "      <td>Water pipe</td>\n",
              "      <td>1</td>\n",
              "    </tr>\n",
              "    <tr>\n",
              "      <th>23</th>\n",
              "      <td>3</td>\n",
              "      <td>Water refill</td>\n",
              "      <td>1</td>\n",
              "    </tr>\n",
              "    <tr>\n",
              "      <th>24</th>\n",
              "      <td>3</td>\n",
              "      <td>Water storage tank</td>\n",
              "      <td>3</td>\n",
              "    </tr>\n",
              "    <tr>\n",
              "      <th>25</th>\n",
              "      <td>4</td>\n",
              "      <td>Borehole</td>\n",
              "      <td>22</td>\n",
              "    </tr>\n",
              "    <tr>\n",
              "      <th>26</th>\n",
              "      <td>4</td>\n",
              "      <td>Bottled water</td>\n",
              "      <td>1</td>\n",
              "    </tr>\n",
              "    <tr>\n",
              "      <th>27</th>\n",
              "      <td>4</td>\n",
              "      <td>Community water point</td>\n",
              "      <td>3</td>\n",
              "    </tr>\n",
              "    <tr>\n",
              "      <th>28</th>\n",
              "      <td>4</td>\n",
              "      <td>Other Sources</td>\n",
              "      <td>3</td>\n",
              "    </tr>\n",
              "    <tr>\n",
              "      <th>29</th>\n",
              "      <td>4</td>\n",
              "      <td>Tap water</td>\n",
              "      <td>13</td>\n",
              "    </tr>\n",
              "    <tr>\n",
              "      <th>30</th>\n",
              "      <td>4</td>\n",
              "      <td>Water refill</td>\n",
              "      <td>4</td>\n",
              "    </tr>\n",
              "    <tr>\n",
              "      <th>31</th>\n",
              "      <td>4</td>\n",
              "      <td>Water storage tank</td>\n",
              "      <td>2</td>\n",
              "    </tr>\n",
              "    <tr>\n",
              "      <th>32</th>\n",
              "      <td>5</td>\n",
              "      <td>Borehole</td>\n",
              "      <td>19</td>\n",
              "    </tr>\n",
              "    <tr>\n",
              "      <th>33</th>\n",
              "      <td>5</td>\n",
              "      <td>Bottled water</td>\n",
              "      <td>2</td>\n",
              "    </tr>\n",
              "    <tr>\n",
              "      <th>34</th>\n",
              "      <td>5</td>\n",
              "      <td>Tap water</td>\n",
              "      <td>10</td>\n",
              "    </tr>\n",
              "    <tr>\n",
              "      <th>35</th>\n",
              "      <td>5</td>\n",
              "      <td>Water refill</td>\n",
              "      <td>7</td>\n",
              "    </tr>\n",
              "    <tr>\n",
              "      <th>36</th>\n",
              "      <td>5</td>\n",
              "      <td>Water storage tank</td>\n",
              "      <td>3</td>\n",
              "    </tr>\n",
              "    <tr>\n",
              "      <th>37</th>\n",
              "      <td>6</td>\n",
              "      <td>Borehole</td>\n",
              "      <td>9</td>\n",
              "    </tr>\n",
              "    <tr>\n",
              "      <th>38</th>\n",
              "      <td>6</td>\n",
              "      <td>Tap water</td>\n",
              "      <td>10</td>\n",
              "    </tr>\n",
              "    <tr>\n",
              "      <th>39</th>\n",
              "      <td>6</td>\n",
              "      <td>Water refill</td>\n",
              "      <td>4</td>\n",
              "    </tr>\n",
              "    <tr>\n",
              "      <th>40</th>\n",
              "      <td>7</td>\n",
              "      <td>Borehole</td>\n",
              "      <td>10</td>\n",
              "    </tr>\n",
              "    <tr>\n",
              "      <th>41</th>\n",
              "      <td>7</td>\n",
              "      <td>Tap water</td>\n",
              "      <td>1</td>\n",
              "    </tr>\n",
              "    <tr>\n",
              "      <th>42</th>\n",
              "      <td>7</td>\n",
              "      <td>Water pipe</td>\n",
              "      <td>1</td>\n",
              "    </tr>\n",
              "    <tr>\n",
              "      <th>43</th>\n",
              "      <td>7</td>\n",
              "      <td>Water refill</td>\n",
              "      <td>8</td>\n",
              "    </tr>\n",
              "  </tbody>\n",
              "</table>\n",
              "</div>"
            ],
            "text/plain": [
              "    Rate the sanitary state of the identified feature  ... count\n",
              "0                                                   1  ...     7\n",
              "1                                                   1  ...     4\n",
              "2                                                   1  ...     5\n",
              "3                                                   1  ...     4\n",
              "4                                                   1  ...     2\n",
              "5                                                   1  ...    19\n",
              "6                                                   1  ...     1\n",
              "7                                                   1  ...     2\n",
              "8                                                   1  ...     4\n",
              "9                                                   2  ...     8\n",
              "10                                                  2  ...     1\n",
              "11                                                  2  ...     2\n",
              "12                                                  2  ...     1\n",
              "13                                                  2  ...     1\n",
              "14                                                  2  ...    13\n",
              "15                                                  2  ...     2\n",
              "16                                                  2  ...     1\n",
              "17                                                  3  ...     9\n",
              "18                                                  3  ...     4\n",
              "19                                                  3  ...     1\n",
              "20                                                  3  ...     6\n",
              "21                                                  3  ...    10\n",
              "22                                                  3  ...     1\n",
              "23                                                  3  ...     1\n",
              "24                                                  3  ...     3\n",
              "25                                                  4  ...    22\n",
              "26                                                  4  ...     1\n",
              "27                                                  4  ...     3\n",
              "28                                                  4  ...     3\n",
              "29                                                  4  ...    13\n",
              "30                                                  4  ...     4\n",
              "31                                                  4  ...     2\n",
              "32                                                  5  ...    19\n",
              "33                                                  5  ...     2\n",
              "34                                                  5  ...    10\n",
              "35                                                  5  ...     7\n",
              "36                                                  5  ...     3\n",
              "37                                                  6  ...     9\n",
              "38                                                  6  ...    10\n",
              "39                                                  6  ...     4\n",
              "40                                                  7  ...    10\n",
              "41                                                  7  ...     1\n",
              "42                                                  7  ...     1\n",
              "43                                                  7  ...     8\n",
              "\n",
              "[44 rows x 3 columns]"
            ]
          },
          "metadata": {
            "tags": []
          },
          "execution_count": 50
        }
      ]
    },
    {
      "cell_type": "code",
      "metadata": {
        "colab": {
          "base_uri": "https://localhost:8080/",
          "height": 638
        },
        "id": "9Nd7So4ZPo3O",
        "outputId": "990b8e95-512c-44c8-990d-a4e8f05eebda"
      },
      "source": [
        "plt.rcParams['figure.figsize'] = [10, 10]\n",
        "plt.rcParams.update({'font.size': 10})\n",
        "import seaborn as sns\n",
        "import matplotlib.pyplot as plt\n",
        "sns.barplot(x = temp['Rate the sanitary state of the identified feature'], y = temp['count'], hue = temp['What is the main source of drinking water in the area?']).set(title=\"FIGURE 3: SANITARY STATE VS MAIN SOURCE OF DRINKING WATER\")"
      ],
      "execution_count": 51,
      "outputs": [
        {
          "output_type": "execute_result",
          "data": {
            "text/plain": [
              "[Text(0.5, 1.0, 'FIGURE 3: SANITARY STATE VS MAIN SOURCE OF DRINKING WATER')]"
            ]
          },
          "metadata": {
            "tags": []
          },
          "execution_count": 51
        },
        {
          "output_type": "display_data",
          "data": {
            "image/png": "[encoded data removed]",
            "text/plain": [
              "<Figure size 720x720 with 1 Axes>"
            ]
          },
          "metadata": {
            "tags": [],
            "needs_background": "light"
          }
        }
      ]
    },
    {
      "cell_type": "markdown",
      "metadata": {
        "id": "e7Jtt_VcQSSQ"
      },
      "source": [
        "**From the above table and plot (FIGURE 3), it can be seen that areas with sanitary levels of 4 and 5 use boreholes more as their main source of drinking water. Areas with higher sanitary levels of 6 and 5 rely on tap water, refills as well as boreholes. Areas with low sanitary levels of 1 and 2 use mostly tap water**"
      ]
    },
    {
      "cell_type": "markdown",
      "metadata": {
        "id": "qsk9ZTErxWMw"
      },
      "source": [
        "======================================================================================================================================================================================================================================"
      ]
    },
    {
      "cell_type": "markdown",
      "metadata": {
        "id": "rIleIz7uxg7F"
      },
      "source": [
        "### SECTION 2.1.2.3: CASE3: SANITARY STATE VS OBSERVATION OF WATER TREATMENT METHODS\n",
        "\n",
        "The following code groups all possibilities in the data set that show the relationship between sanitary state and whether or not water treatment methods are osberved"
      ]
    },
    {
      "cell_type": "code",
      "metadata": {
        "id": "_iSfVsprxyRn",
        "colab": {
          "base_uri": "https://localhost:8080/",
          "height": 432
        },
        "outputId": "cf4ca7d2-e990-4558-9ae5-0cefce5bb4cc"
      },
      "source": [
        "rate_observation = pd.DataFrame()\n",
        "rate_observation = sanitation_data[[\"Rate the sanitary state of the identified feature\",\"Are water treatment methods observed in the area?\"]]\n",
        "rate_observation.groupby([\"Rate the sanitary state of the identified feature\",\"Are water treatment methods observed in the area?\"]).size().reset_index().rename(columns={0:'count'})"
      ],
      "execution_count": 52,
      "outputs": [
        {
          "output_type": "execute_result",
          "data": {
            "text/html": [
              "<div>\n",
              "<style scoped>\n",
              "    .dataframe tbody tr th:only-of-type {\n",
              "        vertical-align: middle;\n",
              "    }\n",
              "\n",
              "    .dataframe tbody tr th {\n",
              "        vertical-align: top;\n",
              "    }\n",
              "\n",
              "    .dataframe thead th {\n",
              "        text-align: right;\n",
              "    }\n",
              "</style>\n",
              "<table border=\"1\" class=\"dataframe\">\n",
              "  <thead>\n",
              "    <tr style=\"text-align: right;\">\n",
              "      <th></th>\n",
              "      <th>Rate the sanitary state of the identified feature</th>\n",
              "      <th>Are water treatment methods observed in the area?</th>\n",
              "      <th>count</th>\n",
              "    </tr>\n",
              "  </thead>\n",
              "  <tbody>\n",
              "    <tr>\n",
              "      <th>0</th>\n",
              "      <td>1</td>\n",
              "      <td>NO</td>\n",
              "      <td>33</td>\n",
              "    </tr>\n",
              "    <tr>\n",
              "      <th>1</th>\n",
              "      <td>1</td>\n",
              "      <td>YES</td>\n",
              "      <td>15</td>\n",
              "    </tr>\n",
              "    <tr>\n",
              "      <th>2</th>\n",
              "      <td>2</td>\n",
              "      <td>NO</td>\n",
              "      <td>14</td>\n",
              "    </tr>\n",
              "    <tr>\n",
              "      <th>3</th>\n",
              "      <td>2</td>\n",
              "      <td>YES</td>\n",
              "      <td>15</td>\n",
              "    </tr>\n",
              "    <tr>\n",
              "      <th>4</th>\n",
              "      <td>3</td>\n",
              "      <td>NO</td>\n",
              "      <td>14</td>\n",
              "    </tr>\n",
              "    <tr>\n",
              "      <th>5</th>\n",
              "      <td>3</td>\n",
              "      <td>YES</td>\n",
              "      <td>21</td>\n",
              "    </tr>\n",
              "    <tr>\n",
              "      <th>6</th>\n",
              "      <td>4</td>\n",
              "      <td>NO</td>\n",
              "      <td>10</td>\n",
              "    </tr>\n",
              "    <tr>\n",
              "      <th>7</th>\n",
              "      <td>4</td>\n",
              "      <td>YES</td>\n",
              "      <td>38</td>\n",
              "    </tr>\n",
              "    <tr>\n",
              "      <th>8</th>\n",
              "      <td>5</td>\n",
              "      <td>NO</td>\n",
              "      <td>11</td>\n",
              "    </tr>\n",
              "    <tr>\n",
              "      <th>9</th>\n",
              "      <td>5</td>\n",
              "      <td>YES</td>\n",
              "      <td>30</td>\n",
              "    </tr>\n",
              "    <tr>\n",
              "      <th>10</th>\n",
              "      <td>6</td>\n",
              "      <td>NO</td>\n",
              "      <td>3</td>\n",
              "    </tr>\n",
              "    <tr>\n",
              "      <th>11</th>\n",
              "      <td>6</td>\n",
              "      <td>YES</td>\n",
              "      <td>20</td>\n",
              "    </tr>\n",
              "    <tr>\n",
              "      <th>12</th>\n",
              "      <td>7</td>\n",
              "      <td>YES</td>\n",
              "      <td>20</td>\n",
              "    </tr>\n",
              "  </tbody>\n",
              "</table>\n",
              "</div>"
            ],
            "text/plain": [
              "    Rate the sanitary state of the identified feature  ... count\n",
              "0                                                   1  ...    33\n",
              "1                                                   1  ...    15\n",
              "2                                                   2  ...    14\n",
              "3                                                   2  ...    15\n",
              "4                                                   3  ...    14\n",
              "5                                                   3  ...    21\n",
              "6                                                   4  ...    10\n",
              "7                                                   4  ...    38\n",
              "8                                                   5  ...    11\n",
              "9                                                   5  ...    30\n",
              "10                                                  6  ...     3\n",
              "11                                                  6  ...    20\n",
              "12                                                  7  ...    20\n",
              "\n",
              "[13 rows x 3 columns]"
            ]
          },
          "metadata": {
            "tags": []
          },
          "execution_count": 52
        }
      ]
    },
    {
      "cell_type": "code",
      "metadata": {
        "colab": {
          "base_uri": "https://localhost:8080/",
          "height": 638
        },
        "id": "yKpgp1SLGNqa",
        "outputId": "2f253fa5-e76e-41aa-87b1-566fb76e37b8"
      },
      "source": [
        "x = range(1,8)\n",
        "negative_data = [-33,-14,-14,-10,-11,-3,0]\n",
        "positive_data = [15,15,21,38,30,20,20]\n",
        "\n",
        "fig = plt.figure()\n",
        "ax = plt.subplot(111)\n",
        "plt.xlabel(\"Sanitary level\")\n",
        "plt.title(\"FIGURE 4: OBSERVATION OF WATER TREATMENT\")\n",
        "plt.ylabel(\"YES (BLUE) / NO (RED) of Water Treatment\")\n",
        "ax.bar(x, negative_data, width=1, color='r')\n",
        "ax.bar(x, positive_data, width=1, color='b')"
      ],
      "execution_count": 53,
      "outputs": [
        {
          "output_type": "execute_result",
          "data": {
            "text/plain": [
              "<BarContainer object of 7 artists>"
            ]
          },
          "metadata": {
            "tags": []
          },
          "execution_count": 53
        },
        {
          "output_type": "display_data",
          "data": {
            "image/png": "[encoded data removed]",
            "text/plain": [
              "<Figure size 720x720 with 1 Axes>"
            ]
          },
          "metadata": {
            "tags": [],
            "needs_background": "light"
          }
        }
      ]
    },
    {
      "cell_type": "markdown",
      "metadata": {
        "id": "lGsHqjhAygVb"
      },
      "source": [
        "**From the above table and plot (FIGURE 4), it can be said that generally, the more people observe water treatment methods (BLUE), the higher the sanitation state**"
      ]
    },
    {
      "cell_type": "markdown",
      "metadata": {
        "id": "1t75mgG4y8-3"
      },
      "source": [
        "======================================================================================================================================================================================================================================"
      ]
    },
    {
      "cell_type": "markdown",
      "metadata": {
        "id": "faXvbG5YzAcR"
      },
      "source": [
        "### SECTION 2.1.2.4: CASE4: SANITARY STATE VS WATER TREATMENT METHOD OR WHY WATER TREATMENT WAS NOT OBSERVED\n",
        "\n",
        "The following code groups all possibilities in the data set that show the relationship between sanitary state and the water treatment method used, or why water treatment methods were not observed."
      ]
    },
    {
      "cell_type": "code",
      "metadata": {
        "id": "GmXiVFpjzft4",
        "colab": {
          "base_uri": "https://localhost:8080/",
          "height": 1000
        },
        "outputId": "8b476879-018c-469f-8618-ac715e08d5e3"
      },
      "source": [
        "rate_method_reason = pd.DataFrame()\n",
        "rate_method_reason = sanitation_data[[\"Rate the sanitary state of the identified feature\",\"If yes, what water treatment method is used? If no, why?\"]]\n",
        "temp=rate_method_reason.groupby([\"Rate the sanitary state of the identified feature\",\"If yes, what water treatment method is used? If no, why?\"]).size().reset_index().rename(columns={0:'count'})\n",
        "rate_method_reason.groupby([\"Rate the sanitary state of the identified feature\",\"If yes, what water treatment method is used? If no, why?\"]).size().reset_index().rename(columns={0:'count'})"
      ],
      "execution_count": 54,
      "outputs": [
        {
          "output_type": "execute_result",
          "data": {
            "text/html": [
              "<div>\n",
              "<style scoped>\n",
              "    .dataframe tbody tr th:only-of-type {\n",
              "        vertical-align: middle;\n",
              "    }\n",
              "\n",
              "    .dataframe tbody tr th {\n",
              "        vertical-align: top;\n",
              "    }\n",
              "\n",
              "    .dataframe thead th {\n",
              "        text-align: right;\n",
              "    }\n",
              "</style>\n",
              "<table border=\"1\" class=\"dataframe\">\n",
              "  <thead>\n",
              "    <tr style=\"text-align: right;\">\n",
              "      <th></th>\n",
              "      <th>Rate the sanitary state of the identified feature</th>\n",
              "      <th>If yes, what water treatment method is used? If no, why?</th>\n",
              "      <th>count</th>\n",
              "    </tr>\n",
              "  </thead>\n",
              "  <tbody>\n",
              "    <tr>\n",
              "      <th>0</th>\n",
              "      <td>1</td>\n",
              "      <td>Boiling</td>\n",
              "      <td>4</td>\n",
              "    </tr>\n",
              "    <tr>\n",
              "      <th>1</th>\n",
              "      <td>1</td>\n",
              "      <td>Chlorination</td>\n",
              "      <td>5</td>\n",
              "    </tr>\n",
              "    <tr>\n",
              "      <th>2</th>\n",
              "      <td>1</td>\n",
              "      <td>City council</td>\n",
              "      <td>4</td>\n",
              "    </tr>\n",
              "    <tr>\n",
              "      <th>3</th>\n",
              "      <td>1</td>\n",
              "      <td>Expensive</td>\n",
              "      <td>1</td>\n",
              "    </tr>\n",
              "    <tr>\n",
              "      <th>4</th>\n",
              "      <td>1</td>\n",
              "      <td>Ignorance / Unawareness</td>\n",
              "      <td>20</td>\n",
              "    </tr>\n",
              "    <tr>\n",
              "      <th>5</th>\n",
              "      <td>1</td>\n",
              "      <td>None / Unclear response</td>\n",
              "      <td>11</td>\n",
              "    </tr>\n",
              "    <tr>\n",
              "      <th>6</th>\n",
              "      <td>1</td>\n",
              "      <td>Other methods (Purification, Filtration, Decan...</td>\n",
              "      <td>3</td>\n",
              "    </tr>\n",
              "    <tr>\n",
              "      <th>7</th>\n",
              "      <td>2</td>\n",
              "      <td>Boiling</td>\n",
              "      <td>5</td>\n",
              "    </tr>\n",
              "    <tr>\n",
              "      <th>8</th>\n",
              "      <td>2</td>\n",
              "      <td>Bottled water</td>\n",
              "      <td>1</td>\n",
              "    </tr>\n",
              "    <tr>\n",
              "      <th>9</th>\n",
              "      <td>2</td>\n",
              "      <td>Chlorination</td>\n",
              "      <td>9</td>\n",
              "    </tr>\n",
              "    <tr>\n",
              "      <th>10</th>\n",
              "      <td>2</td>\n",
              "      <td>Expensive</td>\n",
              "      <td>3</td>\n",
              "    </tr>\n",
              "    <tr>\n",
              "      <th>11</th>\n",
              "      <td>2</td>\n",
              "      <td>Ignorance / Unawareness</td>\n",
              "      <td>7</td>\n",
              "    </tr>\n",
              "    <tr>\n",
              "      <th>12</th>\n",
              "      <td>2</td>\n",
              "      <td>None / Unclear response</td>\n",
              "      <td>4</td>\n",
              "    </tr>\n",
              "    <tr>\n",
              "      <th>13</th>\n",
              "      <td>3</td>\n",
              "      <td>Boiling</td>\n",
              "      <td>9</td>\n",
              "    </tr>\n",
              "    <tr>\n",
              "      <th>14</th>\n",
              "      <td>3</td>\n",
              "      <td>Bottled water</td>\n",
              "      <td>2</td>\n",
              "    </tr>\n",
              "    <tr>\n",
              "      <th>15</th>\n",
              "      <td>3</td>\n",
              "      <td>Chlorination</td>\n",
              "      <td>12</td>\n",
              "    </tr>\n",
              "    <tr>\n",
              "      <th>16</th>\n",
              "      <td>3</td>\n",
              "      <td>Expensive</td>\n",
              "      <td>1</td>\n",
              "    </tr>\n",
              "    <tr>\n",
              "      <th>17</th>\n",
              "      <td>3</td>\n",
              "      <td>Ignorance / Unawareness</td>\n",
              "      <td>4</td>\n",
              "    </tr>\n",
              "    <tr>\n",
              "      <th>18</th>\n",
              "      <td>3</td>\n",
              "      <td>None / Unclear response</td>\n",
              "      <td>7</td>\n",
              "    </tr>\n",
              "    <tr>\n",
              "      <th>19</th>\n",
              "      <td>4</td>\n",
              "      <td>Boiling</td>\n",
              "      <td>6</td>\n",
              "    </tr>\n",
              "    <tr>\n",
              "      <th>20</th>\n",
              "      <td>4</td>\n",
              "      <td>Bottled water</td>\n",
              "      <td>1</td>\n",
              "    </tr>\n",
              "    <tr>\n",
              "      <th>21</th>\n",
              "      <td>4</td>\n",
              "      <td>Chlorination</td>\n",
              "      <td>25</td>\n",
              "    </tr>\n",
              "    <tr>\n",
              "      <th>22</th>\n",
              "      <td>4</td>\n",
              "      <td>City council</td>\n",
              "      <td>1</td>\n",
              "    </tr>\n",
              "    <tr>\n",
              "      <th>23</th>\n",
              "      <td>4</td>\n",
              "      <td>Ignorance / Unawareness</td>\n",
              "      <td>7</td>\n",
              "    </tr>\n",
              "    <tr>\n",
              "      <th>24</th>\n",
              "      <td>4</td>\n",
              "      <td>None / Unclear response</td>\n",
              "      <td>4</td>\n",
              "    </tr>\n",
              "    <tr>\n",
              "      <th>25</th>\n",
              "      <td>4</td>\n",
              "      <td>Other methods (Purification, Filtration, Decan...</td>\n",
              "      <td>4</td>\n",
              "    </tr>\n",
              "    <tr>\n",
              "      <th>26</th>\n",
              "      <td>5</td>\n",
              "      <td>Chlorination</td>\n",
              "      <td>26</td>\n",
              "    </tr>\n",
              "    <tr>\n",
              "      <th>27</th>\n",
              "      <td>5</td>\n",
              "      <td>City council</td>\n",
              "      <td>1</td>\n",
              "    </tr>\n",
              "    <tr>\n",
              "      <th>28</th>\n",
              "      <td>5</td>\n",
              "      <td>Ignorance / Unawareness</td>\n",
              "      <td>11</td>\n",
              "    </tr>\n",
              "    <tr>\n",
              "      <th>29</th>\n",
              "      <td>5</td>\n",
              "      <td>None / Unclear response</td>\n",
              "      <td>3</td>\n",
              "    </tr>\n",
              "    <tr>\n",
              "      <th>30</th>\n",
              "      <td>6</td>\n",
              "      <td>Boiling</td>\n",
              "      <td>2</td>\n",
              "    </tr>\n",
              "    <tr>\n",
              "      <th>31</th>\n",
              "      <td>6</td>\n",
              "      <td>Chlorination</td>\n",
              "      <td>16</td>\n",
              "    </tr>\n",
              "    <tr>\n",
              "      <th>32</th>\n",
              "      <td>6</td>\n",
              "      <td>Ignorance / Unawareness</td>\n",
              "      <td>3</td>\n",
              "    </tr>\n",
              "    <tr>\n",
              "      <th>33</th>\n",
              "      <td>6</td>\n",
              "      <td>None / Unclear response</td>\n",
              "      <td>2</td>\n",
              "    </tr>\n",
              "    <tr>\n",
              "      <th>34</th>\n",
              "      <td>7</td>\n",
              "      <td>Boiling</td>\n",
              "      <td>1</td>\n",
              "    </tr>\n",
              "    <tr>\n",
              "      <th>35</th>\n",
              "      <td>7</td>\n",
              "      <td>Chlorination</td>\n",
              "      <td>15</td>\n",
              "    </tr>\n",
              "    <tr>\n",
              "      <th>36</th>\n",
              "      <td>7</td>\n",
              "      <td>None / Unclear response</td>\n",
              "      <td>1</td>\n",
              "    </tr>\n",
              "    <tr>\n",
              "      <th>37</th>\n",
              "      <td>7</td>\n",
              "      <td>Other methods (Purification, Filtration, Decan...</td>\n",
              "      <td>3</td>\n",
              "    </tr>\n",
              "  </tbody>\n",
              "</table>\n",
              "</div>"
            ],
            "text/plain": [
              "    Rate the sanitary state of the identified feature  ... count\n",
              "0                                                   1  ...     4\n",
              "1                                                   1  ...     5\n",
              "2                                                   1  ...     4\n",
              "3                                                   1  ...     1\n",
              "4                                                   1  ...    20\n",
              "5                                                   1  ...    11\n",
              "6                                                   1  ...     3\n",
              "7                                                   2  ...     5\n",
              "8                                                   2  ...     1\n",
              "9                                                   2  ...     9\n",
              "10                                                  2  ...     3\n",
              "11                                                  2  ...     7\n",
              "12                                                  2  ...     4\n",
              "13                                                  3  ...     9\n",
              "14                                                  3  ...     2\n",
              "15                                                  3  ...    12\n",
              "16                                                  3  ...     1\n",
              "17                                                  3  ...     4\n",
              "18                                                  3  ...     7\n",
              "19                                                  4  ...     6\n",
              "20                                                  4  ...     1\n",
              "21                                                  4  ...    25\n",
              "22                                                  4  ...     1\n",
              "23                                                  4  ...     7\n",
              "24                                                  4  ...     4\n",
              "25                                                  4  ...     4\n",
              "26                                                  5  ...    26\n",
              "27                                                  5  ...     1\n",
              "28                                                  5  ...    11\n",
              "29                                                  5  ...     3\n",
              "30                                                  6  ...     2\n",
              "31                                                  6  ...    16\n",
              "32                                                  6  ...     3\n",
              "33                                                  6  ...     2\n",
              "34                                                  7  ...     1\n",
              "35                                                  7  ...    15\n",
              "36                                                  7  ...     1\n",
              "37                                                  7  ...     3\n",
              "\n",
              "[38 rows x 3 columns]"
            ]
          },
          "metadata": {
            "tags": []
          },
          "execution_count": 54
        }
      ]
    },
    {
      "cell_type": "code",
      "metadata": {
        "colab": {
          "base_uri": "https://localhost:8080/",
          "height": 646
        },
        "id": "Fxryl_DyLq12",
        "outputId": "b65a37ef-03ad-45d8-890f-1098f1143c2a"
      },
      "source": [
        "plt.rcParams['figure.figsize'] = [10, 10]\n",
        "plt.rcParams.update({'font.size': 12})\n",
        "import seaborn as sns\n",
        "import matplotlib.pyplot as plt\n",
        "sns.barplot(x = temp['Rate the sanitary state of the identified feature'], y = temp['count'], hue = temp['If yes, what water treatment method is used? If no, why?']).set(title=\"FIGURE 5: WATER TREATMENT METHOD (OR REASON FOR NOT TREATING)\")"
      ],
      "execution_count": 55,
      "outputs": [
        {
          "output_type": "execute_result",
          "data": {
            "text/plain": [
              "[Text(0.5, 1.0, 'FIGURE 5: WATER TREATMENT METHOD (OR REASON FOR NOT TREATING)')]"
            ]
          },
          "metadata": {
            "tags": []
          },
          "execution_count": 55
        },
        {
          "output_type": "display_data",
          "data": {
            "image/png": "[encoded data removed]",
            "text/plain": [
              "<Figure size 720x720 with 1 Axes>"
            ]
          },
          "metadata": {
            "tags": [],
            "needs_background": "light"
          }
        }
      ]
    },
    {
      "cell_type": "markdown",
      "metadata": {
        "id": "OH6v6fCcO8vz"
      },
      "source": [
        "**From the above table and plot, highest sanitary state of the water is achieved when more people use Chlorination as their treatment method. On the other hand, water treatment is not observed in areas with low sanitary levels and is largely due to ignorance or unawareness**"
      ]
    },
    {
      "cell_type": "markdown",
      "metadata": {
        "id": "r_-TSThB3i6-"
      },
      "source": [
        "======================================================================================================================================================================================================================================"
      ]
    },
    {
      "cell_type": "markdown",
      "metadata": {
        "id": "Sv5Gps6u5ieR"
      },
      "source": [
        "### SECTION 2.2: SPATIAL DISTRIBUTION OF THE DATA\n",
        "\n",
        "This section will take a look at how various types of infrastructures are spatially ditributed based on their sanitary level. The section will also take a look at areas with high or low sanitary states.\n",
        "\n",
        "\n"
      ]
    },
    {
      "cell_type": "markdown",
      "metadata": {
        "id": "EUxJeSqN6J8x"
      },
      "source": [
        "### SECTION 2.2.1: SPATIAL DISTRIBUTION OF SANITARY INFRASTRUCTURE POINTS\n",
        "\n",
        "The data contains 7 unique sanitation states [ 1, 2, 3, 4, 5, 6, 7 ], 1 being the least sanitary state, and 7 being the most sanitary state. The code below shows how the unique states in the data can be revealled"
      ]
    },
    {
      "cell_type": "code",
      "metadata": {
        "id": "Ocu3YSuaIp3Y",
        "colab": {
          "base_uri": "https://localhost:8080/"
        },
        "outputId": "2cd4bb00-fad8-4793-819b-d0c377866e84"
      },
      "source": [
        "unique_staes = sanitation_data[\"Rate the sanitary state of the identified feature\"].unique()\n",
        "print(np.sort(unique_staes))"
      ],
      "execution_count": 56,
      "outputs": [
        {
          "output_type": "stream",
          "text": [
            "[1 2 3 4 5 6 7]\n"
          ],
          "name": "stdout"
        }
      ]
    },
    {
      "cell_type": "markdown",
      "metadata": {
        "id": "Iw6G14Ii7k5-"
      },
      "source": [
        "The next exercise is to observe the groupings of sanitary infrastrutures with the states 1 and 7. \n",
        "\n",
        "From CASE1 in SECTION 2.1.2.1, it was observed that the Run-off water / sewer lines and Solid Waste sites were the largest contributors to poor sanitary state of 1. On the other hand, more Water Storage Tanks were found in places with higher sanitary states such as 6 and 7. \n",
        "\n",
        "The following code will locate and plot low sanitary and high sanitary water infrastructures."
      ]
    },
    {
      "cell_type": "code",
      "metadata": {
        "id": "kJfamYp-7yEy",
        "colab": {
          "base_uri": "https://localhost:8080/",
          "height": 644
        },
        "outputId": "ba3c1eab-8056-42f8-a70f-bce10b38c9ba"
      },
      "source": [
        "# Get the indices for level 1 sanitary state at Run off water/sewer line\" and \"Solid waste site\"\n",
        "\n",
        "sanitary_infrastructure_level1=[]\n",
        "\n",
        "for i in range(244):\n",
        "  if(sanitation_data.loc[i,\"Rate the sanitary state of the identified feature\"]==1):\n",
        "    if(sanitation_data.loc[i,\"Type of infrastructure component/features of interest\"]==\"Run off water/sewer line\" or sanitation_data.loc[i,\"Type of infrastructure component/features of interest\"]==\"Solid waste site\"): \n",
        "      sanitary_infrastructure_level1.append(i)\n",
        "\n",
        "\n",
        "# Get the indices for level 7 sanitary state at \"Water storage tank\"\n",
        "sanitary_infrastructure_level7=[]\n",
        "for i in range(244):\n",
        "  if(sanitation_data.loc[i,\"Rate the sanitary state of the identified feature\"]==7):\n",
        "    if(sanitation_data.loc[i,\"Type of infrastructure component/features of interest\"]==\"Water storage tank\"): \n",
        "      sanitary_infrastructure_level7.append(i)\n",
        "\n",
        "\n",
        "level1_coordinates = lat_long_sanitation.loc[sanitary_infrastructure_level1,\"latitude\":\"longitude\"].to_numpy()\n",
        "level7_coordinates = lat_long_sanitation.loc[sanitary_infrastructure_level7,\"latitude\":\"longitude\"].to_numpy()\n",
        "\n",
        "\n",
        "%matplotlib inline\n",
        "plt.rcParams['figure.figsize'] = [10, 10]\n",
        "plt.rcParams.update({'font.size': 18})\n",
        "\n",
        "ax = plt.gca()\n",
        "P1=ax.scatter(level1_coordinates[:,0], level1_coordinates[:,1], color=\"r\")\n",
        "P2=ax.scatter(level7_coordinates[:,0], level7_coordinates[:,1], color=\"b\")\n",
        "ax.legend([P1,P2],[\"Sanitary state 1\",\"Sanitary state 7\"])\n",
        "plt.xlabel(\"latitude\")\n",
        "plt.ylabel(\"longitude\")\n",
        "plt.title(\"FIGURE 6: SANITARY INFRASTRUCTURES AT LEVEL 1 (RED) AND LEVEL 7 (BLUE)\")\n",
        "plt.show()"
      ],
      "execution_count": 57,
      "outputs": [
        {
          "output_type": "display_data",
          "data": {
            "image/png": "[encoded data removed]",
            "text/plain": [
              "<Figure size 720x720 with 1 Axes>"
            ]
          },
          "metadata": {
            "tags": [],
            "needs_background": "light"
          }
        }
      ]
    },
    {
      "cell_type": "markdown",
      "metadata": {
        "id": "QFMaWgpqtPMl"
      },
      "source": [
        "From the Figure above, it can be seen that the Sanitary Infrastructures with low sanitary state (RED-State 1) mostly occur in clusters geographically. In this case they are clustered in the WEST of the area of interest area (South with respect to the plot. Note the direction of latitudes and longitudes).\n",
        "\n",
        "On the other hand, Sanitary Infrastructures with high sanitary state (BLUE- State 7) are fewer and less clustered.\n",
        "\n",
        "For further information on the distribution of these data points, please refer to FIGURE 7 of SECTION 2.2.2"
      ]
    },
    {
      "cell_type": "markdown",
      "metadata": {
        "id": "R05ruMKnxqwj"
      },
      "source": [
        "======================================================================================================================================================================================================================================"
      ]
    },
    {
      "cell_type": "markdown",
      "metadata": {
        "id": "_tAHtqxExuhR"
      },
      "source": [
        "### SECTION 2.2.2: SPATIAL DISTRIBUTION OF LOW AND HIGH SANITARY STATES\n",
        "\n",
        "While SECTION 2.2.1 focused on the distribution of the least and most sanitary infrastructures, this section will take a look at a wider picture. Here, low sanitary states will be regarded as states 1 and 2. High sanitary states will be regarded as staets 6 and 7. In both cases, the sanitary infrastructures won't be taken into account.\n",
        "\n",
        "This section is more or less a more general case of SECTION 2.2.2. The following code locates all the states in question and diplay them on a plot."
      ]
    },
    {
      "cell_type": "code",
      "metadata": {
        "id": "N1s3ns5mK9qs",
        "colab": {
          "base_uri": "https://localhost:8080/",
          "height": 636
        },
        "outputId": "130e2e5b-1932-4e65-86c6-92f6ad1a0a67"
      },
      "source": [
        "sanitary_level1_2=[]\n",
        "\n",
        "for i in range(242):\n",
        "  if(sanitation_data.loc[i,\"Rate the sanitary state of the identified feature\"]==1 or sanitation_data.loc[i,\"Rate the sanitary state of the identified feature\"]==2):\n",
        "    sanitary_level1_2.append(i) \n",
        "\n",
        "sanitary_level6_7=[]\n",
        "\n",
        "for i in range(242):\n",
        "  if(sanitation_data.loc[i,\"Rate the sanitary state of the identified feature\"]==6 or sanitation_data.loc[i,\"Rate the sanitary state of the identified feature\"]==7):\n",
        "    sanitary_level6_7.append(i)\n",
        "\n",
        "level1_2_coordinates = lat_long_sanitation.loc[sanitary_level1_2,\"latitude\":\"longitude\"].to_numpy()\n",
        "level6_7_coordinates = lat_long_sanitation.loc[sanitary_level6_7,\"latitude\":\"longitude\"].to_numpy()\n",
        "\n",
        "plt.rcParams['figure.figsize'] = [10, 10]\n",
        "plt.rcParams.update({'font.size': 15})\n",
        "ax = plt.gca()\n",
        "P1=ax.scatter(level1_2_coordinates[:,0], level1_2_coordinates[:,1], color=\"r\")\n",
        "P2=ax.scatter(level6_7_coordinates[:,0], level6_7_coordinates[:,1], color=\"b\")\n",
        "ax.legend([P1,P2],[\"Sanitary states 1 and 2\",\"Sanitary states 6 and 7\"])\n",
        "plt.xlabel(\"latitude\")\n",
        "plt.ylabel(\"longitude\")\n",
        "plt.title(\"FIGURE 7: SANITARY LEVELS 1 & 2 (RED) AND LEVELS 6 & 7 (BLUE)\")\n",
        "plt.ylim((36.74, 36.78))\n",
        "plt.xlim((-1.405, -1.385))\n",
        "plt.show()"
      ],
      "execution_count": 58,
      "outputs": [
        {
          "output_type": "display_data",
          "data": {
            "image/png": "[encoded data removed]",
            "text/plain": [
              "<Figure size 720x720 with 1 Axes>"
            ]
          },
          "metadata": {
            "tags": [],
            "needs_background": "light"
          }
        }
      ]
    },
    {
      "cell_type": "markdown",
      "metadata": {
        "id": "GsYTh-Y4P1oA"
      },
      "source": [
        "In the above plot (FIGURE 8), it can be seen that between latitudes [ -1.3975, 1.3925 ] and longitudes [ 36.745, 36.755 ] are is a dense cluster of areas with low sanitary levels 1 and 2 (RED). This is a commercial center consisting of shops, a market and the bus station. \n",
        "\n",
        "On the other hand, between latitudes [ -1.3925, -1.3875] and longitudes [ 36.760, 36.7655] is a sparse cluster of areas with higher sanitary levels of 6 and 7. This cluster is the upper class region consisting of high end residential units.\n",
        "\n",
        "The cluster between latitudes [-1.4025, -1.3950] and longitudes [36.765, 36.770] is a mixed cluster of both low and high sanitary levels. This is an upcoming residential area with a mix from well-done housing units to temporary structures."
      ]
    },
    {
      "cell_type": "markdown",
      "metadata": {
        "id": "eKX8o6lRaR7Q"
      },
      "source": [
        "======================================================================================================================================================================================================================================"
      ]
    },
    {
      "cell_type": "markdown",
      "metadata": {
        "id": "m-KY6vImeRAp"
      },
      "source": [
        "### SECTION 2.2.3: QUALITATIVE EXPLANATION OF OBSERVATIONS MADE\n",
        "\n",
        "In Kajiado county, there are no sewer lines or the construction is not complete. There is onsite disposal of liquid waste through septic tanks. In areas with informal settlements or with high population density, these septic fill and spill or those without septic tanks, pour waste water outside, and can be seen running along the trenches of the roads. This poses risk for potential waterborne disease outbreaks, given that Kajiado county is an arid area with low water per capita and the community depends on ground water which may be contaminated during seasonal flooding. In terms of solid wastes, there is indiscriminate dumping of refuse and the main method of solid waste disposal is through burning followed by the use of garbage collection services. Therefore, heaps of garbage can be seen at damping sites which are numerous in places with high population density.\n"
      ]
    },
    {
      "cell_type": "markdown",
      "metadata": {
        "id": "3FIqMtxoaLfq"
      },
      "source": [
        "### SECTION 2.3: K-MEANS\n",
        "\n",
        "This section will take  look at how the non-numerical (categorical) information of the dataset can be used to group the data points together.\n",
        "\n",
        "K-means will be used for clustering as shown in the following code"
      ]
    },
    {
      "cell_type": "code",
      "metadata": {
        "id": "A3kPqjMab8_1"
      },
      "source": [
        "from sklearn.metrics.pairwise import euclidean_distances\n",
        "from sklearn.cluster import KMeans\n",
        "\n",
        "# Only categorical data will be used\n",
        "categorical = sanitation_data\n",
        "\n",
        "# One-hot-encoding of categorical data\n",
        "categorical = pd.get_dummies(categorical).to_numpy()\n",
        "\n",
        "# Standardize the columns\n",
        "categorical_standardized = (categorical - np.mean(categorical)) / np.std(categorical)\n",
        "\n",
        "lat_long_sanitation = lat_long_sanitation.to_numpy()"
      ],
      "execution_count": 59,
      "outputs": []
    },
    {
      "cell_type": "markdown",
      "metadata": {
        "id": "gJ6wRVhvejE7"
      },
      "source": [
        "At this point, K-means is ready to start, however, it is good idea to determine the value of K before proceeding with clustering. The following code helps in finding the value of K. The optimum value is found at the **elbow** of the curve"
      ]
    },
    {
      "cell_type": "code",
      "metadata": {
        "id": "jGzY1BmQfFMY",
        "colab": {
          "base_uri": "https://localhost:8080/",
          "height": 636
        },
        "outputId": "c2d7f6a9-f48e-478b-ce4d-d0d1134b7dd0"
      },
      "source": [
        "# Finding the value of K\n",
        "cost =[] \n",
        "for i in range(1, 11): \n",
        "    KM = KMeans(n_clusters = i, max_iter = 500) \n",
        "    KM.fit(categorical_standardized) # USE STANDARDIZED DATA HERE\n",
        "      \n",
        "    # calculates squared error for the clustered points \n",
        "    cost.append(KM.inertia_)      \n",
        "  \n",
        "# plot the cost against K values \n",
        "plt.plot(range(1, 11), cost, color ='g', linewidth ='3') \n",
        "plt.xlabel(\"Value of K\") \n",
        "plt.ylabel(\"Sqaured Error (Cost)\") \n",
        "plt.title(\"FIGURE 8: ELBOW PLOT TO DETERMINE OPTIMUM VALUE OF K\")\n",
        "plt.show() "
      ],
      "execution_count": 60,
      "outputs": [
        {
          "output_type": "display_data",
          "data": {
            "image/png": "[encoded data removed]",
            "text/plain": [
              "<Figure size 720x720 with 1 Axes>"
            ]
          },
          "metadata": {
            "tags": [],
            "needs_background": "light"
          }
        }
      ]
    },
    {
      "cell_type": "markdown",
      "metadata": {
        "id": "Q8KyEtbugUuX"
      },
      "source": [
        "From the above curve, the elbow is at K=3. The code below will proceed with K-means clustering of the categorical data.\n",
        "\n",
        "Latitudes and Longitudes of the data points are not used in K-means clustering. They are only used to show the locatiions of the datapoints in the graph."
      ]
    },
    {
      "cell_type": "code",
      "metadata": {
        "id": "EJaP9GtXgvNd",
        "colab": {
          "base_uri": "https://localhost:8080/",
          "height": 636
        },
        "outputId": "f695e808-416e-4afa-b3ed-046be7ae96a5"
      },
      "source": [
        "#####################################################################################\n",
        "# BEGIN K-MEANS\n",
        "#####################################################################################\n",
        "kmeans = KMeans(n_clusters= 3)\n",
        "label = kmeans.fit_predict(categorical_standardized) \n",
        "u_labels = np.unique(label)\n",
        "\n",
        "fig = plt.figure()\n",
        "for i in u_labels:\n",
        "    plt.scatter(lat_long_sanitation[label == i , 0] , lat_long_sanitation[label == i , 1] , label = i) \n",
        "plt.legend()\n",
        "plt.xlabel(\"latitude\")\n",
        "plt.ylabel(\"longitude\")\n",
        "plt.title(\"FIGURE 9: K-MEANS CLUSTERS AT K=3\")\n",
        "plt.show()"
      ],
      "execution_count": 61,
      "outputs": [
        {
          "output_type": "display_data",
          "data": {
            "image/png": "[encoded data removed]",
            "text/plain": [
              "<Figure size 720x720 with 1 Axes>"
            ]
          },
          "metadata": {
            "tags": [],
            "needs_background": "light"
          }
        }
      ]
    },
    {
      "cell_type": "markdown",
      "metadata": {
        "id": "on7Gcq7azeXW"
      },
      "source": [
        "======================================================================================================================================================================================================================================"
      ]
    },
    {
      "cell_type": "markdown",
      "metadata": {
        "id": "KPs5Se3XzSFh"
      },
      "source": [
        "# SECTION 3: SUMMARY OF RESULTS AND FUTURE WORK\n",
        "\n",
        "**SECTION 1**  talked about data proparation, formatting and transformation of polar coordinates (latitudes and longitudes) into cartesian coordinates X, and  Y via GEODETIC TO ECEF CONVERSION. This was necessary because polar values don't behave the same way as linear when scalled. This could inturn result in errors during clustering. \n",
        "\n",
        "The Section also discussed how using Google's Elevation API, elevations were added to the existing dataset (which originally had latitudes, longitudes, but not altitudes). However, this turned out to not be necessary for this project because only the categorical features were eventually used for clustering.\n",
        "\n",
        "**SECTION 2** had 3 main parts which are 2.1, 2.2 and 2.3.\n",
        "\n",
        "\n",
        "SECTION 2.1 was about Gower's Similarity Matrix and how it could be used to determine the most similar data points in the dataset according to their categorical variables. It was shown how the Matrix could be used to determine various datapoints which would be grouped together based on their categorical features alone. Section 2.1 also looked at the relation between sanitary states and the rest of the categorical variables. It was shown that areas with high sanitary levels, unlike those with lower sanitary levels, make greater use of storage tanks to store water, purify the water through chlorination, and are free of solid waste sites, open water bodies, and Run off water / sewer lines. \n",
        "\n",
        "SECTION 2.2 was about Spatial distribution of infrastructures with lowest and highest sanitary states. It also looked at the general distribution of sanitary states on the map using the location coordinates and provided qualitative reason for the spacial distribution observed.\n",
        "\n",
        "SECTION 2.3 demonstrated the use of K-means using only non-numerical (categorical) variables to determine clusters or groups of of similar data points. It was found that the grouping was consistent with the spatial distribution of the various sanitary levels as in SECTIONS 2.2.1 and 2.2.2.\n",
        "\n",
        "\n",
        "The identification of the high-risk locations and environmental factors can be used as an early warning system once the first outbreak has been confirmed in Kajiado county. Using the features, public health can put in place enough resources for preventive measures. These can include mass vaccination, health promotion messages related to food and water hygiene and ensure that there are sufficient commodities for the treatment of cholera. Because the spread of cholera is always spatial, the use of GIS data can be incorporated into planning for resources and commodities during an outbreak when triangulated with the census data. GIS can list the number of household in the area and the census data will tell the average number of people per household and therefore quantifying the number at risk.\n",
        "\n",
        "In terms of the implication for future work, while the present work is an increment to existing data on the potential integration of GIS, machine learning and participatory research to the surveillance systems aimed at improving planning, preparedness and management of cholera epidemics; we aim to use these findings, challenges encountered during the research period and the learnings as the premise to design better research methodologies in future that will improve the data capture and algorithms for better predictive models. \n",
        "\n"
      ]
    },
    {
      "cell_type": "markdown",
      "metadata": {
        "id": "xgERah3t4FkJ"
      },
      "source": [
        "======================================================================================================================================================================================================================================\n",
        "\n",
        "\n",
        "\n"
      ]
    },
    {
      "cell_type": "markdown",
      "metadata": {
        "id": "E6TXqRj6VEIF"
      },
      "source": [
        "# SECTION 4: APPENDIX"
      ]
    },
    {
      "cell_type": "markdown",
      "metadata": {
        "id": "wNkkjcN-VKqJ"
      },
      "source": [
        "###SECTION 4.1 [Data Point Specified By The User]"
      ]
    },
    {
      "cell_type": "code",
      "metadata": {
        "colab": {
          "base_uri": "https://localhost:8080/"
        },
        "id": "JBGDJdYUb_Qt",
        "outputId": "1893ebce-9b0f-4962-da4a-5fc43e734f99"
      },
      "source": [
        "# Ask for the index from the user (row number)\n",
        "idx_i_sorted, gower_scores_i_sorted,i = calculateGowers(int(input(\"Please choose a row number between 0 and 243. Press ENTER to continue: \")))\n",
        "print(\"*************************************\")\n",
        "for i in idx_i_sorted:\n",
        "  print(\"coordinates:\",lat_long_sanitation[i][0:2])\n",
        "  print(sanitation_data.loc[i,:])\n",
        "  print(\"*************************************\")"
      ],
      "execution_count": 62,
      "outputs": [
        {
          "output_type": "stream",
          "text": [
            "Please choose a row number between 0 and 243. Press ENTER to continue: 19\n",
            "*************************************\n",
            "coordinates: [-1.3979124 36.7665209]\n",
            "Type of infrastructure component/features of interest       Run off water/sewer line\n",
            "Rate the sanitary state of the identified feature                                  4\n",
            "What is the main source of drinking water in the area?                      Borehole\n",
            "Are water treatment methods observed in the area?                                YES\n",
            "If yes, what water treatment method is used? If no, why?                Chlorination\n",
            "Name: 25, dtype: object\n",
            "*************************************\n",
            "coordinates: [-1.3979124 36.7665209]\n",
            "Type of infrastructure component/features of interest       Run off water/sewer line\n",
            "Rate the sanitary state of the identified feature                                  4\n",
            "What is the main source of drinking water in the area?                      Borehole\n",
            "Are water treatment methods observed in the area?                                YES\n",
            "If yes, what water treatment method is used? If no, why?                Chlorination\n",
            "Name: 24, dtype: object\n",
            "*************************************\n",
            "coordinates: [-1.397713 36.750015]\n",
            "Type of infrastructure component/features of interest       Run off water/sewer line\n",
            "Rate the sanitary state of the identified feature                                  4\n",
            "What is the main source of drinking water in the area?                      Borehole\n",
            "Are water treatment methods observed in the area?                                YES\n",
            "If yes, what water treatment method is used? If no, why?                Chlorination\n",
            "Name: 235, dtype: object\n",
            "*************************************\n",
            "coordinates: [-1.3979124 36.7665209]\n",
            "Type of infrastructure component/features of interest       Run off water/sewer line\n",
            "Rate the sanitary state of the identified feature                                  4\n",
            "What is the main source of drinking water in the area?                      Borehole\n",
            "Are water treatment methods observed in the area?                                YES\n",
            "If yes, what water treatment method is used? If no, why?                Chlorination\n",
            "Name: 19, dtype: object\n",
            "*************************************\n",
            "coordinates: [-1.3979124 36.7665209]\n",
            "Type of infrastructure component/features of interest       Run off water/sewer line\n",
            "Rate the sanitary state of the identified feature                                  4\n",
            "What is the main source of drinking water in the area?                      Borehole\n",
            "Are water treatment methods observed in the area?                                YES\n",
            "If yes, what water treatment method is used? If no, why?                Chlorination\n",
            "Name: 28, dtype: object\n",
            "*************************************\n",
            "coordinates: [-1.3950497 36.7654517]\n",
            "Type of infrastructure component/features of interest       Run off water/sewer line\n",
            "Rate the sanitary state of the identified feature                                  4\n",
            "What is the main source of drinking water in the area?                      Borehole\n",
            "Are water treatment methods observed in the area?                                YES\n",
            "If yes, what water treatment method is used? If no, why?                Chlorination\n",
            "Name: 21, dtype: object\n",
            "*************************************\n",
            "coordinates: [-1.3979124 36.7665209]\n",
            "Type of infrastructure component/features of interest       Run off water/sewer line\n",
            "Rate the sanitary state of the identified feature                                  4\n",
            "What is the main source of drinking water in the area?                      Borehole\n",
            "Are water treatment methods observed in the area?                                YES\n",
            "If yes, what water treatment method is used? If no, why?                Chlorination\n",
            "Name: 20, dtype: object\n",
            "*************************************\n"
          ],
          "name": "stdout"
        }
      ]
    }
  ]
}