{
  "nbformat": 4,
  "nbformat_minor": 0,
  "metadata": {
    "colab": {
      "name": "cholera-hyper-surveillance.ipynb",
      "provenance": [],
      "collapsed_sections": [],
      "toc_visible": true
    },
    "kernelspec": {
      "display_name": "Python 3",
      "name": "python3"
    }
  },
  "cells": [
    {
      "cell_type": "markdown",
      "metadata": {
        "id": "-p9fKvm_stYk"
      },
      "source": [
        "### **SECTION 1: SANITATION DATA**\n",
        "\n",
        "\n",
        "This section describes thee process of loading, processing and transformation of the available raw data into the shape and form suitable for clustering algorithms."
      ]
    },
    {
      "cell_type": "markdown",
      "metadata": {
        "id": "If4A8_CEv9e7"
      },
      "source": [
        "### SECTION 1.1: UPLOAD OF DATA TO GOOGLE COLAB\n",
        "\n",
        "The data collected consists of 244 rows (points), each of which has 7 columns (features). The 7 features are:\n",
        "\n",
        "1. Timestamp\n",
        "2. GPS coordinates\n",
        "3. Type of infrastructure component/features of interest\n",
        "4. Rate the sanitary state of the identified feature\n",
        "5. What is the main source of drinking water in the area?\t\n",
        "6. Are water treatment methods observed in the area?\n",
        "7. If yes, what water treatment method is used? If no, why?\n",
        "\n",
        "The first step in the analysis of the data was to upload a file called **sanitation_data.csv** from a local computer to Google Colab using Colab's library as show below (commented out because data had been uploaded to Google Colab at the time of writing this report):\n",
        "\n"
      ]
    },
    {
      "cell_type": "code",
      "metadata": {
        "id": "rp9OXSMsyf0u"
      },
      "source": [
        "########## LEAVE THIS COMMENTED BECAUSE THE FILE HAS BEEN UPLOADED ##########\n",
        "#from google.colab import files\n",
        "#sanitation_data = files.upload()\n",
        "#elevations_json_data = files.upload()"
      ],
      "execution_count": 138,
      "outputs": []
    },
    {
      "cell_type": "markdown",
      "metadata": {
        "id": "nMxAbgYr0EBD"
      },
      "source": [
        "### SECTION 1.2: PANDAS DATAFRAME\n",
        "\n",
        "The data from **sanitation_data.csv** was read and converted into Pandas Data Frame using the Pandas library as shown below:"
      ]
    },
    {
      "cell_type": "code",
      "metadata": {
        "id": "iY-wEot-0ys2"
      },
      "source": [
        "import pandas as pd\n",
        "sanitation_data = pd.read_csv(\"sanitation_data.csv\")"
      ],
      "execution_count": 139,
      "outputs": []
    },
    {
      "cell_type": "markdown",
      "metadata": {
        "id": "SzMNcmKv1eoI"
      },
      "source": [
        "### SECTION 1.3: REMOVAL OF TIMESTAMP COLUMN\n",
        "\n",
        "The first column of the **sanitation_data** dataframe obtained in SECTION 1.2 contained **Timestamp** column which were removed as follows:"
      ]
    },
    {
      "cell_type": "code",
      "metadata": {
        "id": "rcmqFV3-2fVB"
      },
      "source": [
        "sanitation_data = sanitation_data.drop([\"Timestamp\"],axis=1)"
      ],
      "execution_count": 140,
      "outputs": []
    },
    {
      "cell_type": "markdown",
      "metadata": {
        "id": "s8rOuTX53Bnv"
      },
      "source": [
        "### SECTION 1.4: DECOUPLING OF GPS COORDINATES\n",
        "\n",
        "The **GPS Coordinates** column of the sanitation data was in the form of a string **\"latitude, longitude\"**. This form of representation was decoupled into separate numerical **latitude** and **longitude** columns as follows:"
      ]
    },
    {
      "cell_type": "code",
      "metadata": {
        "id": "j11mTrpP4AEa"
      },
      "source": [
        "temp= sanitation_data[['GPS coordinates']]\n",
        "lat_long_sanitation=pd.DataFrame()\n",
        "lat_long_sanitation[['latitude','longitude']] = temp['GPS coordinates'].str.split(',',expand=True).astype(float)"
      ],
      "execution_count": 141,
      "outputs": []
    },
    {
      "cell_type": "markdown",
      "metadata": {
        "id": "lsNj0Fit4WhG"
      },
      "source": [
        "### SECTION 1.5: DREMOVAL OF GPS COORDINATES COLUMN\n",
        "The **GPS Coordinates** column was then removed from the dataframe as follows:"
      ]
    },
    {
      "cell_type": "code",
      "metadata": {
        "id": "ehpYz3W248f5"
      },
      "source": [
        "sanitation_data = sanitation_data.drop(['GPS coordinates'], axis=1)\n",
        "#print(sanitation_data.head())"
      ],
      "execution_count": 142,
      "outputs": []
    },
    {
      "cell_type": "markdown",
      "metadata": {
        "id": "lLEM-bAb7Ty3"
      },
      "source": [
        "At this point, there are two Pandas dataframes.\n",
        "\n",
        "The **sanitation_data** with the following columns:\n",
        "\n",
        "1. Type of infrastructure component/features of interest\n",
        "2. Rate the sanitary state of the identified feature\n",
        "3. What is the main source of drinking water in the area?\n",
        "4. Are water treatment methods observed in the area?\n",
        "5. If yes, what water treatment method is used? If no, why?\n",
        "\n",
        "The **lat_long_sanitation** with the following columns:\n",
        "\n",
        "1. latitude\n",
        "2. longitude"
      ]
    },
    {
      "cell_type": "markdown",
      "metadata": {
        "id": "3ILIz-9-8Ap9"
      },
      "source": [
        "### SECTION 1.6: INSERTION OF ELEVATION COLUMN INTO lat_long_sanitation\n",
        "\n",
        "The **GPS Coordinates** column described in SECTION 1.4 resulted into only two separate numerical columns for latitudes and longitudes. A third column, called **elevation**, which contained heights at the corresponding longitudes and latitudes was added with the help of [Google's Point Elevation API](https://developers.google.com/maps/documentation/elevation/overview). The API simply returns a json file with the heights for each latitude-longitude pair. This file was renamed to **elevations_data.json**. The following code shows how this API can be used."
      ]
    },
    {
      "cell_type": "code",
      "metadata": {
        "id": "_BWk8UXXAjjs"
      },
      "source": [
        "temp=lat_long_sanitation.to_csv(header=None, index=False).split('\\n')\n",
        "lat_long_API = '|'.join([str(elem) for elem in temp]) \n",
        "lat_long_API = lat_long_API[0:-1]\n",
        "#print(lat_long_API)\n",
        "#https://maps.googleapis.com/maps/api/elevation/json?locations=lat_long_API&key=YOUR_API_KEY"
      ],
      "execution_count": 143,
      "outputs": []
    },
    {
      "cell_type": "markdown",
      "metadata": {
        "id": "gZvc_aIhCzE7"
      },
      "source": [
        "The file **elevations_data.json** was uploaded to Google Colab in SECTION 1.1 along with **sanitation_data.csv**"
      ]
    },
    {
      "cell_type": "markdown",
      "metadata": {
        "id": "rUA98WD1DxLf"
      },
      "source": [
        "All the elevations from **elevations_data.json** were loaded into **elevations** list as follows:"
      ]
    },
    {
      "cell_type": "code",
      "metadata": {
        "id": "aoHpLy0BEAUA"
      },
      "source": [
        "import json\n",
        "\n",
        "with open('elevations_data.json') as f:\n",
        "  elevations_data = json.load(f)\n",
        "\n",
        "elevations = []\n",
        "\n",
        "for i in elevations_data[\"results\"]:\n",
        "  elevations.append(i.get(\"elevation\"))"
      ],
      "execution_count": 144,
      "outputs": []
    },
    {
      "cell_type": "markdown",
      "metadata": {
        "id": "sEzQNxe8FQgW"
      },
      "source": [
        "The elevations of the **elevations** list were joined with the latitudes and longitudes of the **lat_long_sanitation** dataframe to form **lat_long_ele_sanitation** dataframe as follows:"
      ]
    },
    {
      "cell_type": "code",
      "metadata": {
        "id": "27Pco17yGfaq"
      },
      "source": [
        "lat_long_ele_sanitation = lat_long_sanitation\n",
        "lat_long_ele_sanitation[\"elevation\"] = elevations"
      ],
      "execution_count": 145,
      "outputs": []
    },
    {
      "cell_type": "markdown",
      "metadata": {
        "id": "GKmZIFDWHtb_"
      },
      "source": [
        "### SECTION 1.7: TRANSFORMATION OF LATITUDES, LONGITUDES, AND ELEVATIONS INTO X, Y,  Z COORDINATES"
      ]
    },
    {
      "cell_type": "markdown",
      "metadata": {
        "id": "75a0MkBlIRB9"
      },
      "source": [
        "By this point, there are three Pandas dataframes. \n",
        "\n",
        "The **sanitation_data** with the following columns:\n",
        "1. Type of infrastructure component/features of interest\n",
        "2. Rate the sanitary state of the identified feature\n",
        "3. What is the main source of drinking water in the area?\n",
        "4. Are water treatment methods observed in the area?\n",
        "5. If yes, what water treatment method is used? If no, why?\n",
        "\n",
        "\n",
        "The **lat_long_sanitation** with the following columns:\n",
        "1. latitude\n",
        "2. longitude\n",
        "\n",
        "and the **lat_long_elev_sanitation** with the following columns:\n",
        "1. latitude\n",
        "2. longitude\n",
        "3. elevation\n",
        "\n",
        "\n",
        "Since the latitudes, longitudes, and elevations are angular measurements, they can't be linearly scalled to produce meaningul results in clustering algorithms such as **K-means**, which is one of the clustering algorithms to be covered in SECTION 2."
      ]
    },
    {
      "cell_type": "markdown",
      "metadata": {
        "id": "WAeGXPwIKDA9"
      },
      "source": [
        "### SECTION 1.7.1: GEODETIC TO ECEF CONVERSION\n",
        "\n",
        "One of the common ways of converting latitudes ($\\phi$), longitudes ($\\lambda$), and elevation ($h$) from their polar form to their linear/cartesian form (X,Y,Z) is called Geodetic to ECEF (acronym for earth-centered, earth-fixed) conversion.\n",
        "\n",
        "In this conversion, we have:\n",
        "\n",
        "$X = (N(\\phi)+h)cos(\\phi)cos(\\lambda)$\n",
        "\n",
        "$Y = (N(\\phi)+h)cos(\\phi)sin(\\lambda)$\n",
        "\n",
        "$Z = \\left(\\frac{b²}{a²}N(\\phi)+h \\right)sin(\\phi)$\n",
        "\n",
        "Where:\n",
        "\n",
        "$N(\\phi)=\\frac{a}{\\sqrt{1-e^{2}sin^2\\phi}}$ and $e^{2}=1-\\frac{b^2}{a^2}$\n",
        "\n",
        "and\n",
        "\n",
        "$a=6378137.0 m$\n",
        "\n",
        "$b=6356752.314245 m m$"
      ]
    },
    {
      "cell_type": "markdown",
      "metadata": {
        "id": "uIuLPSAsLGH_"
      },
      "source": [
        "The following code implements the above set of equations to transform the polar coordinates in **lat_long_ele_sanitation** dataframe to their linear/cartesian equivalent in the **X_Y_Z** dataframe."
      ]
    },
    {
      "cell_type": "code",
      "metadata": {
        "id": "D6SHCcA-O_0u"
      },
      "source": [
        "import math\n",
        "\n",
        "\n",
        "a=6378137.0\n",
        "b=6356752.314245\n",
        "e_squared=1-(b**2)/(a**2)\n",
        "\n",
        "# Latitude (deg), Longitude (deg), Elevation (meters)\n",
        "def geodetic_to_ecef(latitude,longitude,elevation):\n",
        "    \n",
        "    lamb = math.radians(latitude)\n",
        "    phi = math.radians(longitude)\n",
        "    h=elevation\n",
        "\n",
        "\n",
        "\n",
        "    Nphi=a/math.sqrt(1-e_squared*(math.sin(lamb))**2)\n",
        "\n",
        "    sin_lambda = math.sin(lamb)\n",
        "    cos_lambda = math.cos(lamb)\n",
        "    sin_phi = math.sin(phi)\n",
        "    cos_phi = math.cos(phi)\n",
        "\n",
        "    X = (Nphi+h) * cos_lambda * cos_phi\n",
        "    Y = (Nphi+h) * cos_lambda * sin_phi\n",
        "    Z = (((1 - e_squared) * Nphi)+h)* sin_lambda\n",
        "\n",
        "    return X,Y,Z\n",
        "\n",
        "X_Y_Z=lat_long_ele_sanitation.apply(lambda row:geodetic_to_ecef(row[\"latitude\"],row[\"longitude\"],row[\"elevation\"]), axis=1)\n",
        "\n",
        "# Convert the series to Pandas DataFrame\n",
        "X_Y_Z = X_Y_Z.to_frame()\n",
        "X_Y_Z = pd.DataFrame(X_Y_Z[0].to_list(), columns=['X','Y','Z'])\n",
        "\n",
        "\n",
        "#print(X_Y_Z)\n",
        "#print(sanitation_data)"
      ],
      "execution_count": 146,
      "outputs": []
    },
    {
      "cell_type": "markdown",
      "metadata": {
        "id": "IxrmNQdSQrNI"
      },
      "source": [
        "### SECTION 1.7.2: COMBINING TRANSFORMED COORDINATES WITH REST OF DATA\n",
        "\n",
        "The following code shows the joining of **X_Y_Z** dataframe to **sanitation_data** dataframe to form the **xyz_sanitation_data** dataframe that has the basic form for clustering in SECTION 2."
      ]
    },
    {
      "cell_type": "code",
      "metadata": {
        "id": "2TozgOBXSn_P"
      },
      "source": [
        "x_y_z_sanitation_data = pd.DataFrame()\n",
        "x_y_z_sanitation_data = pd.concat([X_Y_Z,sanitation_data], axis=1)\n",
        "#print(x_y_z_sanitation_data)"
      ],
      "execution_count": 147,
      "outputs": []
    },
    {
      "cell_type": "markdown",
      "metadata": {
        "id": "_DAzKxWctnXb"
      },
      "source": [
        "# SECTION 2: DATA CLUSTERING\n",
        "This section aims to leverage on some of the popular clustering algorithms available today to determine if there is any relationship between the different variables of the sanitation data provided. This section will also take a look at possible spacial connection between different data points using the non-categorical variables of the data (X,Y,Z + Sanitation rate)."
      ]
    },
    {
      "cell_type": "markdown",
      "metadata": {
        "id": "ra_ouNsvZzlS"
      },
      "source": [
        "### SECTION 2.1: GOWER'S SIMILARITY MATRIX \n",
        "\n",
        "Since the transformed data, **xyz_sanitation_data** (SECTION 1.7.2), contains both numerical and categorical information, it may not be apparent which of the variables are similar, or disimilar. **Gower's matrix** computes the similarities/disimilarities of mixed variables (numerical and categorical) in data by calculating all the pair-wise distances between every data point within the data.\n",
        "Gower's similarity matrix can therefore be used to find similarities, and perhaps uncover some patterns, within **xyz_sanitation_data** since while X, Y, Z and the \"Rate the sanitary state\" are numerical, the rest of the variables are categorical.\n",
        "\n",
        "A 0 distance means the pair are 100% similar (variable measures distance to itself), and a 1 means a given pair of data is 100% disimilar (the opposite).\n",
        "\n"
      ]
    },
    {
      "cell_type": "markdown",
      "metadata": {
        "id": "g7Qy7SzgksX9"
      },
      "source": [
        "### SECTION 2.1.1: APPLICATION OF GOWER'S MATRIX ON SANITATION DATA\n",
        "\n",
        "The code below installs and imports gower and other libraries."
      ]
    },
    {
      "cell_type": "code",
      "metadata": {
        "colab": {
          "base_uri": "https://localhost:8080/"
        },
        "id": "P_TYQcyjlQMG",
        "outputId": "21a37266-546a-4c71-fa80-0ce36a15acf7"
      },
      "source": [
        "####################################################################\n",
        "print(\"********************************************\")\n",
        "!pip install gower\n",
        "print(\"********************************************\")\n",
        "import gower\n",
        "import numpy as np\n",
        "####################################################################"
      ],
      "execution_count": 148,
      "outputs": [
        {
          "output_type": "stream",
          "text": [
            "********************************************\n",
            "Requirement already satisfied: gower in /usr/local/lib/python3.7/dist-packages (0.0.5)\n",
            "Requirement already satisfied: numpy in /usr/local/lib/python3.7/dist-packages (from gower) (1.19.5)\n",
            "Requirement already satisfied: scipy in /usr/local/lib/python3.7/dist-packages (from gower) (1.4.1)\n",
            "********************************************\n"
          ],
          "name": "stdout"
        }
      ]
    },
    {
      "cell_type": "markdown",
      "metadata": {
        "id": "N182PceZlgTo"
      },
      "source": [
        "A single line of code using the gower library on the **xyz_sanitation_data** dataframe is all that is needed to produce a 244x244 square matrix (since there are 244 data points as mentioned in SECTION 1.1. All possible pairwise distances is $244^2$ ). The leading diagonal of the reulting square matrix are all 0s. Below is the code:"
      ]
    },
    {
      "cell_type": "code",
      "metadata": {
        "colab": {
          "base_uri": "https://localhost:8080/"
        },
        "id": "FhH4KEYXofmW",
        "outputId": "621d8978-f5f6-41a4-925a-fa05776bb696"
      },
      "source": [
        "####################################################################\n",
        "similarity_matrix=gower.gower_matrix(x_y_z_sanitation_data)\n",
        "print(similarity_matrix)\n",
        "####################################################################"
      ],
      "execution_count": 149,
      "outputs": [
        {
          "output_type": "stream",
          "text": [
            "[[0.         0.142777   0.4622949  ... 0.41503987 0.44185585 0.32222214]\n",
            " [0.142777   0.         0.47530717 ... 0.43821704 0.34030977 0.21023442]\n",
            " [0.4622949  0.47530717 0.         ... 0.6273348  0.6124841  0.23492724]\n",
            " ...\n",
            " [0.41503987 0.43821704 0.6273348  ... 0.         0.276816   0.612262  ]\n",
            " [0.44185585 0.34030977 0.6124841  ... 0.276816   0.         0.4724113 ]\n",
            " [0.32222214 0.21023442 0.23492724 ... 0.612262   0.4724113  0.        ]]\n"
          ],
          "name": "stdout"
        }
      ]
    },
    {
      "cell_type": "markdown",
      "metadata": {
        "id": "LZuTNOxspbgs"
      },
      "source": [
        "The sum of the scores in the matrix along the rows (axis=0) or the columns (axis=1) will be the total score each data point gets from other data points. Below is the code that calculates this score. The total number of sums will be a list containing 244 scores in the following order: \n",
        "\n",
        "datapoint0 = 114.146385\n",
        "\n",
        "datapoint1 = 114.11417\n",
        "\n",
        "datapoint2 = 123.006035\n",
        "\n",
        "datapoint3 = 120.0327\n",
        "\n",
        "|\n",
        "\n",
        "|\n",
        "\n",
        "|\n",
        "\n",
        "datapoint242 = 103.37557\n",
        "\n",
        "datapoint243 = 116.147285\n",
        "\n",
        "datapoint0 to datapoint243 are essentially the rows of the **xyz_sanitation_data** dataframe from top to bottom. "
      ]
    },
    {
      "cell_type": "code",
      "metadata": {
        "colab": {
          "base_uri": "https://localhost:8080/"
        },
        "id": "sjVgDsgeppIW",
        "outputId": "174c44fd-4820-4f2a-8df8-da5a6059ae01"
      },
      "source": [
        "####################################################################\n",
        "sum_similar=np.sum(similarity_matrix,axis=0) \n",
        "print(\"Total Scores = \",len(sum_similar))\n",
        "print(sum_similar)\n",
        "####################################################################"
      ],
      "execution_count": 170,
      "outputs": [
        {
          "output_type": "stream",
          "text": [
            "Total Scores =  244\n",
            "[114.146385 114.11417  123.006035 120.0327   114.66806  120.93319\n",
            " 107.12157   96.621605  96.621605 118.65828  111.69758  114.197975\n",
            " 114.15205  105.01369   99.38868   99.38868  117.64148  104.121574\n",
            " 117.1647    92.743835  92.743835  98.66204  117.63417  102.48917\n",
            "  92.743835  92.743835 101.706604 122.528015  92.743835 100.50137\n",
            " 108.05404  108.05404  108.05404  102.08105   96.08105   96.06713\n",
            "  96.06713  122.39903  101.845314 102.59344  102.59344  108.21844\n",
            " 102.59344  112.22514  103.03285  110.15785  127.61974  123.44162\n",
            "  97.92541   99.11424  109.116295 103.03285  103.6798   104.75897\n",
            " 122.572    116.01605  103.03285  118.41439  123.7894   118.41439\n",
            " 123.95701  121.77068  119.99786  118.91851  121.50158  108.533356\n",
            " 110.42644  110.37476  120.78455  110.30668  109.327736 117.02591\n",
            " 116.65833  115.47504  110.99023  124.349785  99.24627  108.58451\n",
            " 119.28486  129.23738  121.328156 106.28259  117.01306   94.085884\n",
            " 123.13649  112.09154   94.026634  94.02667   94.026634  97.690125\n",
            " 105.706154 105.69771  107.34007   94.94879  102.454956 106.71507\n",
            "  97.40913  100.618385 105.52162  110.67345   93.99487   99.869896\n",
            "  99.244896 146.926     96.631256 104.86465  107.40323  103.028244\n",
            " 103.10869  108.410774 115.93048  112.1608   112.233696 119.56474\n",
            " 105.92681  105.46805  116.483826  95.59607  114.47219  104.711655\n",
            "  99.08663  112.620186 104.46165  104.961655 120.72212   95.59607\n",
            " 111.743614 125.712944 108.833046 108.78613   96.63077   96.63077\n",
            " 121.25458  101.88077  102.00577  115.54154  102.00577  124.587845\n",
            "  94.7292    94.7292   100.10422   99.97922  100.10422  125.53749\n",
            " 124.165474 102.73649  102.79816  127.889404 110.886284 113.14995\n",
            " 105.44906  104.82406   99.32403  108.19906  113.82406   94.5827\n",
            "  91.10386   98.593216 108.52117  108.64617  128.35924  113.52119\n",
            " 110.7491   108.39617  108.64617  129.2544   126.639404 102.71061\n",
            " 102.17374  113.36744  110.90044  112.63942  117.55787  117.682816\n",
            " 113.932884 105.01748  106.81788  106.61596  129.2544   103.028244\n",
            " 116.22311  108.78598  117.68287  111.55604  121.98815  129.92235\n",
            " 111.36107  118.86104  117.11105  111.36107  112.771164 100.64619\n",
            " 124.80746  114.72357  109.77117  129.89072  113.39617  116.95749\n",
            " 117.3815   114.65636  116.81711  118.21879  128.70639  126.79728\n",
            " 127.96492  122.923256 126.07223  118.22589  119.10089  121.22589\n",
            " 130.16402  107.6216   102.1216   108.3716    93.37158  116.01489\n",
            " 121.389885 116.01489  116.01489  104.805115 118.18014  111.30513\n",
            " 104.805115 107.785965  99.03597  107.78596  108.28596  127.3287\n",
            " 120.89563  127.47904  116.108444 115.93949  121.8405   104.83248\n",
            " 108.62692  104.712234 107.091324  98.83948  112.33672  125.426125\n",
            " 122.53361  107.55997  103.37557  116.147285]\n"
          ],
          "name": "stdout"
        }
      ]
    },
    {
      "cell_type": "markdown",
      "metadata": {
        "id": "XvL-Iq27vpZv"
      },
      "source": [
        "If we plot a Histogram with 15 bins for example, we can see that the Gower score increases from left to right. We can assume that those data points closest to the score of 90 should be the most similar to each other.\n",
        "\n",
        "Conversely, we can also assume that those data points closest to the score of 130, should be the least similar.\n",
        "\n"
      ]
    },
    {
      "cell_type": "code",
      "metadata": {
        "colab": {
          "base_uri": "https://localhost:8080/",
          "height": 295
        },
        "id": "3u6BfmEdv2Ka",
        "outputId": "77ea429d-7906-4e38-ee89-354d02b1214f"
      },
      "source": [
        "####################################################################\n",
        "import matplotlib.pyplot as plt\n",
        "plt.hist(sum_similar, bins=15)\n",
        "plt.title('HISTOGRAM OF GOWER SCORES')\n",
        "plt.xlabel('Scores')\n",
        "plt.ylabel('Number of Data Points')\n",
        "plt.show()\n",
        "####################################################################"
      ],
      "execution_count": 156,
      "outputs": [
        {
          "output_type": "display_data",
          "data": {
            "image/png": "[encoded data removed]",
            "text/plain": [
              "<Figure size 432x288 with 1 Axes>"
            ]
          },
          "metadata": {
            "tags": [],
            "needs_background": "light"
          }
        }
      ]
    },
    {
      "cell_type": "markdown",
      "metadata": {
        "id": "wSBkmYhs1QlR"
      },
      "source": [
        "### SECTION 2.1.1.1: DATA POINTS WITH SMALLEST GOWER SCORES\n",
        "Suppose we get the indices of the 15 data points with lowest Gower scores close to 90, what would the variables of these data points look like?\n",
        "The code is provided below. "
      ]
    },
    {
      "cell_type": "code",
      "metadata": {
        "colab": {
          "base_uri": "https://localhost:8080/"
        },
        "id": "KURM4tz_4hYW",
        "outputId": "23f00ab8-7114-4ebb-b279-c29fa37f59eb"
      },
      "source": [
        "K=15\n",
        "features= [\"Type of infrastructure component/features of interest\",\n",
        "           \"Rate the sanitary state of the identified feature\",\n",
        "           \"What is the main source of drinking water in the area?\",\n",
        "           \"Are water treatment methods observed in the area?\",\n",
        "           \"If yes, what water treatment method is used? If no, why?\"]\n",
        "\n",
        "####################################################################\n",
        "# Out of 244 data points, find the indices of the first K points \n",
        "# with SMALLEST Gower value (i.e most similar)\n",
        "####################################################################\n",
        "FIRST_K_SMALLEST_IDX=np.sort(np.argpartition(sum_similar,K)[:K])\n",
        "\n",
        "# Print the responses\n",
        "print(\"***************************************\")\n",
        "for i in FIRST_K_SMALLEST_IDX:\n",
        "  for j in features:\n",
        "    print(x_y_z_sanitation_data.loc[i,j])\n",
        "  print(\"***************************************\")\n",
        "####################################################################"
      ],
      "execution_count": 152,
      "outputs": [
        {
          "output_type": "stream",
          "text": [
            "***************************************\n",
            "Run off water/sewer line\n",
            "4\n",
            "Borehole\n",
            "YES\n",
            "Chlorination\n",
            "***************************************\n",
            "Run off water/sewer line\n",
            "4\n",
            "Borehole\n",
            "YES\n",
            "Chlorination\n",
            "***************************************\n",
            "Run off water/sewer line\n",
            "4\n",
            "Borehole\n",
            "YES\n",
            "Chlorination\n",
            "***************************************\n",
            "Run off water/sewer line\n",
            "4\n",
            "Borehole\n",
            "YES\n",
            "Chlorination\n",
            "***************************************\n",
            "Run off water/sewer line\n",
            "4\n",
            "Borehole\n",
            "YES\n",
            "Chlorination\n",
            "***************************************\n",
            "Run off water/sewer line\n",
            "5\n",
            "Borehole\n",
            "YES\n",
            "Chlorination\n",
            "***************************************\n",
            "Run off water/sewer line\n",
            "5\n",
            "Borehole\n",
            "YES\n",
            "Chlorination\n",
            "***************************************\n",
            "Run off water/sewer line\n",
            "5\n",
            "Borehole\n",
            "YES\n",
            "Chlorination\n",
            "***************************************\n",
            "Run off water/sewer line\n",
            "5\n",
            "Borehole\n",
            "YES\n",
            "Chlorination\n",
            "***************************************\n",
            "Public/shared toilets\n",
            "4\n",
            "Borehole\n",
            "YES\n",
            "Chlorination\n",
            "***************************************\n",
            "Run off water/sewer line\n",
            "5\n",
            "Borehole\n",
            "YES\n",
            "Chlorination\n",
            "***************************************\n",
            "Run off water/sewer line\n",
            "5\n",
            "Borehole\n",
            "YES\n",
            "Chlorination\n",
            "***************************************\n",
            "Community water point\n",
            "4\n",
            "Tap\n",
            "YES\n",
            "Chlorination\n",
            "***************************************\n",
            "Community water point\n",
            "4\n",
            "Tap water\n",
            "YES\n",
            "Chlorination\n",
            "***************************************\n",
            "Water storage tank\n",
            "3\n",
            "Borehole\n",
            "YES\n",
            "Chlorination\n",
            "***************************************\n"
          ],
          "name": "stdout"
        }
      ]
    },
    {
      "cell_type": "markdown",
      "metadata": {
        "id": "KZ3WiN7nyR6N"
      },
      "source": [
        "The rabove esults were then analysed using the [Word Frequency counter](http://www.writewords.org.uk/word_count.asp) with the following output:"
      ]
    },
    {
      "cell_type": "code",
      "metadata": {
        "colab": {
          "base_uri": "https://localhost:8080/",
          "height": 52
        },
        "id": "9mVYhU7jyIjp",
        "outputId": "64c305fb-97c3-407d-8e69-0e0fc253d936"
      },
      "source": [
        "\"\"\"\n",
        "15 yes\n",
        "15 water\n",
        "15 chlorination\n",
        "13 borehole\n",
        "11 sewer\n",
        "11 run\n",
        "11 off\n",
        "11 line\n",
        "8: 4\n",
        "6: 5\n",
        "3: 1\n",
        "2 tap\n",
        "2 point\n",
        "2 community\n",
        "1 toilets\n",
        "1 tank\n",
        "1 storage\n",
        "1 shared\n",
        "1 public\n",
        "\"\"\""
      ],
      "execution_count": 153,
      "outputs": [
        {
          "output_type": "execute_result",
          "data": {
            "application/vnd.google.colaboratory.intrinsic+json": {
              "type": "string"
            },
            "text/plain": [
              "'\\n15 yes\\n15 water\\n15 chlorination\\n13 borehole\\n11 sewer\\n11 run\\n11 off\\n11 line\\n8: 4\\n6: 5\\n1: 3\\n2 tap\\n2 point\\n2 community\\n1 toilets\\n1 tank\\n1 storage\\n1 shared\\n1 public\\n'"
            ]
          },
          "metadata": {
            "tags": []
          },
          "execution_count": 153
        }
      ]
    },
    {
      "cell_type": "markdown",
      "metadata": {
        "id": "0jHHmadakXHa"
      },
      "source": [
        "The above results suggest that: \n",
        "\n",
        "A) There is high similarity between the words \"yes\", \"water\", and \"chlorination\" sitting at level 15/15 (100% of the cases)\n",
        "\n",
        "B) There is also high similarity between the words, \"sewer\", \"run\", \"off\", \"line\" sitting at level 11/15 (73.33% of the cases)\n",
        "\n",
        "C) \"borehole\" is somewhere between A and B, sitting at 13/15 (86.67% of the cases)\n",
        "\n",
        "**This means that, using Gower's similarity matrix, we can conclude that these people chlorinate their water 100% of the time, their most common source of water are boreholes, and the main infrastructure features of interest are the Run-off water/sewer lines**"
      ]
    },
    {
      "cell_type": "markdown",
      "metadata": {
        "id": "i6rgCcQFHvux"
      },
      "source": [
        "### SECTION 2.1.1.2: DATA POINTS WITH LARGEST GOWER SCORES\n",
        "Suppose we repeat the experiment with 15  other data points closest to the Gower score of 130 in the HISTOGRAM OF GOWER SCORES, what would the variables of these data points look like?\n",
        "The code is provided below. \n",
        "\n"
      ]
    },
    {
      "cell_type": "code",
      "metadata": {
        "colab": {
          "base_uri": "https://localhost:8080/"
        },
        "id": "FTELWC1MIE72",
        "outputId": "7cd914c0-f163-400f-b9fe-6a44d794e589"
      },
      "source": [
        "####################################################################\n",
        "# Out of 244 data points, find the indices of the first K points \n",
        "# with LARGEST Gower value (i.e most similar)\n",
        "####################################################################\n",
        "FIRST_K_LARGEST_IDX=np.sort(np.argpartition(-sum_similar,K)[:K])\n",
        "\n",
        "\n",
        "# Print the responses\n",
        "print(\"***************************************\")\n",
        "for i in FIRST_K_LARGEST_IDX:\n",
        "  for j in features:\n",
        "    print(x_y_z_sanitation_data.loc[i,j])\n",
        "  print(\"***************************************\")\n",
        "####################################################################"
      ],
      "execution_count": 154,
      "outputs": [
        {
          "output_type": "stream",
          "text": [
            "***************************************\n",
            "Manhole\n",
            "1\n",
            "Storage tank\n",
            "NO\n",
            "They have no idea\n",
            "***************************************\n",
            "Manhole\n",
            "1\n",
            "Running tap\n",
            "NO\n",
            "No storage tanks\n",
            "***************************************\n",
            "Run off water/sewer line\n",
            "2\n",
            "Tap water\n",
            "YES\n",
            "Boiling water\n",
            "***************************************\n",
            "Solid waste site\n",
            "1\n",
            "Storage tank\n",
            "NO\n",
            "Not sure if treated\n",
            "***************************************\n",
            "Open water bodies\n",
            "1\n",
            "Non\n",
            "NO\n",
            "There are none\n",
            "***************************************\n",
            "Solid waste site\n",
            "1\n",
            "Non \n",
            "NO\n",
            "None\n",
            "***************************************\n",
            "Solid waste site\n",
            "1\n",
            "Non \n",
            "NO\n",
            "None\n",
            "***************************************\n",
            "Solid waste site\n",
            "1\n",
            "Tap water \n",
            "NO\n",
            "None\n",
            "***************************************\n",
            "Manhole\n",
            "1\n",
            "Storage tank\n",
            "NO\n",
            "Not sure says its from the city council\n",
            "***************************************\n",
            "Solid waste site\n",
            "2\n",
            "Tap from olerai \n",
            "NO\n",
            "None\n",
            "***************************************\n",
            "Open water bodies\n",
            "3\n",
            "Tap water \n",
            "NO\n",
            "None \n",
            "***************************************\n",
            "Open water bodies\n",
            "3\n",
            "Bottle water\n",
            "NO\n",
            "Not sure\n",
            "***************************************\n",
            "Solid waste site\n",
            "1\n",
            "None\n",
            "NO\n",
            "No water point observed\n",
            "***************************************\n",
            "Solid waste site\n",
            "1\n",
            "Community water tank \n",
            "NO\n",
            "None \n",
            "***************************************\n",
            "Solid waste site\n",
            "1\n",
            "Water vendor\n",
            "NO\n",
            "The vendor is unaware\n",
            "***************************************\n"
          ],
          "name": "stdout"
        }
      ]
    },
    {
      "cell_type": "markdown",
      "metadata": {
        "id": "eBecjHLMkudn"
      },
      "source": [
        "Once again, the results were analysed using the Word Frequency Counter with the following output:"
      ]
    },
    {
      "cell_type": "code",
      "metadata": {
        "colab": {
          "base_uri": "https://localhost:8080/",
          "height": 69
        },
        "id": "PWtH_l43zIJV",
        "outputId": "a86f6bb5-2d19-4a4d-a455-a3780473597c"
      },
      "source": [
        "\"\"\"\n",
        "17 no (over 100%. Meaning 2 NOs were given to wrong questions)\n",
        "12 water\n",
        "1:11\n",
        "8 waste\n",
        "8 solid\n",
        "8 site\n",
        "8 none\n",
        "5 tap\n",
        "4 tank\n",
        "4 storage\n",
        "3 sure\n",
        "3 open\n",
        "3 not\n",
        "3 non\n",
        "3 manhole\n",
        "3 bodies\n",
        "2: 2\n",
        "3: 2\n",
        "2 vendor\n",
        "2 the\n",
        "2 from\n",
        "1 yes\n",
        "1 unaware\n",
        "1 treated\n",
        "1 they\n",
        "1 there\n",
        "1 tanks\n",
        "1 sewer\n",
        "1 says\n",
        "1 running\n",
        "1 run\n",
        "1 point\n",
        "1 olerai\n",
        "1 off\n",
        "1 observed\n",
        "1 line\n",
        "1 its\n",
        "1 is\n",
        "1 if\n",
        "1 idea\n",
        "1 have\n",
        "1 council\n",
        "1 community\n",
        "1 city\n",
        "1 bottle\n",
        "1 boiling\n",
        "1 are\n",
        "\"\"\""
      ],
      "execution_count": 155,
      "outputs": [
        {
          "output_type": "execute_result",
          "data": {
            "application/vnd.google.colaboratory.intrinsic+json": {
              "type": "string"
            },
            "text/plain": [
              "'\\n17 no (over 100%. Meaning 2 NOs were given to wrong questions)\\n12 water\\n11:1\\n8 waste\\n8 solid\\n8 site\\n8 none\\n5 tap\\n4 tank\\n4 storage\\n3 sure\\n3 open\\n3 not\\n3 non\\n3 manhole\\n3 bodies\\n2: 2\\n3: 2\\n2 vendor\\n2 the\\n2 from\\n1 yes\\n1 unaware\\n1 treated\\n1 they\\n1 there\\n1 tanks\\n1 sewer\\n1 says\\n1 running\\n1 run\\n1 point\\n1 olerai\\n1 off\\n1 observed\\n1 line\\n1 its\\n1 is\\n1 if\\n1 idea\\n1 have\\n1 council\\n1 community\\n1 city\\n1 bottle\\n1 boiling\\n1 are\\n'"
            ]
          },
          "metadata": {
            "tags": []
          },
          "execution_count": 155
        }
      ]
    },
    {
      "cell_type": "markdown",
      "metadata": {
        "id": "LCW_vM5d-XSz"
      },
      "source": [
        "The above results suggest that:\n",
        "\n",
        "The most similar words are \"waste\", \"solid\", \"site\", and \"none\" sitting at level 8/15. This means the infrastructure component of interest are Solid waste sites in 53.33% of the cases.\n",
        "\n",
        "Apart from that, there isn't much that can be said about the results.\n",
        "\n",
        "\n"
      ]
    },
    {
      "cell_type": "markdown",
      "metadata": {
        "id": "nVochiUCNYDn"
      },
      "source": [
        "**The results from SECTION 2.1.1.1 and SECTION 2.1.1.2 confirm Gower's similarity matrix in that, the closer the data points' score is to 0, the higher the similarity between the data points**"
      ]
    },
    {
      "cell_type": "markdown",
      "metadata": {
        "id": "ukyidmkXRbvW"
      },
      "source": [
        "### SECTION 2.1.2: GOWER'S SIMILARITY AND SANITARY RATES\n",
        "\n",
        "SECTION 2.1.1 Demonstrated how Gower's Sanitary Matrix can be used to determine data points with highest similarity. In other words, the variables in them tend to be common among data points. This section will explore the possibility of using Gower's Sanitary Matrix to determine the relation between data points and their corresponding features.\n",
        "\n",
        "Refer to the following subset of features, which form the columns of the **xyz_sanitation_data** dataframe. The X, Y and Z coordinates will not be considered for now."
      ]
    },
    {
      "cell_type": "code",
      "metadata": {
        "id": "8I9s9QrCX1jO"
      },
      "source": [
        "features= [\"Type of infrastructure component/features of interest\",\n",
        "           \"Rate the sanitary state of the identified feature\",\n",
        "           \"What is the main source of drinking water in the area?\",\n",
        "           \"Are water treatment methods observed in the area?\",\n",
        "           \"If yes, what water treatment method is used? If no, why?\"]"
      ],
      "execution_count": null,
      "outputs": []
    },
    {
      "cell_type": "markdown",
      "metadata": {
        "id": "YmzKfcL6Y-Wa"
      },
      "source": [
        "We are interested in know the following relations:\n",
        "\n",
        "CASE1: \"Rate the sanitary state of the identified feature\" VS Type of infrastructure component/features of interest\"\n",
        "\n",
        "CASE2: \"Rate the sanitary state of the identified feature\" VS \"What is the main source of drinking water in the area?\"\n",
        "\n",
        "CASE3: \"Rate the sanitary state of the identified feature\" VS \"Are water treatment methods observed in the area?\"\n",
        "\n",
        "CASE4: \"Rate the sanitary state of the identified feature\" VS \"If yes, what water treatment method is used? If no, why?\"]\n",
        "\n",
        "\n",
        "**The following Algorithm is identical to SECTION 2.1.1 where it was detailed. The only difference is that the value of K is manually changed in increments of 1 from 1 until 100% similarity is achieved. This ofcourse, could be done more effectivelly using loops for example**"
      ]
    },
    {
      "cell_type": "markdown",
      "metadata": {
        "id": "86kbdE5yqHqi"
      },
      "source": [
        "======================================================================================================================================================================================================================================"
      ]
    },
    {
      "cell_type": "markdown",
      "metadata": {
        "id": "3uh1p7HHbHFB"
      },
      "source": [
        "SECTION 2.1.2.1: CASE 1: \"RATE THE SANITARY STATE OF THE IDENTIFIED FEATURE\" VS \"TYPE OF INFRASTRUCTURE COMPONENT/FEATURES OF INTEREST\"\n"
      ]
    },
    {
      "cell_type": "code",
      "metadata": {
        "colab": {
          "base_uri": "https://localhost:8080/",
          "height": 295
        },
        "id": "WP_KxjopZyEk",
        "outputId": "b3e19b1c-4ccc-4d65-a347-7ab719f9c0d7"
      },
      "source": [
        "CASE1 = pd.DataFrame()\n",
        "CASE1 = x_y_z_sanitation_data[[\"Rate the sanitary state of the identified feature\",\"Type of infrastructure component/features of interest\"]]\n",
        "CASE1_SIMILARITY_MATRIX=gower.gower_matrix(CASE1)\n",
        "CASE1_SUM_SIMILAR=np.sum(CASE1_SIMILARITY_MATRIX,axis=0) \n",
        "\n",
        "\n",
        "import matplotlib.pyplot as plt\n",
        "plt.hist(CASE1_SUM_SIMILAR, bins=15)\n",
        "plt.title('CASE1: HISTOGRAM OF GOWER SCORES')\n",
        "plt.xlabel('Scores')\n",
        "plt.ylabel('Number of Data Points')\n",
        "plt.show()"
      ],
      "execution_count": 246,
      "outputs": [
        {
          "output_type": "display_data",
          "data": {
            "image/png": "[encoded data removed]",
            "text/plain": [
              "<Figure size 432x288 with 1 Axes>"
            ]
          },
          "metadata": {
            "tags": [],
            "needs_background": "light"
          }
        }
      ]
    },
    {
      "cell_type": "code",
      "metadata": {
        "colab": {
          "base_uri": "https://localhost:8080/"
        },
        "id": "CfikGtZIlLv4",
        "outputId": "106a2964-f78b-4c93-fc99-974f25e9b61a"
      },
      "source": [
        "K=8\n",
        "features= [\"Type of infrastructure component/features of interest\",\n",
        "           \"Rate the sanitary state of the identified feature\"]\n",
        "\n",
        "####################################################################\n",
        "# Out of 244 data points, find the indices of the first K points \n",
        "# with SMALLEST Gower value (i.e most similar)\n",
        "####################################################################\n",
        "CASE1_FIRST_K_SMALLEST_IDX=np.sort(np.argpartition(CASE1_SUM_SIMILAR,K)[:K])\n",
        "\n",
        "# Print the responses\n",
        "print(\"***************************************\")\n",
        "for i in CASE1_FIRST_K_SMALLEST_IDX:\n",
        "  \n",
        "  for j in features:\n",
        "    print(CASE1.loc[i,j])\n",
        "  print(\"***************************************\")\n",
        "\n",
        "####################################################################"
      ],
      "execution_count": 247,
      "outputs": [
        {
          "output_type": "stream",
          "text": [
            "***************************************\n",
            "Run off water/sewer line\n",
            "4\n",
            "***************************************\n",
            "Run off water/sewer line\n",
            "4\n",
            "***************************************\n",
            "Run off water/sewer line\n",
            "4\n",
            "***************************************\n",
            "Run off water/sewer line\n",
            "4\n",
            "***************************************\n",
            "Run off water/sewer line\n",
            "4\n",
            "***************************************\n",
            "Run off water/sewer line\n",
            "4\n",
            "***************************************\n",
            "Run off water/sewer line\n",
            "4\n",
            "***************************************\n",
            "Run off water/sewer line\n",
            "4\n",
            "***************************************\n"
          ],
          "name": "stdout"
        }
      ]
    },
    {
      "cell_type": "markdown",
      "metadata": {
        "id": "_4daumBWpqh4"
      },
      "source": [
        "**The above results show that the highest similarity is maintained between Run-off water / Sewer lines and Sanitary rate of 4 when the value of K goes from 1 to 8 inclusivelly.**"
      ]
    },
    {
      "cell_type": "markdown",
      "metadata": {
        "id": "vlj_F_CwkmQ-"
      },
      "source": [
        "======================================================================================================================================================================================================================================"
      ]
    },
    {
      "cell_type": "markdown",
      "metadata": {
        "id": "iRkJ1KgRrB71"
      },
      "source": [
        "SECTION 2.1.2.2: CASE2: \"RATE THE SANITARY STATE OF THE IDENTIFIED FEATURE\" VS \"WHAT IS THE MAIN SOURCE OF DRINKING WATER IN THE AREA?\"\n"
      ]
    },
    {
      "cell_type": "code",
      "metadata": {
        "colab": {
          "base_uri": "https://localhost:8080/",
          "height": 295
        },
        "id": "2bRbpOWVsEA1",
        "outputId": "bb98f19a-2466-45ad-8074-35378e019c3f"
      },
      "source": [
        "CASE2 = pd.DataFrame()\n",
        "CASE2 = x_y_z_sanitation_data[[\"Rate the sanitary state of the identified feature\",\"What is the main source of drinking water in the area?\"]]\n",
        "CASE2_SIMILARITY_MATRIX=gower.gower_matrix(CASE2)\n",
        "CASE2_SUM_SIMILAR=np.sum(CASE2_SIMILARITY_MATRIX,axis=0) \n",
        "\n",
        "\n",
        "import matplotlib.pyplot as plt\n",
        "plt.hist(CASE2_SUM_SIMILAR, bins=15)\n",
        "plt.title('CASE2: HISTOGRAM OF GOWER SCORES')\n",
        "plt.xlabel('Scores')\n",
        "plt.ylabel('Number of Data Points')\n",
        "plt.show()"
      ],
      "execution_count": 248,
      "outputs": [
        {
          "output_type": "display_data",
          "data": {
            "image/png": "[encoded data removed]",
            "text/plain": [
              "<Figure size 432x288 with 1 Axes>"
            ]
          },
          "metadata": {
            "tags": [],
            "needs_background": "light"
          }
        }
      ]
    },
    {
      "cell_type": "code",
      "metadata": {
        "id": "6gfrnHiksjjA"
      },
      "source": [
        "K=13\n",
        "features= [\"Rate the sanitary state of the identified feature\",\n",
        "           \"What is the main source of drinking water in the area?\"]\n",
        "\n",
        "####################################################################\n",
        "# Out of 244 data points, find the indices of the first K points \n",
        "# with SMALLEST Gower value (i.e most similar)\n",
        "####################################################################\n",
        "CASE2_FIRST_K_SMALLEST_IDX=np.sort(np.argpartition(CASE2_SUM_SIMILAR,K)[:K])\n",
        "\n",
        "# Print the responses\n",
        "#print(\"***************************************\")\n",
        "for i in CASE2_FIRST_K_SMALLEST_IDX:\n",
        "  for j in features:\n",
        "    print(CASE2.loc[i,j])\n",
        "#  print(\"***************************************\")\n",
        "\n",
        "####################################################################"
      ],
      "execution_count": null,
      "outputs": []
    }
  ]
}